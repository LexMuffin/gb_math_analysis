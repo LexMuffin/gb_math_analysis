{
 "cells": [
  {
   "cell_type": "markdown",
   "metadata": {},
   "source": [
    "# Тема “Теоремы о пределах”"
   ]
  },
  {
   "cell_type": "markdown",
   "metadata": {},
   "source": [
    "Найти предел:"
   ]
  },
  {
   "cell_type": "markdown",
   "metadata": {},
   "source": [
    "d) $$ \\lim_{x \\to \\infty} (\\frac{4x + 3}{4x - 3})^{6x} $$"
   ]
  },
  {
   "cell_type": "markdown",
   "metadata": {},
   "source": [
    "$$ \\lim_{x \\to \\infty} (\\frac{4x + 3}{4x - 3})^{6x} = \\lim_{x \\to \\infty} (1 + \\frac{6}{4x-3})^{6x} =\n",
    "\\lim_{x \\to \\infty} ((1 + \\frac{6}{4x-3})^\\frac{4x-3}{6})^\\frac{36x}{4x-3} = \\lim_{x \\to \\infty} e^\\frac{36x}{4x-3} = \\lim_{x \\to \\infty} e^{9 + \\frac{27}{4x-3}} = e^9 $$"
   ]
  },
  {
   "cell_type": "markdown",
   "metadata": {},
   "source": [
    "e) $$ \\lim_{x \\to \\infty} \\frac{sin(x) + ln(x)}{x} $$"
   ]
  },
  {
   "cell_type": "markdown",
   "metadata": {},
   "source": [
    "$$ \\lim_{x \\to \\infty} \\frac{sin(x) + ln(x)}{x} = \\lim_{x \\to \\infty} \\frac{sin(x)}{x} + \\lim_{x \\to \\infty} \\frac{ln(x)}{x} = 0 + \\lim_{x \\to \\infty} \\frac{ln(x)}{x} = \\lim_{x \\to \\infty} \\frac{\\frac{1}{x}}{1} = \\lim_{x \\to \\infty} \\frac{1}{x} = 0$$"
   ]
  },
  {
   "cell_type": "markdown",
   "metadata": {},
   "source": [
    "f) $$ \\lim_{x \\to 0} \\frac{sin(x) + ln(x)}{x} $$"
   ]
  },
  {
   "cell_type": "markdown",
   "metadata": {},
   "source": [
    "$$ \\lim_{x \\to 0} \\frac{sin(x) + ln(x)}{x} = \\lim_{x \\to 0} \\frac{sin(x)}{x} + \\lim_{x \\to 0} \\frac{ln(x)}{x} = 1 + \\lim_{x \\to 0} \\frac{ln(x)}{x} $$ \\\n",
    "$$ предел стремится к -\\infty при x>0 или не определен $$"
   ]
  },
  {
   "cell_type": "markdown",
   "metadata": {},
   "source": [
    "# Тема 6 “Понятие о производной”"
   ]
  },
  {
   "cell_type": "markdown",
   "metadata": {},
   "source": [
    "Найти производную выражения:"
   ]
  },
  {
   "cell_type": "markdown",
   "metadata": {},
   "source": [
    "a) $$ f(x) = ln(2x+1)^3 $$"
   ]
  },
  {
   "cell_type": "markdown",
   "metadata": {},
   "source": [
    "$$ f'(x) = \\frac{1}{(2x+1)^3} * 3(2x+1)^2 *2 $$"
   ]
  },
  {
   "cell_type": "markdown",
   "metadata": {},
   "source": [
    "b) $$ f(x) = \\sqrt{\\sin^2{ln(x^3)}} $$"
   ]
  },
  {
   "cell_type": "markdown",
   "metadata": {},
   "source": [
    "$$ f(x) = (\\sin^2(ln(x^3)))^\\frac{1}{2} $$ \\\n",
    "$$ f'(x) = \\frac{1}{2}(\\sin^2(ln(x^3)))^\\frac{-1}{2} * 2\\sin(ln(x^3)) * \\cos(ln(x^3)) * \\frac{1}{x^3} * 3x^2 $$"
   ]
  },
  {
   "cell_type": "markdown",
   "metadata": {},
   "source": [
    "c) $$ f(x) = \\frac{x^4}{ln(x)} $$"
   ]
  },
  {
   "cell_type": "markdown",
   "metadata": {},
   "source": [
    "$$ f'(x) = \\frac{4x^3ln(x) - \\frac{1}{x}x^4}{\\ln^2(x)} = \\frac{4x^3ln(x) - x^3}{\\ln^2(x)} $$"
   ]
  },
  {
   "cell_type": "markdown",
   "metadata": {},
   "source": [
    "d) $$ f(x) = \\sin(x) * \\cos(x) $$"
   ]
  },
  {
   "cell_type": "markdown",
   "metadata": {},
   "source": [
    "$$ f'(x) = \\cos(x) * \\cos(x) + \\sin(x) * (-\\sin(x)) = \\cos^2(x) - \\sin^2(x) = \\cos(2x) $$"
   ]
  },
  {
   "cell_type": "code",
   "execution_count": null,
   "metadata": {},
   "outputs": [],
   "source": []
  }
 ],
 "metadata": {
  "kernelspec": {
   "display_name": "Python 3",
   "language": "python",
   "name": "python3"
  },
  "language_info": {
   "codemirror_mode": {
    "name": "ipython",
    "version": 3
   },
   "file_extension": ".py",
   "mimetype": "text/x-python",
   "name": "python",
   "nbconvert_exporter": "python",
   "pygments_lexer": "ipython3",
   "version": "3.8.3"
  }
 },
 "nbformat": 4,
 "nbformat_minor": 4
}
