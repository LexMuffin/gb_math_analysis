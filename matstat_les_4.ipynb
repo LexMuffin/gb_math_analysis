{
 "cells": [
  {
   "cell_type": "code",
   "execution_count": 10,
   "metadata": {},
   "outputs": [],
   "source": [
    "import math\n",
    "import numpy as np"
   ]
  },
  {
   "cell_type": "markdown",
   "metadata": {},
   "source": [
    "Задание 1\n",
    "Случайная непрерывная величина A имеет равномерное распределение на промежутке (200, 800].\n",
    "Найдите ее среднее значение и дисперсию."
   ]
  },
  {
   "cell_type": "code",
   "execution_count": 11,
   "metadata": {},
   "outputs": [
    {
     "name": "stdout",
     "output_type": "stream",
     "text": [
      "Среднее значение - 500.0\n",
      "Дисперсия - 30000.0\n"
     ]
    }
   ],
   "source": [
    "a = 200\n",
    "b = 800\n",
    "\n",
    "M = (a + b) / 2\n",
    "D = (b - a)**2 / 12\n",
    "\n",
    "print(f'Среднее значение - {M}')\n",
    "print(f'Дисперсия - {D}')"
   ]
  },
  {
   "cell_type": "markdown",
   "metadata": {},
   "source": [
    "Задание 2\n",
    "О случайной непрерывной равномерно распределенной величине B известно, что ее дисперсия равна 0.2.\n",
    "Можно ли найти правую границу величины B и ее среднее значение зная, что левая граница равна 0.5?\n",
    "Если да, найдите ее."
   ]
  },
  {
   "cell_type": "code",
   "execution_count": 12,
   "metadata": {},
   "outputs": [
    {
     "name": "stdout",
     "output_type": "stream",
     "text": [
      "Правая граница - 2.049\n",
      "Среднее значение - 1.274\n"
     ]
    }
   ],
   "source": [
    "D = 0.2\n",
    "a = 0.5\n",
    "\n",
    "# округлил, чтобы циферки красиво выглядели, но может быть это конечно не совсем правильно\n",
    "b = round(math.sqrt(D * 12) + a, 3)\n",
    "M = round((a + b) / 2, 3)\n",
    "\n",
    "print(f'Правая граница - {b}')\n",
    "print(f'Среднее значение - {M}')"
   ]
  },
  {
   "cell_type": "markdown",
   "metadata": {},
   "source": [
    "Задание 3\n",
    "Непрерывная случайная величина X распределена нормально и задана плотностью распределения\n",
    "f(x) = (1 / (4 * sqrt(2*pi))) * (exp(-(x+2)**2) / 32).\n",
    "Найдите:\n",
    "а). M(X)\n",
    "б). D(X)\n",
    "в). std(X) (среднее квадратичное отклонение)"
   ]
  },
  {
   "cell_type": "code",
   "execution_count": 17,
   "metadata": {},
   "outputs": [
    {
     "name": "stdout",
     "output_type": "stream",
     "text": [
      "Среднее значение - -2\n",
      "Дисперсия - 16\n",
      "Среднее квадратичное отклонение - 4\n"
     ]
    }
   ],
   "source": [
    "x = np.linspace(-1, 1, 101)\n",
    "\n",
    "std = 4 # среднее квадратичное отклонение\n",
    "a = -2\n",
    "\n",
    "# a = -2 => M = a\n",
    "M = a\n",
    "D = std**2\n",
    "\n",
    "\n",
    "f = (1 / (4 * math.sqrt(2*np.pi))) * (np.exp(-(x+2)*2) / 32)\n",
    "\n",
    "print(f'Среднее значение - {M}')\n",
    "print(f'Дисперсия - {D}')\n",
    "print(f'Среднее квадратичное отклонение - {std}')\n"
   ]
  },
  {
   "cell_type": "markdown",
   "metadata": {},
   "source": [
    "Задание 4\n",
    "Рост взрослого населения города X имеет нормальное распределение.\n",
    "Причем, средний рост равен 174 см, а среднее квадратичное отклонение равно 8 см.\n",
    "Какова вероятность того, что случайным образом выбранный взрослый человек имеет рост:\n",
    "а). больше 182 см\n",
    "б). больше 190 см\n",
    "в). от 166 см до 190 см\n",
    "г). от 166 см до 182 см\n",
    "д). от 158 см до 190 см\n",
    "е). не выше 150 см или не ниже 190 см\n",
    "ё). не выше 150 см или не ниже 198 см\n",
    "ж). ниже 166 см."
   ]
  },
  {
   "cell_type": "code",
   "execution_count": 37,
   "metadata": {},
   "outputs": [
    {
     "name": "stdout",
     "output_type": "stream",
     "text": [
      "Ф по верхней границе - 1.0\n",
      "Ф по нижней границе - inf\n",
      "Вероятность роста больше 182 см - 0.1587\n",
      "Ф по верхней границе - inf\n",
      "Ф по нижней границе - 2.0\n",
      "Вероятность роста больше 190 см - 0.022699999999999998\n",
      "Ф по верхней границе - 2.0\n",
      "Ф по нижней границе - -1.0\n",
      "Вероятность роста от 166 см до 190 см - 0.8186\n",
      "Ф по верхней границе - 1.0\n",
      "Ф по нижней границе - -1.0\n",
      "Вероятность роста от 166 см до 182 см - 0.6826\n",
      "Ф по верхней границе - 2.0\n",
      "Ф по нижней границе - -2.0\n",
      "Вероятность роста от 158 см до 190 см - 0.9546\n",
      "Ф по верхней границе - 2.0\n",
      "Ф по нижней границе - -3.0\n",
      "Вероятность роста от 150 см до 190 см - 0.976\n",
      "Ф по верхней границе - 3.0\n",
      "Ф по нижней границе - -3.0\n",
      "Вероятность роста от 150 см до 198 см - 0.9974\n",
      "Ф по верхней границе - -1.0\n",
      "Ф по нижней границе - -inf\n",
      "Вероятность роста меньше 166 см - 0.1587\n"
     ]
    }
   ],
   "source": [
    "M = 174\n",
    "std = 8\n",
    "\n",
    "# а). больше 182 см\n",
    "a = 182\n",
    "b = +math.inf\n",
    "\n",
    "# Ф(182 < x < +inf)\n",
    "upper = (a - M) / std\n",
    "lower = (b - M) / std\n",
    "\n",
    "print(f'Ф по верхней границе - {upper}')\n",
    "print(f'Ф по нижней границе - {lower}')\n",
    "\n",
    "phi_upper = 0.5\n",
    "phi_lower = 0.3413\n",
    "\n",
    "probability = phi_upper - phi_lower\n",
    "\n",
    "print(f'Вероятность роста больше 182 см - {probability}')\n",
    "\n",
    "\n",
    "# б). больше 190 см\n",
    "a = 190\n",
    "b = +math.inf\n",
    "\n",
    "# Ф(190 < x < +inf)\n",
    "upper = (b - M) / std\n",
    "lower = (a - M) / std\n",
    "\n",
    "print(f'Ф по верхней границе - {upper}')\n",
    "print(f'Ф по нижней границе - {lower}')\n",
    "\n",
    "phi_upper = 0.5\n",
    "phi_lower = 0.4773\n",
    "\n",
    "probability = phi_upper - phi_lower\n",
    "\n",
    "print(f'Вероятность роста больше 190 см - {probability}')\n",
    "\n",
    "\n",
    "# в). от 166 см до 190 см\n",
    "a = 166\n",
    "b = 190\n",
    "\n",
    "# Ф(166 < x < 190)\n",
    "upper = (b - M) / std\n",
    "lower = (a - M) / std\n",
    "\n",
    "print(f'Ф по верхней границе - {upper}')\n",
    "print(f'Ф по нижней границе - {lower}')\n",
    "\n",
    "phi_upper = 0.4773\n",
    "phi_lower = -0.3413\n",
    "\n",
    "probability = phi_upper - phi_lower\n",
    "\n",
    "print(f'Вероятность роста от 166 см до 190 см - {probability}')\n",
    "\n",
    "\n",
    "# г). от 166 см до 182 см\n",
    "a = 166\n",
    "b = 182\n",
    "\n",
    "# Ф(166 < x < 182)\n",
    "upper = (b - M) / std\n",
    "lower = (a - M) / std\n",
    "\n",
    "print(f'Ф по верхней границе - {upper}')\n",
    "print(f'Ф по нижней границе - {lower}')\n",
    "\n",
    "phi_upper = 0.3413\n",
    "phi_lower = -0.3413\n",
    "\n",
    "probability = phi_upper - phi_lower\n",
    "\n",
    "print(f'Вероятность роста от 166 см до 182 см - {probability}')\n",
    "\n",
    "\n",
    "# д). от 158 см до 190 см\n",
    "a = 158\n",
    "b = 190\n",
    "\n",
    "# Ф(158 < x < 190)\n",
    "upper = (b - M) / std\n",
    "lower = (a - M) / std\n",
    "\n",
    "print(f'Ф по верхней границе - {upper}')\n",
    "print(f'Ф по нижней границе - {lower}')\n",
    "\n",
    "phi_upper = 0.4773\n",
    "phi_lower = -0.4773\n",
    "\n",
    "probability = phi_upper - phi_lower\n",
    "\n",
    "print(f'Вероятность роста от 158 см до 190 см - {probability}')\n",
    "\n",
    "\n",
    "# е). не выше 150 см или не ниже 190 см\n",
    "a = 150\n",
    "b = 190\n",
    "\n",
    "# Ф(150 < x , x > 190)\n",
    "upper = (b - M) / std\n",
    "lower = (a - M) / std\n",
    "\n",
    "print(f'Ф по верхней границе - {upper}')\n",
    "print(f'Ф по нижней границе - {lower}')\n",
    "\n",
    "phi_upper = 0.4773\n",
    "phi_lower = -0.4987\n",
    "\n",
    "probability = phi_upper - phi_lower\n",
    "\n",
    "print(f'Вероятность роста от 150 см до 190 см - {probability}')\n",
    "\n",
    "# ё). не выше 150 см или не ниже 198 см\n",
    "a = 150\n",
    "b = 198\n",
    "\n",
    "# Ф(150 < x , x > 198)\n",
    "upper = (b - M) / std\n",
    "lower = (a - M) / std\n",
    "\n",
    "print(f'Ф по верхней границе - {upper}')\n",
    "print(f'Ф по нижней границе - {lower}')\n",
    "\n",
    "phi_upper = 0.4987\n",
    "phi_lower = -0.4987\n",
    "\n",
    "probability = phi_upper - phi_lower\n",
    "\n",
    "print(f'Вероятность роста от 150 см до 198 см - {probability}')\n",
    "\n",
    "\n",
    "# ж). ниже 166 см\n",
    "a = -math.inf\n",
    "b = 166\n",
    "\n",
    "# Ф(-inf < x < 166)\n",
    "upper = (b - M) / std\n",
    "lower = (a - M) / std\n",
    "\n",
    "print(f'Ф по верхней границе - {upper}')\n",
    "print(f'Ф по нижней границе - {lower}')\n",
    "\n",
    "phi_upper = -0.3413\n",
    "phi_lower = -0.5\n",
    "\n",
    "probability = phi_upper - phi_lower\n",
    "\n",
    "print(f'Вероятность роста меньше 166 см - {probability}')"
   ]
  },
  {
   "cell_type": "markdown",
   "metadata": {},
   "source": [
    "Задание 5\n",
    "На сколько сигм (средних квадратичных отклонений) отклоняется рост человека, равный 190 см, от\n",
    "математического ожидания роста в популяции, в которой M(X) = 178 см и D(X) = 25 кв.см?"
   ]
  },
  {
   "cell_type": "code",
   "execution_count": 41,
   "metadata": {},
   "outputs": [
    {
     "name": "stdout",
     "output_type": "stream",
     "text": [
      "Рост человека 190 см отклоняется на 2.4 сигм \n"
     ]
    }
   ],
   "source": [
    "height = 190\n",
    "\n",
    "M = 178\n",
    "D = 25\n",
    "\n",
    "std = math.sqrt(D)\n",
    "sigmas = (height - M) / std\n",
    "\n",
    "print(f'Рост человека 190 см отклоняется на {sigmas} сигм ')"
   ]
  }
 ],
 "metadata": {
  "kernelspec": {
   "display_name": "Python 3",
   "language": "python",
   "name": "python3"
  },
  "language_info": {
   "codemirror_mode": {
    "name": "ipython",
    "version": 3
   },
   "file_extension": ".py",
   "mimetype": "text/x-python",
   "name": "python",
   "nbconvert_exporter": "python",
   "pygments_lexer": "ipython3",
   "version": "3.8.3"
  }
 },
 "nbformat": 4,
 "nbformat_minor": 4
}
