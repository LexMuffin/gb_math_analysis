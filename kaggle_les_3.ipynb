{
 "cells": [
  {
   "cell_type": "code",
   "execution_count": 29,
   "metadata": {},
   "outputs": [],
   "source": [
    "import warnings\n",
    "from tqdm import tqdm\n",
    "from typing import List, Tuple\n",
    "\n",
    "import numpy as np\n",
    "import pandas as pd\n",
    "import seaborn as sns\n",
    "import xgboost as xgb\n",
    "import catboost as cb\n",
    "import matplotlib.pyplot as plt\n",
    "from scipy.stats import ttest_rel\n",
    "\n",
    "from sklearn.metrics import roc_auc_score ,r2_score\n",
    "from sklearn.ensemble import RandomForestRegressor\n",
    "from sklearn.model_selection import KFold, StratifiedKFold, train_test_split, cross_val_score\n",
    "warnings.simplefilter(\"ignore\")\n",
    "%matplotlib inline"
   ]
  },
  {
   "cell_type": "code",
   "execution_count": 30,
   "metadata": {},
   "outputs": [],
   "source": [
    "TRAIN_PATH = 'assignment_2_train.csv'\n",
    "TEST_PATH = 'assignment_2_test.csv'\n",
    "TARGET_COLUMN = 'isFraud'"
   ]
  },
  {
   "cell_type": "code",
   "execution_count": 31,
   "metadata": {},
   "outputs": [],
   "source": [
    "train = pd.read_csv(TRAIN_PATH)\n",
    "test = pd.read_csv(TEST_PATH)"
   ]
  },
  {
   "cell_type": "code",
   "execution_count": 32,
   "metadata": {},
   "outputs": [
    {
     "data": {
      "text/html": [
       "<div>\n",
       "<style scoped>\n",
       "    .dataframe tbody tr th:only-of-type {\n",
       "        vertical-align: middle;\n",
       "    }\n",
       "\n",
       "    .dataframe tbody tr th {\n",
       "        vertical-align: top;\n",
       "    }\n",
       "\n",
       "    .dataframe thead th {\n",
       "        text-align: right;\n",
       "    }\n",
       "</style>\n",
       "<table border=\"1\" class=\"dataframe\">\n",
       "  <thead>\n",
       "    <tr style=\"text-align: right;\">\n",
       "      <th></th>\n",
       "      <th>TransactionID</th>\n",
       "      <th>isFraud</th>\n",
       "      <th>TransactionDT</th>\n",
       "      <th>TransactionAmt</th>\n",
       "      <th>ProductCD</th>\n",
       "      <th>card1</th>\n",
       "      <th>card2</th>\n",
       "      <th>card3</th>\n",
       "      <th>card4</th>\n",
       "      <th>card5</th>\n",
       "      <th>...</th>\n",
       "      <th>V330</th>\n",
       "      <th>V331</th>\n",
       "      <th>V332</th>\n",
       "      <th>V333</th>\n",
       "      <th>V334</th>\n",
       "      <th>V335</th>\n",
       "      <th>V336</th>\n",
       "      <th>V337</th>\n",
       "      <th>V338</th>\n",
       "      <th>V339</th>\n",
       "    </tr>\n",
       "  </thead>\n",
       "  <tbody>\n",
       "    <tr>\n",
       "      <th>0</th>\n",
       "      <td>2987000</td>\n",
       "      <td>0</td>\n",
       "      <td>86400</td>\n",
       "      <td>68.50</td>\n",
       "      <td>W</td>\n",
       "      <td>13926</td>\n",
       "      <td>NaN</td>\n",
       "      <td>150.0</td>\n",
       "      <td>discover</td>\n",
       "      <td>142.0</td>\n",
       "      <td>...</td>\n",
       "      <td>NaN</td>\n",
       "      <td>NaN</td>\n",
       "      <td>NaN</td>\n",
       "      <td>NaN</td>\n",
       "      <td>NaN</td>\n",
       "      <td>NaN</td>\n",
       "      <td>NaN</td>\n",
       "      <td>NaN</td>\n",
       "      <td>NaN</td>\n",
       "      <td>NaN</td>\n",
       "    </tr>\n",
       "    <tr>\n",
       "      <th>1</th>\n",
       "      <td>2987001</td>\n",
       "      <td>0</td>\n",
       "      <td>86401</td>\n",
       "      <td>29.00</td>\n",
       "      <td>W</td>\n",
       "      <td>2755</td>\n",
       "      <td>404.0</td>\n",
       "      <td>150.0</td>\n",
       "      <td>mastercard</td>\n",
       "      <td>102.0</td>\n",
       "      <td>...</td>\n",
       "      <td>NaN</td>\n",
       "      <td>NaN</td>\n",
       "      <td>NaN</td>\n",
       "      <td>NaN</td>\n",
       "      <td>NaN</td>\n",
       "      <td>NaN</td>\n",
       "      <td>NaN</td>\n",
       "      <td>NaN</td>\n",
       "      <td>NaN</td>\n",
       "      <td>NaN</td>\n",
       "    </tr>\n",
       "    <tr>\n",
       "      <th>2</th>\n",
       "      <td>2987002</td>\n",
       "      <td>0</td>\n",
       "      <td>86469</td>\n",
       "      <td>59.00</td>\n",
       "      <td>W</td>\n",
       "      <td>4663</td>\n",
       "      <td>490.0</td>\n",
       "      <td>150.0</td>\n",
       "      <td>visa</td>\n",
       "      <td>166.0</td>\n",
       "      <td>...</td>\n",
       "      <td>NaN</td>\n",
       "      <td>NaN</td>\n",
       "      <td>NaN</td>\n",
       "      <td>NaN</td>\n",
       "      <td>NaN</td>\n",
       "      <td>NaN</td>\n",
       "      <td>NaN</td>\n",
       "      <td>NaN</td>\n",
       "      <td>NaN</td>\n",
       "      <td>NaN</td>\n",
       "    </tr>\n",
       "    <tr>\n",
       "      <th>3</th>\n",
       "      <td>2987003</td>\n",
       "      <td>0</td>\n",
       "      <td>86499</td>\n",
       "      <td>50.00</td>\n",
       "      <td>W</td>\n",
       "      <td>18132</td>\n",
       "      <td>567.0</td>\n",
       "      <td>150.0</td>\n",
       "      <td>mastercard</td>\n",
       "      <td>117.0</td>\n",
       "      <td>...</td>\n",
       "      <td>NaN</td>\n",
       "      <td>NaN</td>\n",
       "      <td>NaN</td>\n",
       "      <td>NaN</td>\n",
       "      <td>NaN</td>\n",
       "      <td>NaN</td>\n",
       "      <td>NaN</td>\n",
       "      <td>NaN</td>\n",
       "      <td>NaN</td>\n",
       "      <td>NaN</td>\n",
       "    </tr>\n",
       "    <tr>\n",
       "      <th>4</th>\n",
       "      <td>2987004</td>\n",
       "      <td>0</td>\n",
       "      <td>86506</td>\n",
       "      <td>50.00</td>\n",
       "      <td>H</td>\n",
       "      <td>4497</td>\n",
       "      <td>514.0</td>\n",
       "      <td>150.0</td>\n",
       "      <td>mastercard</td>\n",
       "      <td>102.0</td>\n",
       "      <td>...</td>\n",
       "      <td>0.0</td>\n",
       "      <td>0.0</td>\n",
       "      <td>0.0</td>\n",
       "      <td>0.0</td>\n",
       "      <td>0.0</td>\n",
       "      <td>0.0</td>\n",
       "      <td>0.0</td>\n",
       "      <td>0.0</td>\n",
       "      <td>0.0</td>\n",
       "      <td>0.0</td>\n",
       "    </tr>\n",
       "    <tr>\n",
       "      <th>...</th>\n",
       "      <td>...</td>\n",
       "      <td>...</td>\n",
       "      <td>...</td>\n",
       "      <td>...</td>\n",
       "      <td>...</td>\n",
       "      <td>...</td>\n",
       "      <td>...</td>\n",
       "      <td>...</td>\n",
       "      <td>...</td>\n",
       "      <td>...</td>\n",
       "      <td>...</td>\n",
       "      <td>...</td>\n",
       "      <td>...</td>\n",
       "      <td>...</td>\n",
       "      <td>...</td>\n",
       "      <td>...</td>\n",
       "      <td>...</td>\n",
       "      <td>...</td>\n",
       "      <td>...</td>\n",
       "      <td>...</td>\n",
       "      <td>...</td>\n",
       "    </tr>\n",
       "    <tr>\n",
       "      <th>179995</th>\n",
       "      <td>3166995</td>\n",
       "      <td>0</td>\n",
       "      <td>3958217</td>\n",
       "      <td>39.00</td>\n",
       "      <td>W</td>\n",
       "      <td>1877</td>\n",
       "      <td>310.0</td>\n",
       "      <td>150.0</td>\n",
       "      <td>mastercard</td>\n",
       "      <td>224.0</td>\n",
       "      <td>...</td>\n",
       "      <td>NaN</td>\n",
       "      <td>NaN</td>\n",
       "      <td>NaN</td>\n",
       "      <td>NaN</td>\n",
       "      <td>NaN</td>\n",
       "      <td>NaN</td>\n",
       "      <td>NaN</td>\n",
       "      <td>NaN</td>\n",
       "      <td>NaN</td>\n",
       "      <td>NaN</td>\n",
       "    </tr>\n",
       "    <tr>\n",
       "      <th>179996</th>\n",
       "      <td>3166996</td>\n",
       "      <td>0</td>\n",
       "      <td>3958237</td>\n",
       "      <td>59.95</td>\n",
       "      <td>W</td>\n",
       "      <td>10075</td>\n",
       "      <td>514.0</td>\n",
       "      <td>150.0</td>\n",
       "      <td>mastercard</td>\n",
       "      <td>224.0</td>\n",
       "      <td>...</td>\n",
       "      <td>NaN</td>\n",
       "      <td>NaN</td>\n",
       "      <td>NaN</td>\n",
       "      <td>NaN</td>\n",
       "      <td>NaN</td>\n",
       "      <td>NaN</td>\n",
       "      <td>NaN</td>\n",
       "      <td>NaN</td>\n",
       "      <td>NaN</td>\n",
       "      <td>NaN</td>\n",
       "    </tr>\n",
       "    <tr>\n",
       "      <th>179997</th>\n",
       "      <td>3166997</td>\n",
       "      <td>0</td>\n",
       "      <td>3958241</td>\n",
       "      <td>34.00</td>\n",
       "      <td>W</td>\n",
       "      <td>6053</td>\n",
       "      <td>122.0</td>\n",
       "      <td>150.0</td>\n",
       "      <td>mastercard</td>\n",
       "      <td>195.0</td>\n",
       "      <td>...</td>\n",
       "      <td>NaN</td>\n",
       "      <td>NaN</td>\n",
       "      <td>NaN</td>\n",
       "      <td>NaN</td>\n",
       "      <td>NaN</td>\n",
       "      <td>NaN</td>\n",
       "      <td>NaN</td>\n",
       "      <td>NaN</td>\n",
       "      <td>NaN</td>\n",
       "      <td>NaN</td>\n",
       "    </tr>\n",
       "    <tr>\n",
       "      <th>179998</th>\n",
       "      <td>3166998</td>\n",
       "      <td>0</td>\n",
       "      <td>3958260</td>\n",
       "      <td>59.00</td>\n",
       "      <td>W</td>\n",
       "      <td>7726</td>\n",
       "      <td>555.0</td>\n",
       "      <td>150.0</td>\n",
       "      <td>visa</td>\n",
       "      <td>226.0</td>\n",
       "      <td>...</td>\n",
       "      <td>NaN</td>\n",
       "      <td>NaN</td>\n",
       "      <td>NaN</td>\n",
       "      <td>NaN</td>\n",
       "      <td>NaN</td>\n",
       "      <td>NaN</td>\n",
       "      <td>NaN</td>\n",
       "      <td>NaN</td>\n",
       "      <td>NaN</td>\n",
       "      <td>NaN</td>\n",
       "    </tr>\n",
       "    <tr>\n",
       "      <th>179999</th>\n",
       "      <td>3166999</td>\n",
       "      <td>0</td>\n",
       "      <td>3958317</td>\n",
       "      <td>226.00</td>\n",
       "      <td>W</td>\n",
       "      <td>17480</td>\n",
       "      <td>528.0</td>\n",
       "      <td>150.0</td>\n",
       "      <td>visa</td>\n",
       "      <td>226.0</td>\n",
       "      <td>...</td>\n",
       "      <td>NaN</td>\n",
       "      <td>NaN</td>\n",
       "      <td>NaN</td>\n",
       "      <td>NaN</td>\n",
       "      <td>NaN</td>\n",
       "      <td>NaN</td>\n",
       "      <td>NaN</td>\n",
       "      <td>NaN</td>\n",
       "      <td>NaN</td>\n",
       "      <td>NaN</td>\n",
       "    </tr>\n",
       "  </tbody>\n",
       "</table>\n",
       "<p>180000 rows × 394 columns</p>\n",
       "</div>"
      ],
      "text/plain": [
       "        TransactionID  isFraud  TransactionDT  TransactionAmt ProductCD  \\\n",
       "0             2987000        0          86400           68.50         W   \n",
       "1             2987001        0          86401           29.00         W   \n",
       "2             2987002        0          86469           59.00         W   \n",
       "3             2987003        0          86499           50.00         W   \n",
       "4             2987004        0          86506           50.00         H   \n",
       "...               ...      ...            ...             ...       ...   \n",
       "179995        3166995        0        3958217           39.00         W   \n",
       "179996        3166996        0        3958237           59.95         W   \n",
       "179997        3166997        0        3958241           34.00         W   \n",
       "179998        3166998        0        3958260           59.00         W   \n",
       "179999        3166999        0        3958317          226.00         W   \n",
       "\n",
       "        card1  card2  card3       card4  card5  ... V330  V331  V332  V333  \\\n",
       "0       13926    NaN  150.0    discover  142.0  ...  NaN   NaN   NaN   NaN   \n",
       "1        2755  404.0  150.0  mastercard  102.0  ...  NaN   NaN   NaN   NaN   \n",
       "2        4663  490.0  150.0        visa  166.0  ...  NaN   NaN   NaN   NaN   \n",
       "3       18132  567.0  150.0  mastercard  117.0  ...  NaN   NaN   NaN   NaN   \n",
       "4        4497  514.0  150.0  mastercard  102.0  ...  0.0   0.0   0.0   0.0   \n",
       "...       ...    ...    ...         ...    ...  ...  ...   ...   ...   ...   \n",
       "179995   1877  310.0  150.0  mastercard  224.0  ...  NaN   NaN   NaN   NaN   \n",
       "179996  10075  514.0  150.0  mastercard  224.0  ...  NaN   NaN   NaN   NaN   \n",
       "179997   6053  122.0  150.0  mastercard  195.0  ...  NaN   NaN   NaN   NaN   \n",
       "179998   7726  555.0  150.0        visa  226.0  ...  NaN   NaN   NaN   NaN   \n",
       "179999  17480  528.0  150.0        visa  226.0  ...  NaN   NaN   NaN   NaN   \n",
       "\n",
       "        V334 V335 V336  V337  V338  V339  \n",
       "0        NaN  NaN  NaN   NaN   NaN   NaN  \n",
       "1        NaN  NaN  NaN   NaN   NaN   NaN  \n",
       "2        NaN  NaN  NaN   NaN   NaN   NaN  \n",
       "3        NaN  NaN  NaN   NaN   NaN   NaN  \n",
       "4        0.0  0.0  0.0   0.0   0.0   0.0  \n",
       "...      ...  ...  ...   ...   ...   ...  \n",
       "179995   NaN  NaN  NaN   NaN   NaN   NaN  \n",
       "179996   NaN  NaN  NaN   NaN   NaN   NaN  \n",
       "179997   NaN  NaN  NaN   NaN   NaN   NaN  \n",
       "179998   NaN  NaN  NaN   NaN   NaN   NaN  \n",
       "179999   NaN  NaN  NaN   NaN   NaN   NaN  \n",
       "\n",
       "[180000 rows x 394 columns]"
      ]
     },
     "execution_count": 32,
     "metadata": {},
     "output_type": "execute_result"
    }
   ],
   "source": [
    "train"
   ]
  },
  {
   "cell_type": "markdown",
   "metadata": {},
   "source": [
    "# Задание 1: \n",
    "сделать Hold-Out валидацию с разбиением, размер которого будет адеквтаным, по вашему мнению; разбиение проводить по id-транзакции (\n",
    "TransactionID\n",
    "), обучать модель градиетного бустинга любой реализации с подбором числа деревьев по early_stopping критерию до достижения сходимости. Оценить качество модели на валидационной выборке, оценить расхождение по сравнению с качеством на обучающей выборке и валидационной выборке. Оценить качество на ЛБ, сравнить с качеством на обучении и валидации. Сделать выводы."
   ]
  },
  {
   "cell_type": "code",
   "execution_count": 33,
   "metadata": {},
   "outputs": [],
   "source": [
    "categorial_features = train.select_dtypes('object').columns.tolist()\n",
    "drop_features = [TARGET_COLUMN, 'TransactionID', 'TransactionDT']"
   ]
  },
  {
   "cell_type": "code",
   "execution_count": 34,
   "metadata": {},
   "outputs": [],
   "source": [
    "train[categorial_features] = train[categorial_features].astype(str)\n",
    "test[categorial_features] = test[categorial_features].astype(str)"
   ]
  },
  {
   "cell_type": "code",
   "execution_count": 35,
   "metadata": {},
   "outputs": [
    {
     "name": "stdout",
     "output_type": "stream",
     "text": [
      "x_train = 125999 rows, 391 cols\n",
      "x_valid = 54001 rows, 391 cols\n",
      "x_public = 100001 rows, 391 cols\n"
     ]
    }
   ],
   "source": [
    "x_train, x_valid = train_test_split(train.drop(drop_features, axis=1), train_size=0.7, shuffle=True, random_state=47)\n",
    "y_train, y_valid = train_test_split(train[TARGET_COLUMN], train_size=0.7, shuffle=True, random_state=47)\n",
    "x_public = test.drop(drop_features, axis=1)\n",
    "y_public = test[TARGET_COLUMN]\n",
    "\n",
    "print(\"x_train = {} rows, {} cols\".format(*x_train.shape))\n",
    "print(\"x_valid = {} rows, {} cols\".format(*x_valid.shape))\n",
    "print(\"x_public = {} rows, {} cols\".format(*x_public.shape))"
   ]
  },
  {
   "cell_type": "code",
   "execution_count": 39,
   "metadata": {},
   "outputs": [
    {
     "name": "stderr",
     "output_type": "stream",
     "text": [
      "100%|██████████████████████████████████████████████████████████████████████████████████| 10/10 [04:22<00:00, 26.20s/it]\n"
     ]
    },
    {
     "data": {
      "image/png": "[encoded data removed]",
      "text/plain": [
       "<Figure size 432x288 with 1 Axes>"
      ]
     },
     "metadata": {
      "needs_background": "light"
     },
     "output_type": "display_data"
    },
    {
     "name": "stdout",
     "output_type": "stream",
     "text": [
      "Wall time: 4min 22s\n"
     ]
    }
   ],
   "source": [
    "%%time\n",
    "train_score = []\n",
    "valid_score = []\n",
    "public_score = []\n",
    "n_estimators = [50, 75, 120, 150, 175, 225, 260, 300, 350, 400]\n",
    "eval_set = [(x_valid, y_valid)]\n",
    "\n",
    "for estimator in tqdm(n_estimators):\n",
    "    cb_model = cb.CatBoostClassifier(cat_features=categorial_features, eval_metric='AUC', n_estimators=estimator,\n",
    "                                     max_depth=5, early_stopping_rounds=10, learning_rate=0.1,\n",
    "                                     silent=True, random_state=47\n",
    "                                    )\n",
    "    cb_model.fit(x_train, y_train, eval_set=eval_set)\n",
    "    train_score.append(roc_auc_score(y_train, cb_model.predict_proba(x_train)[::, 1]))\n",
    "    valid_score.append(roc_auc_score(y_valid, cb_model.predict_proba(x_valid)[::, 1]))\n",
    "    public_score.append(roc_auc_score(y_public, cb_model.predict_proba(x_public)[::, 1]))\n",
    "\n",
    "plt.plot(n_estimators, train_score, label='train', color='red')\n",
    "plt.plot(n_estimators, valid_score, label='valid', color='green')\n",
    "plt.plot(n_estimators, public_score, label='puiblic', color='black')\n",
    "plt.xlabel('n_estimators')\n",
    "plt.ylabel('roc_auc')\n",
    "plt.legend()\n",
    "\n",
    "plt.show()"
   ]
  },
  {
   "cell_type": "markdown",
   "metadata": {},
   "source": [
    "Разница между метрикой ROC-AUC большая на тренировочной, валидационной и лб выборкой"
   ]
  },
  {
   "cell_type": "markdown",
   "metadata": {},
   "source": [
    "# Задание 2:\n",
    "сделать Hold-Out валидацию с разбиением на 3 выборки, разбиение проводить по id-транзакции (TransactionID), размер каждой выборки подобрать самостоятельно. Повторить процедуру из п.1. для каждой выборки."
   ]
  },
  {
   "cell_type": "code",
   "execution_count": 41,
   "metadata": {},
   "outputs": [
    {
     "name": "stdout",
     "output_type": "stream",
     "text": [
      "x_train = 108000 rows, 391 cols\n",
      "x_valid = 36000 rows, 391 cols\n",
      "x_test = 36000 rows, 391 cols\n",
      "x_public = 100001 rows, 391 cols\n"
     ]
    }
   ],
   "source": [
    "x_train, x_valid = train_test_split(train.drop(drop_features, axis=1), train_size=0.6, shuffle=True, random_state=47)\n",
    "y_train, y_valid = train_test_split(train[TARGET_COLUMN], train_size=0.6, shuffle=True, random_state=47)\n",
    "x_valid, x_test = train_test_split(x_valid, train_size=0.5, shuffle=True, random_state=47)\n",
    "y_valid, y_test = train_test_split(y_valid, train_size=0.5, shuffle=True, random_state=47)\n",
    "x_public = test.drop(drop_features, axis=1)\n",
    "y_public = test[TARGET_COLUMN]\n",
    "print(\"x_train = {} rows, {} cols\".format(*x_train.shape))\n",
    "print(\"x_valid = {} rows, {} cols\".format(*x_valid.shape))\n",
    "print(\"x_test = {} rows, {} cols\".format(*x_test.shape))\n",
    "print(\"x_public = {} rows, {} cols\".format(*x_public.shape))"
   ]
  },
  {
   "cell_type": "code",
   "execution_count": 42,
   "metadata": {},
   "outputs": [
    {
     "name": "stderr",
     "output_type": "stream",
     "text": [
      "100%|██████████████████████████████████████████████████████████████████████████████████| 10/10 [04:41<00:00, 28.16s/it]\n"
     ]
    },
    {
     "data": {
      "image/png": "[encoded data removed]",
      "text/plain": [
       "<Figure size 432x288 with 1 Axes>"
      ]
     },
     "metadata": {
      "needs_background": "light"
     },
     "output_type": "display_data"
    },
    {
     "name": "stdout",
     "output_type": "stream",
     "text": [
      "Wall time: 4min 41s\n"
     ]
    }
   ],
   "source": [
    "%%time\n",
    "train_score = []\n",
    "valid_score = []\n",
    "test_score = []\n",
    "public_score = []\n",
    "n_estimators = [50, 75, 120, 150, 175, 225, 260, 300, 350, 400]\n",
    "eval_set = [(x_valid, y_valid)]\n",
    "\n",
    "for estimator in tqdm(n_estimators):\n",
    "    cb_model = cb.CatBoostClassifier(cat_features=categorial_features, eval_metric='AUC', n_estimators=estimator,\n",
    "                                     max_depth=5, early_stopping_rounds=10, learning_rate=0.1,\n",
    "                                     silent=True, random_state=47\n",
    "                                    )\n",
    "    cb_model.fit(x_train, y_train, eval_set=eval_set)\n",
    "    train_score.append(roc_auc_score(y_train, cb_model.predict_proba(x_train)[::, 1]))\n",
    "    valid_score.append(roc_auc_score(y_valid, cb_model.predict_proba(x_valid)[::, 1]))\n",
    "    test_score.append(roc_auc_score(y_test, cb_model.predict_proba(x_test)[::, 1]))\n",
    "    public_score.append(roc_auc_score(y_public, cb_model.predict_proba(x_public)[::, 1]))\n",
    "\n",
    "plt.plot(n_estimators, train_score, label='train', color='red')\n",
    "plt.plot(n_estimators, valid_score, label='valid', color='green')\n",
    "plt.plot(n_estimators, test_score, label='test', color='blue')\n",
    "plt.plot(n_estimators, public_score, label='puiblic', color='black')\n",
    "plt.xlabel('n_estimators')\n",
    "plt.ylabel('roc_auc')\n",
    "plt.legend()\n",
    "\n",
    "plt.show()"
   ]
  },
  {
   "cell_type": "markdown",
   "metadata": {},
   "source": [
    "Графики стали ближе друг к другу, но особое изменение в значении самой метрики ROC-AUC не поменялось"
   ]
  },
  {
   "cell_type": "markdown",
   "metadata": {},
   "source": [
    "# Задание 3:\n",
    "построить доверительный интервал на данных из п.2 на основе бутстреп выборок, оценить качество модели на ЛБ относительно полученного доверительного интервала. Сделать выводы."
   ]
  },
  {
   "cell_type": "code",
   "execution_count": 43,
   "metadata": {},
   "outputs": [],
   "source": [
    "def create_bootstrap_samples(data: np.array, n_samples: int = 1000) -> np.array:\n",
    "    \"\"\"\n",
    "    Создание бутстреп-выборок.\n",
    "\n",
    "    Parameters\n",
    "    ----------\n",
    "    data: np.array\n",
    "        Исходная выборка, которая будет использоваться для\n",
    "        создания бутстреп выборок.\n",
    "\n",
    "    n_samples: int, optional, default = 1000\n",
    "        Количество создаваемых бутстреп выборок.\n",
    "        Опциональный параметр, по умолчанию, равен 1000.\n",
    "\n",
    "    Returns\n",
    "    -------\n",
    "    bootstrap_idx: np.array\n",
    "        Матрица индексов, для создания бутстреп выборок.\n",
    "\n",
    "    \"\"\"\n",
    "    bootstrap_idx = np.random.randint(\n",
    "        low=0, high=len(data), size=(n_samples, len(data))\n",
    "    )\n",
    "    return bootstrap_idx\n",
    "\n",
    "\n",
    "def create_bootstrap_metrics(y_true: np.array,\n",
    "                             y_pred: np.array,\n",
    "                             metric: callable,\n",
    "                             n_samlpes: int = 1000) -> List[float]:\n",
    "    \"\"\"\n",
    "    Вычисление бутстреп оценок.\n",
    "\n",
    "    Parameters\n",
    "    ----------\n",
    "    y_true: np.array\n",
    "        Вектор целевой переменной.\n",
    "\n",
    "    y_pred: np.array\n",
    "        Вектор прогнозов.\n",
    "\n",
    "    metric: callable\n",
    "        Функция для вычисления метрики.\n",
    "        Функция должна принимать 2 аргумента: y_true, y_pred.\n",
    "\n",
    "    n_samples: int, optional, default = 1000\n",
    "        Количество создаваемых бутстреп выборок.\n",
    "        Опциональный параметр, по умолчанию, равен 1000.\n",
    "\n",
    "    Returns\n",
    "    -------\n",
    "    bootstrap_metrics: List[float]\n",
    "        Список со значениями метрики качества на каждой бустреп выборке.\n",
    "\n",
    "    \"\"\"\n",
    "    scores = []\n",
    "\n",
    "    if isinstance(y_true, pd.Series):\n",
    "        y_true = y_true.values\n",
    "\n",
    "    bootstrap_idx = create_bootstrap_samples(y_true)\n",
    "    for idx in bootstrap_idx:\n",
    "        y_true_bootstrap = y_true[idx]\n",
    "        y_pred_bootstrap = y_pred[idx]\n",
    "\n",
    "        score = metric(y_true_bootstrap, y_pred_bootstrap)\n",
    "        scores.append(score)\n",
    "\n",
    "    return scores\n",
    "\n",
    "\n",
    "def calculate_confidence_interval(scores: list, conf_interval: float = 0.95) -> Tuple[float]:\n",
    "    \"\"\"\n",
    "    Вычисление доверительного интервала.\n",
    "\n",
    "    Parameters\n",
    "    ----------\n",
    "    scores: List[float / int]\n",
    "        Список с оценками изучаемой величины.\n",
    "\n",
    "    conf_interval: float, optional, default = 0.95\n",
    "        Уровень доверия для построения интервала.\n",
    "        Опциональный параметр, по умолчанию, равен 0.95.\n",
    "\n",
    "    Returns\n",
    "    -------\n",
    "    conf_interval: Tuple[float]\n",
    "        Кортеж с границами доверительного интервала.\n",
    "\n",
    "    \"\"\"\n",
    "    left_bound = np.percentile(\n",
    "        scores, ((1 - conf_interval) / 2) * 100\n",
    "    )\n",
    "    right_bound = np.percentile(\n",
    "        scores, (conf_interval + ((1 - conf_interval) / 2)) * 100\n",
    "    )\n",
    "\n",
    "    return left_bound, right_bound"
   ]
  },
  {
   "cell_type": "code",
   "execution_count": 69,
   "metadata": {},
   "outputs": [
    {
     "data": {
      "text/plain": [
       "<catboost.core.CatBoostClassifier at 0x1f8aa3cfca0>"
      ]
     },
     "execution_count": 69,
     "metadata": {},
     "output_type": "execute_result"
    }
   ],
   "source": [
    "cb_model = cb.CatBoostClassifier(cat_features=categorial_features, eval_metric='AUC', n_estimators=225,\n",
    "                                     max_depth=4, early_stopping_rounds=10, learning_rate=0.1,\n",
    "                                     silent=True, random_state=47\n",
    "                                    )\n",
    "cb_model.fit(x_train, y_train, eval_set=eval_set)"
   ]
  },
  {
   "cell_type": "code",
   "execution_count": 70,
   "metadata": {},
   "outputs": [
    {
     "name": "stdout",
     "output_type": "stream",
     "text": [
      "0.8661190339374006\n"
     ]
    }
   ],
   "source": [
    "print(roc_auc_score(y_public, cb_model.predict_proba(x_public)[:, 1]))"
   ]
  },
  {
   "cell_type": "code",
   "execution_count": 71,
   "metadata": {},
   "outputs": [
    {
     "data": {
      "text/plain": [
       "(0.8889289747657235, 0.9103067800284027)"
      ]
     },
     "execution_count": 71,
     "metadata": {},
     "output_type": "execute_result"
    }
   ],
   "source": [
    "np.random.seed(1)\n",
    "scores = create_bootstrap_metrics(y_test, cb_model.predict_proba(x_test)[:, 1], roc_auc_score)\n",
    "calculate_confidence_interval(scores)"
   ]
  },
  {
   "cell_type": "code",
   "execution_count": 72,
   "metadata": {},
   "outputs": [
    {
     "data": {
      "image/png": "[encoded data removed]",
      "text/plain": [
       "<Figure size 1080x360 with 2 Axes>"
      ]
     },
     "metadata": {
      "needs_background": "light"
     },
     "output_type": "display_data"
    }
   ],
   "source": [
    "fig, axes = plt.subplots(1, 2, figsize=(15, 5))\n",
    "plt.suptitle(\"Bootstrap for evaluating validation stability\", size=15)\n",
    "axes[1].scatter(range(len(scores)), scores, alpha=0.25, color=\"blue\")\n",
    "axes[1].set_xlabel(\"sampel number\", size=15)\n",
    "axes[1].set_ylabel(\"$ROC-AUC$ score\", size=15)\n",
    "\n",
    "sns.distplot(scores, ax=axes[0], color=\"green\", bins=20)\n",
    "axes[0].set_xlabel(\"sampel number\", size=15)\n",
    "plt.show()"
   ]
  },
  {
   "cell_type": "markdown",
   "metadata": {},
   "source": [
    "Небольшой доверительный интервал, тестовая выборка не попадает в него."
   ]
  },
  {
   "cell_type": "markdown",
   "metadata": {},
   "source": [
    "# Задание 4:\n",
    "выполнить Adversarial Validation, подобрать объекты из обучающей выборки, которые сильно похожи на объекты из\n",
    "assignment_2_test.csv\n",
    ", и использовать их в качестве валидационного набора. Оценить качество модели на ЛБ, сделать выводы о полученных результатах."
   ]
  },
  {
   "cell_type": "code",
   "execution_count": 59,
   "metadata": {},
   "outputs": [],
   "source": [
    "x_adv = pd.concat([train, test])\n",
    "y_adv = np.hstack((np.ones(train.shape[0]), np.zeros(test.shape[0])))\n",
    "x_adv = x_adv.reset_index(drop=True)\n",
    "x_adv = x_adv.drop(drop_features, axis=1)"
   ]
  },
  {
   "cell_type": "code",
   "execution_count": 60,
   "metadata": {},
   "outputs": [
    {
     "data": {
      "text/plain": [
       "<catboost.core.CatBoostClassifier at 0x1f8822c3fd0>"
      ]
     },
     "execution_count": 60,
     "metadata": {},
     "output_type": "execute_result"
    }
   ],
   "source": [
    "cb_model = cb.CatBoostClassifier(cat_features=categorial_features, eval_metric='AUC', n_estimators=200,\n",
    "                                     max_depth=4, early_stopping_rounds=10, learning_rate=0.1,\n",
    "                                     silent=True, random_state=47\n",
    "                                    )\n",
    "cb_model.fit(x_adv, y_adv)"
   ]
  },
  {
   "cell_type": "code",
   "execution_count": 62,
   "metadata": {},
   "outputs": [],
   "source": [
    "y_pred = cb_model.predict_proba(train.drop(drop_features, axis=1))[:, 1]"
   ]
  },
  {
   "cell_type": "code",
   "execution_count": 63,
   "metadata": {},
   "outputs": [
    {
     "data": {
      "image/png": "[encoded data removed]",
      "text/plain": [
       "<Figure size 432x288 with 1 Axes>"
      ]
     },
     "metadata": {
      "needs_background": "light"
     },
     "output_type": "display_data"
    }
   ],
   "source": [
    "plt.hist(y_pred, bins=50)\n",
    "plt.show()"
   ]
  },
  {
   "cell_type": "code",
   "execution_count": 67,
   "metadata": {},
   "outputs": [
    {
     "name": "stdout",
     "output_type": "stream",
     "text": [
      "x_train = 106519 rows, 391 cols\n",
      "x_valid = 35507 rows, 391 cols\n",
      "x_test = 35507 rows, 391 cols\n",
      "x_public = 100001 rows, 391 cols\n"
     ]
    }
   ],
   "source": [
    "mask = y_pred > 0.4\n",
    "x_train, x_valid = train_test_split(train.loc[mask].drop(drop_features, axis=1), train_size=0.6, shuffle=True, random_state=47)\n",
    "y_train, y_valid = train_test_split(train.loc[mask][TARGET_COLUMN], train_size=0.6, shuffle=True, random_state=47)\n",
    "x_valid, x_test = train_test_split(x_valid, train_size=0.5, shuffle=True, random_state=47)\n",
    "y_valid, y_test = train_test_split(y_valid, train_size=0.5, shuffle=True, random_state=47)\n",
    "x_public = test.drop(drop_features, axis=1)\n",
    "y_public = test[TARGET_COLUMN]\n",
    "print(\"x_train = {} rows, {} cols\".format(*x_train.shape))\n",
    "print(\"x_valid = {} rows, {} cols\".format(*x_valid.shape))\n",
    "print(\"x_test = {} rows, {} cols\".format(*x_test.shape))\n",
    "print(\"x_public = {} rows, {} cols\".format(*x_public.shape))"
   ]
  },
  {
   "cell_type": "code",
   "execution_count": 68,
   "metadata": {},
   "outputs": [
    {
     "name": "stderr",
     "output_type": "stream",
     "text": [
      "100%|██████████████████████████████████████████████████████████████████████████████████| 10/10 [03:46<00:00, 22.69s/it]\n"
     ]
    },
    {
     "data": {
      "image/png": "[encoded data removed]",
      "text/plain": [
       "<Figure size 432x288 with 1 Axes>"
      ]
     },
     "metadata": {
      "needs_background": "light"
     },
     "output_type": "display_data"
    },
    {
     "name": "stdout",
     "output_type": "stream",
     "text": [
      "Wall time: 3min 47s\n"
     ]
    }
   ],
   "source": [
    "%%time\n",
    "train_score = []\n",
    "valid_score = []\n",
    "test_score = []\n",
    "public_score = []\n",
    "n_estimators = [50, 75, 120, 150, 175, 225, 260, 300, 350, 400]\n",
    "eval_set = [(x_valid, y_valid)]\n",
    "\n",
    "for estimator in tqdm(n_estimators):\n",
    "    cb_model = cb.CatBoostClassifier(cat_features=categorial_features, eval_metric='AUC', n_estimators=estimator,\n",
    "                                     max_depth=5, early_stopping_rounds=10, learning_rate=0.1,\n",
    "                                     silent=True, random_state=47\n",
    "                                    )\n",
    "    cb_model.fit(x_train, y_train, eval_set=eval_set)\n",
    "    train_score.append(roc_auc_score(y_train, cb_model.predict_proba(x_train)[::, 1]))\n",
    "    valid_score.append(roc_auc_score(y_valid, cb_model.predict_proba(x_valid)[::, 1]))\n",
    "    test_score.append(roc_auc_score(y_test, cb_model.predict_proba(x_test)[::, 1]))\n",
    "    public_score.append(roc_auc_score(y_public, cb_model.predict_proba(x_public)[::, 1]))\n",
    "\n",
    "plt.plot(n_estimators, train_score, label='train', color='red')\n",
    "plt.plot(n_estimators, valid_score, label='valid', color='green')\n",
    "plt.plot(n_estimators, test_score, label='test', color='blue')\n",
    "plt.plot(n_estimators, public_score, label='public', color='black')\n",
    "plt.xlabel('n_estimators')\n",
    "plt.ylabel('roc_auc')\n",
    "plt.legend()\n",
    "\n",
    "plt.show()"
   ]
  },
  {
   "cell_type": "code",
   "execution_count": 79,
   "metadata": {},
   "outputs": [
    {
     "data": {
      "text/plain": [
       "<catboost.core.CatBoostClassifier at 0x1f8b0774550>"
      ]
     },
     "execution_count": 79,
     "metadata": {},
     "output_type": "execute_result"
    }
   ],
   "source": [
    "cb_model = cb.CatBoostClassifier(cat_features=categorial_features, eval_metric='AUC', n_estimators=160,\n",
    "                                     max_depth=4, early_stopping_rounds=10, learning_rate=0.1,\n",
    "                                     silent=True, random_state=47\n",
    "                                    )\n",
    "cb_model.fit(x_train, y_train, eval_set=eval_set)"
   ]
  },
  {
   "cell_type": "code",
   "execution_count": 80,
   "metadata": {},
   "outputs": [
    {
     "name": "stdout",
     "output_type": "stream",
     "text": [
      "0.8645321330995902\n"
     ]
    }
   ],
   "source": [
    "print(roc_auc_score(y_public, cb_model.predict_proba(x_public)[:, 1]))"
   ]
  },
  {
   "cell_type": "code",
   "execution_count": 81,
   "metadata": {},
   "outputs": [
    {
     "data": {
      "text/plain": [
       "(0.8824898166494941, 0.9048094977119722)"
      ]
     },
     "execution_count": 81,
     "metadata": {},
     "output_type": "execute_result"
    }
   ],
   "source": [
    "np.random.seed(1)\n",
    "scores = create_bootstrap_metrics(y_test, cb_model.predict_proba(x_test)[:, 1], roc_auc_score)\n",
    "calculate_confidence_interval(scores)"
   ]
  },
  {
   "cell_type": "markdown",
   "metadata": {},
   "source": [
    "Сильно лучше ситуация не стала"
   ]
  },
  {
   "cell_type": "markdown",
   "metadata": {},
   "source": [
    "# Задание 5:\n",
    "сделать KFold / StratifiedKFold валидацию (на ваше усмотрение), оценить получаемые качество и разброс по метрике качества. Сделать выводы об устойчивости кросс-валидации, сходимости оценки на кросс-валидации и отложенном наборе данных; Оценить качество на ЛБ, сделать выводы."
   ]
  },
  {
   "cell_type": "code",
   "execution_count": 84,
   "metadata": {},
   "outputs": [],
   "source": [
    "def make_cross_validation(X: pd.DataFrame,\n",
    "                          y: pd.Series,\n",
    "                          X_test: pd.DataFrame,\n",
    "                          y_test: pd.Series,\n",
    "                          estimator: object,\n",
    "                          metric: callable,\n",
    "                          cv_strategy):\n",
    "    \"\"\"\n",
    "    Кросс-валидация.\n",
    "\n",
    "    Parameters\n",
    "    ----------\n",
    "    X: pd.DataFrame\n",
    "        Матрица признаков.\n",
    "\n",
    "    y: pd.Series\n",
    "        Вектор целевой переменной.\n",
    "\n",
    "    estimator: callable\n",
    "        Объект модели для обучения.\n",
    "\n",
    "    metric: callable\n",
    "        Метрика для оценки качества решения.\n",
    "        Ожидается, что на вход будет передана функция,\n",
    "        которая принимает 2 аргумента: y_true, y_pred.\n",
    "\n",
    "    cv_strategy: cross-validation generator\n",
    "        Объект для описания стратегии кросс-валидации.\n",
    "        Ожидается, что на вход будет передан объект типа\n",
    "        KFold или StratifiedKFold.\n",
    "\n",
    "    Returns\n",
    "    -------\n",
    "    oof_score: float\n",
    "        Значение метрики качества на OOF-прогнозах.\n",
    "\n",
    "    fold_train_scores: List[float]\n",
    "        Значение метрики качества на каждом обучающем датасете кросс-валидации.\n",
    "\n",
    "    fold_valid_scores: List[float]\n",
    "        Значение метрики качества на каждом валидационном датасете кросс-валидации.\n",
    "\n",
    "    oof_predictions: np.array\n",
    "        Прогнозы на OOF.\n",
    "\n",
    "    \"\"\"\n",
    "    estimators, fold_train_scores, fold_valid_scores, fold_test_scores = [], [], [], []\n",
    "    oof_predictions = np.zeros(X.shape[0])\n",
    "\n",
    "    for fold_number, (train_idx, valid_idx) in enumerate(cv_strategy.split(X, y)):\n",
    "        x_train, x_valid = X.loc[train_idx], X.loc[valid_idx]\n",
    "        y_train, y_valid = y.loc[train_idx], y.loc[valid_idx]\n",
    "\n",
    "        estimator.fit(x_train, y_train)\n",
    "        y_train_pred = estimator.predict_proba(x_train)[:, 1]\n",
    "        y_valid_pred = estimator.predict_proba(x_valid)[:, 1]\n",
    "        y_test_pred = estimator.predict_proba(X_test)[:, 1]\n",
    "\n",
    "        fold_train_scores.append(metric(y_train, y_train_pred))\n",
    "        fold_valid_scores.append(metric(y_valid, y_valid_pred))\n",
    "        fold_test_scores.append(metric(y_test, y_test_pred))\n",
    "        oof_predictions[valid_idx] = y_valid_pred\n",
    "        left_bound, right_bound = calculate_confidence_interval(create_bootstrap_metrics(y_test, \n",
    "                                                                                         y_test_pred, metric))\n",
    "        \n",
    "        msg = (\n",
    "            f\"Fold: {fold_number+1}, train-observations = {len(train_idx)}, \"\n",
    "            f\"valid-observations = {len(valid_idx)}\\n\"\n",
    "            f\"train-score = {round(fold_train_scores[fold_number], 4)}, \"\n",
    "            f\"valid-score = {round(fold_valid_scores[fold_number], 4)}, \" \n",
    "            f\"test-score = {round(fold_test_scores[fold_number], 4)}, \" \n",
    "            f\"confidence_interval = {round(left_bound, 4), round(right_bound, 4)}\"\n",
    "        )\n",
    "        print(msg)\n",
    "        print(\"=\"*69)\n",
    "        estimators.append(estimator)\n",
    "\n",
    "    oof_score = metric(y, oof_predictions)\n",
    "    print(f\"CV-results train: {round(np.mean(fold_train_scores), 4)} +/- {round(np.std(fold_train_scores), 3)}\")\n",
    "    print(f\"CV-results valid: {round(np.mean(fold_valid_scores), 4)} +/- {round(np.std(fold_valid_scores), 3)}\")\n",
    "    print(f\"CV-results test: {round(np.mean(fold_test_scores), 4)} +/- {round(np.std(fold_test_scores), 3)}\")\n",
    "    print(f\"OOF-score = {round(oof_score, 4)}\")\n",
    "\n",
    "    return estimators, oof_score, fold_train_scores, fold_valid_scores, fold_test_scores, oof_predictions"
   ]
  },
  {
   "cell_type": "code",
   "execution_count": 90,
   "metadata": {},
   "outputs": [],
   "source": [
    "cb_model = cb.CatBoostClassifier(cat_features=categorial_features, eval_metric='AUC', n_estimators=200,\n",
    "                                     max_depth=4, early_stopping_rounds=10, learning_rate=0.1,\n",
    "                                     silent=True, random_state=47\n",
    "                                    )"
   ]
  },
  {
   "cell_type": "code",
   "execution_count": 91,
   "metadata": {},
   "outputs": [
    {
     "name": "stdout",
     "output_type": "stream",
     "text": [
      "Fold: 1, train-observations = 144000, valid-observations = 36000\n",
      "train-score = 0.903, valid-score = 0.8756, test-score = 0.8643, confidence_interval = (0.8575, 0.8714)\n",
      "=====================================================================\n",
      "Fold: 2, train-observations = 144000, valid-observations = 36000\n",
      "train-score = 0.9036, valid-score = 0.8965, test-score = 0.8628, confidence_interval = (0.8562, 0.8694)\n",
      "=====================================================================\n",
      "Fold: 3, train-observations = 144000, valid-observations = 36000\n",
      "train-score = 0.9024, valid-score = 0.8943, test-score = 0.8636, confidence_interval = (0.857, 0.8704)\n",
      "=====================================================================\n",
      "Fold: 4, train-observations = 144000, valid-observations = 36000\n",
      "train-score = 0.8998, valid-score = 0.8856, test-score = 0.8604, confidence_interval = (0.8536, 0.8668)\n",
      "=====================================================================\n",
      "Fold: 5, train-observations = 144000, valid-observations = 36000\n",
      "train-score = 0.9028, valid-score = 0.8751, test-score = 0.862, confidence_interval = (0.8552, 0.8687)\n",
      "=====================================================================\n",
      "CV-results train: 0.9023 +/- 0.001\n",
      "CV-results valid: 0.8854 +/- 0.009\n",
      "CV-results test: 0.8626 +/- 0.001\n",
      "OOF-score = 0.8829\n"
     ]
    }
   ],
   "source": [
    "cv_strategy = KFold(n_splits=5, random_state=47)\n",
    "\n",
    "estimators, oof_score, fold_train_scores, fold_valid_scores, fold_test_scores, oof_predictions = \\\n",
    "make_cross_validation(\n",
    "    train.drop(drop_features, axis=1), train[TARGET_COLUMN], \n",
    "    test.drop(drop_features, axis=1), test[TARGET_COLUMN],\n",
    "    cb_model, metric=roc_auc_score, cv_strategy=cv_strategy\n",
    ")"
   ]
  },
  {
   "cell_type": "code",
   "execution_count": null,
   "metadata": {},
   "outputs": [],
   "source": []
  }
 ],
 "metadata": {
  "kernelspec": {
   "display_name": "Python 3",
   "language": "python",
   "name": "python3"
  },
  "language_info": {
   "codemirror_mode": {
    "name": "ipython",
    "version": 3
   },
   "file_extension": ".py",
   "mimetype": "text/x-python",
   "name": "python",
   "nbconvert_exporter": "python",
   "pygments_lexer": "ipython3",
   "version": "3.8.3"
  }
 },
 "nbformat": 4,
 "nbformat_minor": 4
}
