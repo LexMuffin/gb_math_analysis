{
 "cells": [
  {
   "cell_type": "code",
   "execution_count": 2,
   "metadata": {},
   "outputs": [],
   "source": [
    "import numpy as np\n",
    "import matplotlib.pyplot as plt\n",
    "%matplotlib inline"
   ]
  },
  {
   "cell_type": "markdown",
   "metadata": {},
   "source": [
    "# Тема “Предел функции”"
   ]
  },
  {
   "cell_type": "markdown",
   "metadata": {},
   "source": [
    "1) Предложить пример функции, не имеющей предела в нуле и в бесконечностях.\n"
   ]
  },
  {
   "cell_type": "markdown",
   "metadata": {},
   "source": [
    "$ f(x) = cos3x $ \\\n",
    "т.к. функция периодична."
   ]
  },
  {
   "cell_type": "markdown",
   "metadata": {},
   "source": [
    "2) Привести пример функции, не имеющей предела в точке, но определенной в ней.\n"
   ]
  },
  {
   "cell_type": "markdown",
   "metadata": {},
   "source": [
    "$ f(x) = sin x $ или $ f(x) = cos x$"
   ]
  },
  {
   "cell_type": "markdown",
   "metadata": {},
   "source": [
    "3) Исследовать функцию  по плану: $ f(x) = x^3 - x^2 $"
   ]
  },
  {
   "cell_type": "code",
   "execution_count": 3,
   "metadata": {},
   "outputs": [
    {
     "data": {
      "image/png": "[encoded data removed]",
      "text/plain": [
       "<Figure size 432x288 with 1 Axes>"
      ]
     },
     "metadata": {
      "needs_background": "light"
     },
     "output_type": "display_data"
    }
   ],
   "source": [
    "x = np.arange(-2, 2, 0.05)\n",
    "y = np.power(x, 3) - np.power(x, 2)\n",
    "y_2 = -np.power(x, 3) - np.power(x, 2)\n",
    "\n",
    "plt.plot(x, y, label='f(x) = x^3 - x^2')\n",
    "plt.plot(x, y_2, label='f(x) = -x^3 - x^2')\n",
    "plt.grid()\n",
    "plt.xlabel('x')\n",
    "plt.ylabel('f(x)')\n",
    "plt.legend()\n",
    "plt.show()"
   ]
  },
  {
   "cell_type": "markdown",
   "metadata": {},
   "source": [
    "a) Область задания и область значений.\n"
   ]
  },
  {
   "cell_type": "markdown",
   "metadata": {},
   "source": [
    "$ D(x) = (-\\infty ; +\\infty) $\n",
    "$ E(y) = (-\\infty ; +\\infty) $"
   ]
  },
  {
   "cell_type": "markdown",
   "metadata": {},
   "source": [
    "b) Нули функции и их кратность."
   ]
  },
  {
   "cell_type": "markdown",
   "metadata": {},
   "source": [
    "$ x^3 - x^2 = x^2(x - 1) $ \\\n",
    "$ x_{1,2} = 0 , x_3 = 1 $ \\\n",
    "Кратность $ x = 0 $ равна 2, а кратность $ x = 1 $ равна 1"
   ]
  },
  {
   "cell_type": "markdown",
   "metadata": {},
   "source": [
    "c) Отрезки знакопостоянства."
   ]
  },
  {
   "cell_type": "markdown",
   "metadata": {},
   "source": [
    "Знак отрицательный $ (-\\infty ; 0) \\cup (0 ; 1) $ \\\n",
    "Знак положительный $ (1 ; +\\infty) $"
   ]
  },
  {
   "cell_type": "markdown",
   "metadata": {},
   "source": [
    "d) Интервалы монотонности."
   ]
  },
  {
   "cell_type": "markdown",
   "metadata": {},
   "source": [
    "Находим значения x в экстремумах: $ f'(x) = 3x^2 - 2x = 0 \\Rightarrow x * (3x - 2) = 0 \\Rightarrow x = 0; \\frac{2}{3} $ \\\n",
    "Монотонно убывает $ (-\\infty ; 0) \\cup (\\frac{2}{3} ; +\\infty) $ \\\n",
    "Монотонно возрастает $ (0 ; \\frac{2}{3}) $"
   ]
  },
  {
   "cell_type": "markdown",
   "metadata": {},
   "source": [
    "e) Четность функции."
   ]
  },
  {
   "cell_type": "markdown",
   "metadata": {},
   "source": [
    "Если $ f(-x) = f(x) $ то функция четная, проверим: $ f(-x) = -x^3 - x^2 $ , $ f(x) = x^3 - x^2 \\Rightarrow $ функция не является четной \\\n",
    "Если $ f(-x) = -f(x) $ то функция нечетная, проверим: $ f(-x) = -x^3 - x^2 $ , $ -f(x) = -x^3 + x^2 \\Rightarrow $ функция является $ \\underline{нечетная} $"
   ]
  },
  {
   "cell_type": "markdown",
   "metadata": {},
   "source": [
    "f) Ограниченность."
   ]
  },
  {
   "cell_type": "markdown",
   "metadata": {},
   "source": [
    "Функция неограничена"
   ]
  },
  {
   "cell_type": "markdown",
   "metadata": {},
   "source": [
    "g) Периодичность."
   ]
  },
  {
   "cell_type": "markdown",
   "metadata": {},
   "source": []
  },
  {
   "cell_type": "markdown",
   "metadata": {},
   "source": [
    "4) Найти предел:"
   ]
  },
  {
   "cell_type": "markdown",
   "metadata": {},
   "source": [
    "a) $$ \\lim_{x \\to 0} \\frac{3x^3-2x^2}{4x^2} $$"
   ]
  },
  {
   "cell_type": "markdown",
   "metadata": {},
   "source": [
    "$$ \\lim_{x \\to 0} \\frac{3x^3-2x^2}{4x^2} = \\lim_{x \\to 0} \\frac{x^2(3x-2)}{4x^2} = \\lim_{x \\to 0} \\frac{3x-2}{4}\n",
    "= \\frac{-2}{4} = -0.5 $$"
   ]
  },
  {
   "cell_type": "markdown",
   "metadata": {},
   "source": [
    "b) $$ \\lim_{x \\to\\ 0} \\frac{\\sqrt{1 + x} - 1}{\\sqrt[3]{1 + x} - 1} $$"
   ]
  },
  {
   "cell_type": "markdown",
   "metadata": {},
   "source": [
    "$$ \\lim_{x \\to\\ 0} \\frac{\\sqrt{1+x}-1}{\\sqrt[3]{1+x}-1} =\n",
    "\\lim_{x \\to\\ 0} \\frac{(\\sqrt{1+x}-1)(\\sqrt[3]{(1+x)^2}+\\sqrt[3]{1+x}+1)}{(\\sqrt[3]{1+x}-1)(\\sqrt[3]{(1+x)^2}+\\sqrt[3]{1+x}+1)} = \\lim_{x \\to\\ 0} \\frac{(\\sqrt{1+x}-1)(\\sqrt[3]{(1+x)^2}+\\sqrt[3]{1+x}+1)}{1+x-1} = \n",
    "\\lim_{x \\to\\ 0} \\frac{\\sqrt[6]{(1+x)^7}+\\sqrt[6]{(1+x)^5}+\\sqrt{(1+x)}-\\sqrt[3]{(1+x)^2}-\\sqrt[3]{1+x}-1}{x} = <Правило Лопиталя> = \\lim_{x \\to\\ 0} \\frac{\\frac{7}{6}(1+x)^\\frac{1}{6}+\\frac{5}{6}(1+x)^\\frac{-1}{6}+\\frac{1}{2}(1+x)^\\frac{-1}{2}-\\frac{2}{3}(1+x)^\\frac{-1}{3}-\\frac{1}{3}(1+x)^\\frac{-2}{3}}{1} = <Подставляемпредел> = \\frac{7}{6}+\\frac{5}{6}+\\frac{1}{2}-\\frac{2}{3}-\\frac{1}{3} = 1.5 $$"
   ]
  },
  {
   "cell_type": "markdown",
   "metadata": {},
   "source": [
    "c) $$ \\lim_{x\\to \\infty} (\\frac{x + 3}{x})^{4x + 1} $$"
   ]
  },
  {
   "cell_type": "markdown",
   "metadata": {},
   "source": []
  },
  {
   "cell_type": "markdown",
   "metadata": {},
   "source": [
    "# Тема “Теоремы о пределах”"
   ]
  },
  {
   "cell_type": "markdown",
   "metadata": {},
   "source": [
    "1) Найти предел:"
   ]
  },
  {
   "cell_type": "markdown",
   "metadata": {},
   "source": [
    "a) $$ \\lim_{x\\to 0} \\frac{sin(2x)}{4x}$$"
   ]
  },
  {
   "cell_type": "markdown",
   "metadata": {},
   "source": [
    "$$ \\lim_{x\\to 0} \\frac{sin(2x)}{4x} = \\lim_{x\\to 0} \\frac{sin(2x)}{2 * 2x} = \\lim_{x\\to 0} \\frac{1}{2} = \\frac{1}{2} $$"
   ]
  },
  {
   "cell_type": "markdown",
   "metadata": {},
   "source": [
    "b) $$ \\lim_{x\\to 0} \\frac{x}{sinx}$$"
   ]
  },
  {
   "cell_type": "markdown",
   "metadata": {},
   "source": [
    "$$ \\lim_{x\\to 0} \\frac{x}{sin(x)} = 1$$"
   ]
  },
  {
   "cell_type": "markdown",
   "metadata": {},
   "source": [
    "с) $$ \\lim_{x\\to 0} \\frac{x}{arcsin(x)} $$"
   ]
  },
  {
   "cell_type": "markdown",
   "metadata": {},
   "source": [
    "$$ \\lim_{x\\to 0} \\frac{x}{arcsin(x)}  =  <Правило Лопиталя> = \\lim_{x\\to 0} \\frac{1}{\\sqrt{1 - x^2}} = 1 $$"
   ]
  },
  {
   "cell_type": "markdown",
   "metadata": {},
   "source": [
    "или же\n",
    "$arcsin(x) \\approx x$ по таблице эквивалентностей.\n",
    "$$\n",
    "\\lim_{x \\to 0} \\frac{x}{arcsin(x)}\n",
    "= \\lim_{x \\to 0} \\frac{x}{x}\n",
    "= \\lim_{x \\to 0} 1\n",
    "= 1\n",
    "$$"
   ]
  }
 ],
 "metadata": {
  "kernelspec": {
   "display_name": "Python 3",
   "language": "python",
   "name": "python3"
  },
  "language_info": {
   "codemirror_mode": {
    "name": "ipython",
    "version": 3
   },
   "file_extension": ".py",
   "mimetype": "text/x-python",
   "name": "python",
   "nbconvert_exporter": "python",
   "pygments_lexer": "ipython3",
   "version": "3.8.3"
  }
 },
 "nbformat": 4,
 "nbformat_minor": 4
}
