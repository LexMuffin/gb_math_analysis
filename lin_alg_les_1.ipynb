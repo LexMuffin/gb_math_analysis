{
 "cells": [
  {
   "cell_type": "markdown",
   "metadata": {},
   "source": [
    "# Задание 1\n",
    "Исследовать на линейную зависимость:\n",
    "\n",
    "$ f_1(x)=e^x,f_2(x)=1,f_3(x)=x+1,f_4(x)=x−e^x $."
   ]
  },
  {
   "cell_type": "markdown",
   "metadata": {},
   "source": [
    "$ f_4(x) - является линейной комбинацией векторов f_1(x), f_2(x), f_3(x)$ \\\n",
    "$ f_4(x) = -f_1(x) + f_3(x) - f_2(x) = x - e^x = -e^x + x + 1 - 1  $ \\\n",
    "Вектора являются линейно зависимыми"
   ]
  },
  {
   "cell_type": "markdown",
   "metadata": {},
   "source": [
    "# Задание 2\n",
    "Исследовать на линейную зависимость:\n",
    "$ f_1(x)=2,f_2(x)=x,f_3(x)=x^2,f_4(x)=(x+1)^2 $"
   ]
  },
  {
   "cell_type": "markdown",
   "metadata": {},
   "source": [
    "$ f_4(x) = (x + 1)^{2} = x^2 + 2x + 1 = x^2 + 2(x) + \\frac{1}{2}(2) = 1*f_3(x) + 2*f_2(x) + \\frac{1}{2}f_1(x) $\n",
    "\n",
    "$ a_1 * 2 + a_2 * x + a_3 * x^2 + a_4 * (x + 1)^2 = 0 $ \\\n",
    "$ 2 * a_1 + a_2 * x + a_3 * x^2 + a_4 * x^ 2 + a_4 * 2x + a_4 = 0 $ \\\n",
    "$ (a_3 + a_4) * x^2 + x * (a_2 + 2 * a_4) + (2 * a_1 + a_4) = 0 $ \\\n",
    "$$\n",
    "\\left\\{\n",
    "    \\begin{array}\\\\\n",
    "        a_3 + a_4 = 0 \\\\\n",
    "        a_2 + 2a_4 = 0 \\\\\n",
    "        2a_1 + a_4 = 0\n",
    "    \\end{array}\n",
    "\\right.\n",
    "$$ \\\n",
    "Система линейно зависима"
   ]
  },
  {
   "cell_type": "markdown",
   "metadata": {},
   "source": [
    "# Задание 3\n",
    "Найти координаты вектора $ x=(2,3,5) ∈ R^3 $ в базисе $ b_1=(0,0,10), b_2=(2,0,0), b_3=(0,1,0) $ ."
   ]
  },
  {
   "cell_type": "markdown",
   "metadata": {},
   "source": [
    "$\n",
    "\\vec{x} \n",
    "= \\begin{bmatrix} 2 \\\\ 3 \\\\ 5 \\end{bmatrix}\n",
    "= \\lambda_1 * \\vec{b_1} + \\lambda_2 * \\vec{b_2} + \\lambda_3 * \\vec{b_3}\n",
    "= \\lambda_1 * \\begin{bmatrix} 0 \\\\ 0 \\\\ 10 \\end{bmatrix} \n",
    "    + \\lambda_2 * \\begin{bmatrix} 2 \\\\ 0 \\\\ 0 \\end{bmatrix}\n",
    "    + \\lambda_3 * \\begin{bmatrix} 0 \\\\ 1 \\\\ 0 \\end{bmatrix}\n",
    "= \\begin{bmatrix} 0 \\\\ 0 \\\\ 10\\lambda_1 \\end{bmatrix}\n",
    "    + \\begin{bmatrix} 2\\lambda_2 \\\\ 0 \\\\ 0 \\end{bmatrix}\n",
    "    + \\begin{bmatrix} 0 \\\\ \\lambda_3 \\\\ 0 \\end{bmatrix}\n",
    "= \\begin{bmatrix} 2\\lambda_2 \\\\ \\lambda_3 \\\\ 10\\lambda_1 \\end{bmatrix}\n",
    "$\n",
    "\n",
    "$ \\lambda_1 = \\frac{1}{2}, \\lambda_2 = 1, \\lambda_3 = 3 $ \\\n",
    "$ \\vec{x} = (\\frac{1}{2}, 1, 3) $"
   ]
  },
  {
   "cell_type": "markdown",
   "metadata": {},
   "source": [
    "# Задание 4\n",
    "Найти координаты вектора $ 3x^2−2x+2 ∈ R^3[x] $ : \\\n",
    "а) в базисе $ 1 , x , x^2 $; \n",
    "\n",
    "б) в базисе $ x^2 , x−1 , 1 $ ."
   ]
  },
  {
   "cell_type": "markdown",
   "metadata": {},
   "source": [
    "a) $ (\\vec{i}, \\vec{j}, \\vec{k}) = (1, x, x^2) $ \\\n",
    "$ \\vec{x} = 3x^2 - 2x + 2 = 2\\vec{i} + (-2)\\vec{j} + 3\\vec{k} $ \\ \n",
    "$ \\vec{x} = (2, -2, 3) $"
   ]
  },
  {
   "cell_type": "markdown",
   "metadata": {},
   "source": [
    "b) $ (\\vec{i}, \\vec{j}, \\vec{k}) = (x^2, x - 1, 1) $ \\\n",
    "$ \\vec{x} = 3x^2 - 2x + 2 = 3\\vec{i} + (-2)\\vec{j} + 0\\vec{k} $ \\ \n",
    "$ \\vec{x} = (3, -2, 0) $"
   ]
  },
  {
   "cell_type": "markdown",
   "metadata": {},
   "source": [
    "# Задание 5\n",
    "Установить, является ли линейным подпространством:\n",
    "1. совокупность всех векторов трехмерного пространства, у которых по крайней мере одна из первых двух координат равна нулю;\n",
    "2. все векторы, являющиеся линейными комбинациями данных векторов $ \\{u_1, u_2, … , u_n\\} $ ."
   ]
  },
  {
   "cell_type": "markdown",
   "metadata": {},
   "source": [
    "1. $ \\vec{u} + \\vec{v} \\in L $. \n",
    "\n",
    "$ \\vec{x} = (0, a, b) + (c, 0, d) = (c, a, b + d) $. \\\n",
    "Если $ a, c \\ne 0 $, то вектор $ \\vec{x} \\notin L $, он не выполняет условий определения линейного подпространства.\\\n",
    "Пространство $ L $ не является линейным подпространством."
   ]
  },
  {
   "cell_type": "markdown",
   "metadata": {},
   "source": [
    "2. $ \\vec{u} + \\vec{v} \\in L $. \n",
    "\n",
    "$ \\vec{u} = \\lambda_{k1} u_1 + ... + \\lambda_{kn} u_n, \\vec{v} = \\lambda_{m1} u_1 + ... + \\lambda_{mn} u_n $. \\\n",
    "$ \\vec{x} = \\vec{u} + \\vec{v} \n",
    "= \\lambda_{k1} u_1 + ... + \\lambda_{kn} u_n + \\lambda_{m1} u_1 + ... + \\lambda_{mn} u_n \n",
    "= (\\lambda_{k1} + ... + \\lambda_{m1}) u_1 + ... + (\\lambda_{kn} + ... + \\lambda_{mn}) u_n $. \n",
    "\n",
    "2. $ \\alpha \\cdot \\vec{u} \\in L $. \n",
    "\n",
    "$ \\vec{u} = \\lambda_{k1} u_1 + ... + \\lambda_{kn} u_n $. \\\n",
    "$ \\vec{x} = \\alpha \\cdot \\vec{u} \n",
    "= \\alpha * (\\lambda_{k1} u_1 + ... + \\lambda_{kn} u_n)\n",
    "= (\\alpha * \\lambda_{k1}) u_1 + ... + (\\alpha * \\lambda_{kn}) u_n) $. \n",
    "\n",
    "Пространство $ L $ является линейным подпространством."
   ]
  }
 ],
 "metadata": {
  "kernelspec": {
   "display_name": "Python 3",
   "language": "python",
   "name": "python3"
  },
  "language_info": {
   "codemirror_mode": {
    "name": "ipython",
    "version": 3
   },
   "file_extension": ".py",
   "mimetype": "text/x-python",
   "name": "python",
   "nbconvert_exporter": "python",
   "pygments_lexer": "ipython3",
   "version": "3.8.3"
  }
 },
 "nbformat": 4,
 "nbformat_minor": 4
}
