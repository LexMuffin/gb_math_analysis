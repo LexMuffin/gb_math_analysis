{
 "cells": [
  {
   "cell_type": "code",
   "execution_count": 1,
   "metadata": {},
   "outputs": [],
   "source": [
    "import numpy as np\n",
    "import matplotlib.pyplot as plt\n",
    "plt.rcParams.update({'font.size': 14})"
   ]
  },
  {
   "cell_type": "code",
   "execution_count": 4,
   "metadata": {},
   "outputs": [
    {
     "data": {
      "text/plain": [
       "(2, 10)"
      ]
     },
     "execution_count": 4,
     "metadata": {},
     "output_type": "execute_result"
    }
   ],
   "source": [
    "X = np.array([[1, 1, 1, 1, 1, 1, 1, 1, 1, 1],   # для умножения на intercept\n",
    "              [1, 1, 2, 1, 3, 0, 5, 10, 1, 2]]) # стаж\n",
    "X.shape"
   ]
  },
  {
   "cell_type": "code",
   "execution_count": 5,
   "metadata": {},
   "outputs": [],
   "source": [
    "# средний балл ЕГЭ (целевая переменная)\n",
    "y = [45, 55, 50, 59, 65, 35, 75, 80, 50, 60]"
   ]
  },
  {
   "cell_type": "code",
   "execution_count": 6,
   "metadata": {},
   "outputs": [],
   "source": [
    "def calc_mse(y, y_pred):\n",
    "    err = np.mean((y - y_pred)**2)\n",
    "    return err\n",
    "\n",
    "def calc_mae(y, y_pred):\n",
    "    err = np.mean(np.abs(y - y_pred))\n",
    "    return err"
   ]
  },
  {
   "cell_type": "markdown",
   "metadata": {},
   "source": [
    "Нормальное уравнение линейной регрессии\n",
    "$$\\vec{w} = (X^{T}X)^{-1}X^{T}\\vec{y}$$"
   ]
  },
  {
   "cell_type": "code",
   "execution_count": 7,
   "metadata": {},
   "outputs": [],
   "source": [
    "w = np.linalg.inv(X @ X.T) @ X @ y"
   ]
  },
  {
   "cell_type": "code",
   "execution_count": 12,
   "metadata": {},
   "outputs": [],
   "source": [
    "y_pred_3 = w[0] + w[1] * X[1]"
   ]
  },
  {
   "cell_type": "code",
   "execution_count": 13,
   "metadata": {},
   "outputs": [
    {
     "data": {
      "text/plain": [
       "array([51.14285714, 51.14285714, 55.05357143, 51.14285714, 58.96428571,\n",
       "       47.23214286, 66.78571429, 86.33928571, 51.14285714, 55.05357143])"
      ]
     },
     "execution_count": 13,
     "metadata": {},
     "output_type": "execute_result"
    }
   ],
   "source": [
    "y_pred_3"
   ]
  },
  {
   "cell_type": "code",
   "execution_count": 14,
   "metadata": {},
   "outputs": [
    {
     "data": {
      "text/plain": [
       "45.937499999999986"
      ]
     },
     "execution_count": 14,
     "metadata": {},
     "output_type": "execute_result"
    }
   ],
   "source": [
    "calc_mse(y, y_pred_3)"
   ]
  },
  {
   "cell_type": "markdown",
   "metadata": {},
   "source": [
    "1. Подберите скорость обучения (alpha) и количество итераций:"
   ]
  },
  {
   "cell_type": "code",
   "execution_count": 33,
   "metadata": {},
   "outputs": [
    {
     "name": "stdout",
     "output_type": "stream",
     "text": [
      "0 [2.102 3.9  ] 3173.15\n",
      "10 [ 7.88197949 10.94665576] 895.7992568721307\n",
      "20 [11.82321845 10.44288316] 734.1943046789495\n",
      "30 [15.33838126  9.79996576] 604.3598272772635\n",
      "40 [18.50371626  9.21563317] 499.01844357436784\n",
      "50 [21.35487986  8.68914872] 413.5487715072509\n",
      "60 [23.92307798  8.21491142] 344.2021894686833\n",
      "70 [26.23639435  7.78773986] 287.93722057193975\n",
      "80 [28.32012482  7.40296309] 242.28613537222674\n",
      "90 [30.19705472  7.05637362] 205.24671953719772\n",
      "100 [31.88770806  6.74418155] 175.19445858001853\n",
      "110 [33.4105719   6.46297309] 150.81128815797626\n",
      "120 [34.78229859  6.20967327] 131.0277849906938\n",
      "130 [36.01788778  5.98151227] 114.97626294514153\n",
      "140 [37.13085048  5.7759952 ] 101.95271712515977\n",
      "150 [38.13335681  5.59087473] 91.38594686849362\n",
      "160 [39.03636904  5.42412662] 82.8125034145725\n",
      "170 [39.8497615   5.27392748] 75.85636347094018\n",
      "180 [40.58242855  5.1386349 ] 70.21243717977558\n",
      "190 [41.24238179  5.01676949] 65.63318715918639\n",
      "200 [41.83683774  4.90699865] 61.9177717428135\n",
      "210 [42.3722967   4.80812205] 58.903236250286454\n",
      "220 [42.85461385  4.7190585 ] 56.45736594580863\n",
      "230 [43.28906326  4.6388341 ] 54.472887222252005\n",
      "240 [43.68039559  4.56657159] 52.86276268006376\n",
      "250 [44.03289    4.5014808] 51.556373747502974\n",
      "260 [44.35040098  4.44284997] 50.49642341546347\n",
      "270 [44.63640047  4.39003797] 49.63642324370124\n",
      "280 [44.89401584  4.34246733] 48.938654420884696\n",
      "290 [45.12606408  4.29961784] 48.37251345245091\n",
      "300 [45.33508261  4.26102097] 47.913169919666785\n",
      "310 [45.52335702  4.22625466] 47.540477440452136\n",
      "320 [45.69294608  4.19493875] 47.23809006771321\n",
      "330 [45.8457042   4.16673079] 46.99274537123693\n",
      "340 [45.9833018   4.14132234] 46.79368275977983\n"
     ]
    }
   ],
   "source": [
    "n = X.shape[1]\n",
    "alpha = 0.01\n",
    "w = np.array([1, 0.5])\n",
    "\n",
    "for i in range(350):\n",
    "    y_pred = np.dot(w, X)\n",
    "    err = calc_mse(y, y_pred)\n",
    "    for j in range(w.shape[0]):\n",
    "        w[j] -= alpha * (1/n * 2 * np.sum(X[j] * (y_pred - y)))\n",
    "    if i % 10 == 0:\n",
    "        print(i, w, err)"
   ]
  },
  {
   "cell_type": "markdown",
   "metadata": {},
   "source": [
    "*2. В этом коде мы избавляемся от итераций по весам, но тут есть ошибка, исправьте ее:"
   ]
  },
  {
   "cell_type": "code",
   "execution_count": 41,
   "metadata": {},
   "outputs": [
    {
     "name": "stdout",
     "output_type": "stream",
     "text": [
      "0 [2.102 3.9  ] 3173.15\n",
      "100 [31.88770806  6.74418155] 175.19445858001842\n",
      "200 [41.83683774  4.90699865] 61.9177717428135\n",
      "300 [45.33508261  4.26102097] 47.913169919666785\n",
      "400 [46.56511152  4.03388672] 46.181755648107604\n",
      "500 [46.99760587  3.95402334] 45.96769776787538\n",
      "600 [47.14967657  3.92594232] 45.941233404700036\n",
      "700 [47.20314662  3.91606866] 45.93796156758051\n",
      "800 [47.2219474   3.91259695] 45.93755706443538\n",
      "900 [47.228558    3.91137626] 45.937507054979434\n"
     ]
    }
   ],
   "source": [
    "w = np.array([1, 0.5])\n",
    "\n",
    "for i in range(1000):\n",
    "    y_pred = np.dot(w, X)\n",
    "    err = calc_mse(y, y_pred)\n",
    "    '''for j in range(W.shape[0]):\n",
    "        W[j] -= alpha * (1/n * 2 * np.sum(X[j] * (y_pred - y)))'''\n",
    "    # w -= (alpha * (1/n * 2 * np.sum(X * (y_pred - y))))\n",
    "    w -= (alpha * (1/n * 2 * (X @ (y_pred - y))))                    \n",
    "    #                   __________\n",
    "    if i % 100 == 0:\n",
    "        print(i, w, err)"
   ]
  },
  {
   "cell_type": "markdown",
   "metadata": {},
   "source": [
    "np.sum надо было заменить на @"
   ]
  },
  {
   "cell_type": "markdown",
   "metadata": {},
   "source": [
    "*3. Вместо того, чтобы задавать количество итераций, задайте условие остановки алгоритма - когда ошибка за итерацию начинает изменяться ниже определенного порога"
   ]
  },
  {
   "cell_type": "code",
   "execution_count": 62,
   "metadata": {},
   "outputs": [
    {
     "name": "stdout",
     "output_type": "stream",
     "text": [
      "Iteration #10: W_new = [ 7.45119279 10.92672004], MSE = 915.38\n",
      "Iteration #20: W_new = [11.45069652 10.50892568], MSE = 748.73\n",
      "Iteration #30: W_new = [15.00325863  9.8617729 ], MSE = 616.16\n",
      "Iteration #40: W_new = [18.20186481  9.27137026], MSE = 508.59\n",
      "Iteration #50: W_new = [21.08298609  8.73935593], MSE = 421.31\n",
      "Iteration #60: W_new = [23.67816841  8.26013584], MSE = 350.5\n",
      "Iteration #70: W_new = [26.01579092  7.82847597], MSE = 293.05\n",
      "Iteration #80: W_new = [28.12141525  7.43965633], MSE = 246.43\n",
      "Iteration #90: W_new = [30.01806616  7.08942523], MSE = 208.61\n",
      "Iteration #100: W_new = [31.72648327  6.77395294], MSE = 177.92\n",
      "Iteration #110: W_new = [33.26534793  6.48978981], MSE = 153.03\n",
      "Iteration #120: W_new = [34.65148742  6.23382855], MSE = 132.83\n",
      "Iteration #130: W_new = [35.90005901  6.00327026], MSE = 116.43\n",
      "Iteration #140: W_new = [37.02471567  5.7955938 ], MSE = 103.14\n",
      "Iteration #150: W_new = [38.03775539  5.60852827], MSE = 92.35\n",
      "Iteration #160: W_new = [38.95025561  5.44002812], MSE = 83.59\n",
      "Iteration #170: W_new = [39.77219444  5.28825083], MSE = 76.49\n",
      "Iteration #180: W_new = [40.51255965  5.15153673], MSE = 70.73\n",
      "Iteration #190: W_new = [41.17944706  5.02839087], MSE = 66.05\n",
      "Iteration #200: W_new = [41.78014899  4.91746666], MSE = 62.26\n",
      "Iteration #210: W_new = [42.32123404  4.81755117], MSE = 59.18\n",
      "Iteration #220: W_new = [42.80861892  4.72755182], MSE = 56.68\n",
      "Iteration #230: W_new = [43.24763312  4.64648449], MSE = 54.65\n",
      "Iteration #240: W_new = [43.64307719  4.57346272], MSE = 53.01\n",
      "Iteration #250: W_new = [43.99927528  4.50768801], MSE = 51.68\n",
      "Iteration #260: W_new = [44.32012236  4.44844115], MSE = 50.59\n",
      "Iteration #270: W_new = [44.60912687  4.39507425], MSE = 49.71\n",
      "Iteration #280: W_new = [44.86944901  4.34700378], MSE = 49.0\n",
      "Iteration #290: W_new = [45.1039354   4.30370407], MSE = 48.42\n",
      "Iteration #300: W_new = [45.3151501   4.26470166], MSE = 47.95\n",
      "Iteration #310: W_new = [45.50540272  4.22957006], MSE = 47.57\n",
      "Iteration #320: W_new = [45.67677365  4.19792511], MSE = 47.27\n",
      "Iteration #330: W_new = [45.83113682  4.16942077], MSE = 47.02\n",
      "Iteration #340: W_new = [45.97018016  4.14374535], MSE = 46.81\n",
      "Iteration #350: W_new = [46.09542409  4.1206181 ], MSE = 46.65\n",
      "Iteration #360: W_new = [46.20823815  4.09978612], MSE = 46.51\n"
     ]
    }
   ],
   "source": [
    "n = X.shape[1]\n",
    "alpha = 0.01\n",
    "w = np.array([1, 0.5])\n",
    "y_pred = np.dot(w, X)\n",
    "err = calc_mse(y, y_pred)\n",
    "i = 1\n",
    "\n",
    "while(True):\n",
    "    w -= alpha * (1/n * 2 * np.sum(X * (y_pred - y), axis=1))\n",
    "    w_pred = w\n",
    "    \n",
    "    if i % 10 == 0:\n",
    "        print(f'Iteration #{i}: W_new = {w}, MSE = {round(err,2)}')\n",
    "    \n",
    "    y_pred = np.dot(w, X)\n",
    "    err1 = calc_mse(y, y_pred)\n",
    "    if abs(err1 - err) < alpha:\n",
    "        break\n",
    "    err = err1\n",
    "    i+=1"
   ]
  },
  {
   "cell_type": "code",
   "execution_count": null,
   "metadata": {},
   "outputs": [],
   "source": []
  }
 ],
 "metadata": {
  "kernelspec": {
   "display_name": "Python 3",
   "language": "python",
   "name": "python3"
  },
  "language_info": {
   "codemirror_mode": {
    "name": "ipython",
    "version": 3
   },
   "file_extension": ".py",
   "mimetype": "text/x-python",
   "name": "python",
   "nbconvert_exporter": "python",
   "pygments_lexer": "ipython3",
   "version": "3.8.3"
  }
 },
 "nbformat": 4,
 "nbformat_minor": 4
}
