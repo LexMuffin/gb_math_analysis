{
 "cells": [
  {
   "cell_type": "markdown",
   "metadata": {},
   "source": [
    "# Тема \"Введение в математический анализ\""
   ]
  },
  {
   "cell_type": "markdown",
   "metadata": {},
   "source": [
    "**1) Как относятся друг к другу множество и последовательность? \n",
    "(в ответе использовать слова типа: часть, целое, общее, частное, родитель, дочерний субъект и т.д.)**\n"
   ]
  },
  {
   "cell_type": "markdown",
   "metadata": {},
   "source": [
    "Множество и последовательность.\n",
    "Множеством является совокупность произвольного числа элементов.\n",
    "Числовая последовательность - упорядоченное множество вещественных чисел, причем порядок определяется тем, что\n",
    "у каждого элемента последовательности есть порядковый номер.\n",
    "Последовательность - упорядоченное множество."
   ]
  },
  {
   "cell_type": "markdown",
   "metadata": {},
   "source": [
    "**2) Прочитать высказывания математической логики, построить их отрицания и установить истинность.**"
   ]
  },
  {
   "cell_type": "markdown",
   "metadata": {},
   "source": [
    "<center>\n",
    "    $$\n",
    "        1) \\forall y \\in [0;1] : sqn(y) = 1 \\\\\n",
    "        2) \\forall n \\in \\mathbb{N} > 2 : \\exists x, y, z \\in \\mathbb{N} : x^n = y^n + z^n \\\\\n",
    "        3) \\forall x \\in \\mathbb{R} \\exists X \\in \\mathbb{R} : X > x \\\\\n",
    "        4) \\forall x \\in \\mathbb{C} \\nexists y \\in \\mathbb{C} : x > y || x < y \\\\\n",
    "        5) \\forall y \\in [0; \\frac{\\pi}2] \\exists \\epsilon > 0 : siny < sin(y + \\epsilon) \\\\\n",
    "        6) \\forall y \\in [0; \\pi) \\exists \\epsilon > 0 : cosy > cos(y + \\epsilon) \\\\\n",
    "        7) \\exists x : x \\notin \\{\\mathbb{N}, \\mathbb{Z}, \\mathbb{Q}, \\mathbb{R}, \\mathbb{C}\\} \\\\\n",
    "    $$\n",
    "</center>"
   ]
  },
  {
   "cell_type": "markdown",
   "metadata": {},
   "source": [
    "1) $ \\forall y \\in [0;1] : sqn(y) = 1  $ \\\n",
    "Высказывание - для любого y, принадлежащего от 0 до 1 включительно, знак равен 1 \\\n",
    "Высказывание ложно, потому что sgn(0) = 0 \\\n",
    "Отрицание - $ \\exists y \\in [0;1]: sgn(y) \\neq 1 $ \\"
   ]
  },
  {
   "cell_type": "markdown",
   "metadata": {},
   "source": [
    "2) $ \\forall n \\in \\mathbb{N} > 2 : \\exists x, y, z \\in \\mathbb{N} : x^n = y^n + z^n $ \\\n",
    "Высказывание - для любого n принадлежащего области натуральных чисел, который больше 2 ; существует x, y, z принадлежащие области натуральных чисел ; такие что x в степени n равен y в степени n плюс z в степени n \\\n",
    "Высказывание ложно. Для n > 2 нет натуральных решений для данного уравнения. \\\n",
    "Отрицание - $ \\exists n \\in \\mathbb{N} > 2 : \\forall x, y, z \\exists \\mathbb{N} : x^n \\neq y^n + z^n $"
   ]
  },
  {
   "cell_type": "markdown",
   "metadata": {},
   "source": [
    "3) $ \\forall x \\in \\mathbb{R} \\exists X \\in \\mathbb{R} : X > x \\\\ $ \\\n",
    "Высказывание - для всех x принадлежащих области действительных чисел существует такой X принадлежащей области действительных чисел такой что X больше x \\\n",
    "Высказывание верно, потому что найдется хотя бы один X больший x \\\n",
    "Отрицание - $ \\exists x \\in \\mathbb{R} \\forall X \\in \\mathbb{R} : X < x $ "
   ]
  },
  {
   "cell_type": "markdown",
   "metadata": {},
   "source": [
    "4) $ \\forall x \\in \\mathbb{C} \\nexists y \\in \\mathbb{C} : x > y || x < y $ \\\n",
    "Высказывание - для всех x принадлежащих области комплексных чисел не существует такого y принадлежащих области комплексных чисел, таких что x больше y или x меньше y \\\n",
    "Высказывание верно, потому что комплексные числа не упорядочены и необходимо определить что такое больше или меньше \\\n",
    "Отрицание - $ \\exists x, y \\in \\mathbb{C} : x < y || x > y $"
   ]
  },
  {
   "cell_type": "markdown",
   "metadata": {},
   "source": [
    "5) $ \\forall y \\in [0; \\frac{\\pi}2] \\exists \\epsilon > 0 : siny < sin(y + \\epsilon) $ \\\n",
    "Высказывание - для любого y принадлежащего от 0 до $ \\frac{\\pi}2 $ существует $ \\epsilon $ больше 0 , такие что siny меньше sin(y + $ \\epsilon $) \\\n",
    "Высказывание ложно, т.к. при y = $ \\frac{\\pi}2 $ siny принимает максимальное значение и для sin(y + $ \\epsilon $) при y = $ \\frac{\\pi}2 $ будет значени меньше, что не является правдой \\\n",
    "Отрицание - $ \\exists y \\in [0; \\frac{\\pi}2] \\forall \\epsilon > 0 : siny > sin(y + \\epsilon) $"
   ]
  },
  {
   "cell_type": "markdown",
   "metadata": {},
   "source": [
    "6) $ \\forall y \\in [0; \\pi) \\exists \\epsilon > 0 : cosy > cos(y + \\epsilon) $ \\\n",
    "Высказывание - для любого y принадлежащего области от 0 включительно до $ \\pi $ существует такой $ \\epsilon $ больше 0 , такие что cosy больше cos(y + $ \\epsilon $) \\\n",
    "Высказывание верно в любой точке на промежутке от 0 до $ \\pi $ включительно \\\n",
    "Отрицание - $ \\exists y \\in [0; \\pi) \\forall \\epsilon > 0 : cosy \\le cos(y + \\epsilon) $"
   ]
  },
  {
   "cell_type": "markdown",
   "metadata": {},
   "source": [
    "7) $ \\exists x : x \\notin \\{\\mathbb{N}, \\mathbb{Z}, \\mathbb{Q}, \\mathbb{R}, \\mathbb{C}\\} $ \\\n",
    "Высказывание - существует такой x такой что не принадлежит множеству натуральных, целых, рациональных, действительных и комплексных чисел \\\n",
    "Высказывание верно т.к. существуют еще квартернионы и кардиналы, которые не входят в область комплексных чисел \\\n",
    "Отрицание - $ \\forall x : x \\in \\{\\mathbb{N}, \\mathbb{Z}, \\mathbb{Q}, \\mathbb{R}, \\mathbb{C}\\} $"
   ]
  },
  {
   "cell_type": "markdown",
   "metadata": {},
   "source": [
    "# Тема \"Множество\""
   ]
  },
  {
   "cell_type": "markdown",
   "metadata": {},
   "source": [
    "**1) Даны три множества a,b и с. Необходимо выполнить все изученные виды бинарных операций над всеми комбинациями множеств.**"
   ]
  },
  {
   "cell_type": "markdown",
   "metadata": {},
   "source": [
    "**2) *Выполнить задание 1 на языке Python**"
   ]
  },
  {
   "cell_type": "code",
   "execution_count": 5,
   "metadata": {},
   "outputs": [],
   "source": [
    "a = {1, 3, 4, 5, 10, 20, 30}\n",
    "b = {3, 10, 25, 30, 35, 40}\n",
    "c = {1, 5, 7, 15, 30, 45}"
   ]
  },
  {
   "cell_type": "code",
   "execution_count": 7,
   "metadata": {},
   "outputs": [
    {
     "name": "stdout",
     "output_type": "stream",
     "text": [
      "{1, 3, 4, 5, 35, 40, 10, 20, 25, 30}\n",
      "{1, 3, 35, 5, 7, 40, 10, 45, 15, 25, 30}\n",
      "{1, 3, 4, 5, 7, 10, 45, 15, 20, 30}\n",
      "{1, 3, 4, 5, 35, 7, 40, 10, 45, 15, 20, 25, 30}\n"
     ]
    }
   ],
   "source": [
    "# Объединение\n",
    "print(a | b)\n",
    "print(b | c)\n",
    "print(a | c)\n",
    "print(a | b | c)"
   ]
  },
  {
   "cell_type": "code",
   "execution_count": 8,
   "metadata": {},
   "outputs": [
    {
     "name": "stdout",
     "output_type": "stream",
     "text": [
      "{10, 3, 30}\n",
      "{30}\n",
      "{1, 5, 30}\n",
      "{30}\n"
     ]
    }
   ],
   "source": [
    "# Пересечение\n",
    "print(a & b)\n",
    "print(b & c)\n",
    "print(a & c)\n",
    "print(a & b & c)"
   ]
  },
  {
   "cell_type": "code",
   "execution_count": 10,
   "metadata": {},
   "outputs": [
    {
     "name": "stdout",
     "output_type": "stream",
     "text": [
      "{1, 20, 4, 5}\n",
      "{35, 3, 40, 10, 25}\n",
      "{10, 3, 4, 20}\n"
     ]
    }
   ],
   "source": [
    "# Разность\n",
    "print(a - b)\n",
    "print(b - c)\n",
    "print(a - c)\n",
    "# можно и скомбинировать из разряда a - b - c, b - a - c и т.п."
   ]
  },
  {
   "cell_type": "code",
   "execution_count": 12,
   "metadata": {},
   "outputs": [
    {
     "name": "stdout",
     "output_type": "stream",
     "text": [
      "{1, 4, 5, 20, 25, 35, 40}\n",
      "{1, 3, 5, 7, 10, 15, 25, 35, 40, 45}\n",
      "{3, 4, 7, 10, 45, 15, 20}\n"
     ]
    }
   ],
   "source": [
    "# Симметричная разность\n",
    "print(a ^ b)\n",
    "print(b ^ c)\n",
    "print(a ^ c)"
   ]
  },
  {
   "cell_type": "code",
   "execution_count": null,
   "metadata": {},
   "outputs": [],
   "source": []
  }
 ],
 "metadata": {
  "kernelspec": {
   "display_name": "Python 3",
   "language": "python",
   "name": "python3"
  },
  "language_info": {
   "codemirror_mode": {
    "name": "ipython",
    "version": 3
   },
   "file_extension": ".py",
   "mimetype": "text/x-python",
   "name": "python",
   "nbconvert_exporter": "python",
   "pygments_lexer": "ipython3",
   "version": "3.8.3"
  }
 },
 "nbformat": 4,
 "nbformat_minor": 4
}
