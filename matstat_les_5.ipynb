{
 "cells": [
  {
   "cell_type": "code",
   "execution_count": 14,
   "metadata": {},
   "outputs": [],
   "source": [
    "import math\n",
    "from scipy import stats"
   ]
  },
  {
   "cell_type": "markdown",
   "metadata": {},
   "source": [
    "Задание 1\n",
    "Известно, что генеральная совокупность распределена нормально\n",
    "со средним квадратическим отклонением, равным 16.\n",
    "Найти доверительный интервал для оценки математического ожидания a с надежностью 0.95,\n",
    "если выборочная средняя M = 80, а объем выборки n = 256."
   ]
  },
  {
   "cell_type": "code",
   "execution_count": 15,
   "metadata": {},
   "outputs": [
    {
     "name": "stdout",
     "output_type": "stream",
     "text": [
      "Доверительный интервал для оценки математического ожидания a с надежностью 0.95 [78.04, 81.96]\n"
     ]
    }
   ],
   "source": [
    "std = 16\n",
    "mean = 80\n",
    "n = 256\n",
    "t_stat = 1.96\n",
    "confidence = 0.95\n",
    "\n",
    "lower_interval = mean - t_stat * std / math.sqrt(n)\n",
    "upper_interval = mean + t_stat * std / math.sqrt(n)\n",
    "\n",
    "print(f'Доверительный интервал для оценки математического ожидания a с надежностью 0.95 [{lower_interval}, {upper_interval}]')"
   ]
  },
  {
   "cell_type": "markdown",
   "metadata": {},
   "source": [
    "Задание 2\n",
    "В результате 10 независимых измерений некоторой величины X, выполненных с одинаковой точностью,\n",
    "получены опытные данные:\n",
    "6.9, 6.1, 6.2, 6.8, 7.5, 6.3, 6.4, 6.9, 6.7, 6.1\n",
    "Предполагая, что результаты измерений подчинены нормальному закону распределения вероятностей,\n",
    "оценить истинное значение величины X при помощи доверительного интервала, покрывающего это\n",
    "значение с доверительной вероятностью 0,95."
   ]
  },
  {
   "cell_type": "code",
   "execution_count": 16,
   "metadata": {},
   "outputs": [
    {
     "name": "stdout",
     "output_type": "stream",
     "text": [
      "Доверительный интервал для оценки математического ожидания a с надежностью 0.95 [6.288684107023873, 6.891315892976125]\n"
     ]
    }
   ],
   "source": [
    "data = [6.9, 6.1, 6.2, 6.8, 7.5, 6.3, 6.4, 6.9, 6.7, 6.1]\n",
    "confidence = 0.95\n",
    "n = 10\n",
    "t_stat = 2.228\n",
    "\n",
    "mean = sum(data) / n\n",
    "std = math.sqrt(sum([(i - mean)**2 for i in data]) / n)\n",
    "\n",
    "lower_interval = mean - t_stat * std / math.sqrt(n)\n",
    "upper_interval = mean + t_stat * std / math.sqrt(n)\n",
    "\n",
    "print(f'Доверительный интервал для оценки математического ожидания a с надежностью 0.95 [{lower_interval}, {upper_interval}]')"
   ]
  },
  {
   "cell_type": "markdown",
   "metadata": {},
   "source": [
    "Задание 3\n",
    "Утверждается, что шарики для подшипников, изготовленные автоматическим станком, имеют средний диаметр 17 мм.\n",
    "Используя односторонний критерий с α=0,05, проверить эту гипотезу, если в выборке из n=100 шариков средний диаметр\n",
    "оказался равным 17.5 мм, а дисперсия известна и равна 4 мм."
   ]
  },
  {
   "cell_type": "code",
   "execution_count": 27,
   "metadata": {},
   "outputs": [
    {
     "name": "stdout",
     "output_type": "stream",
     "text": [
      "P-value = 0.10712316878419327\n",
      "Уровень ошибки = 0.05\n",
      "Диаметр можно считать статистически значимым с вероятность 0.95\n"
     ]
    }
   ],
   "source": [
    "# H0 = 17\n",
    "# H1 != 17\n",
    "\n",
    "mean_d = 17\n",
    "\n",
    "alpha = 0.05\n",
    "n = 100\n",
    "mean_d_new = 17.5\n",
    "var_new = 4\n",
    "\n",
    "std_new = math.sqrt(var_new)\n",
    "t_stat = (mean_d_new - mean_d) / (var_new / math.sqrt(n))\n",
    "p_value = stats.t.sf(abs(t_stat), n - 1)\n",
    "\n",
    "print(f'P-value = {p_value}\\n' f'Уровень ошибки = {alpha}\\n' f'Диаметр можно считать статистически значимым с вероятность 0.95')"
   ]
  },
  {
   "cell_type": "markdown",
   "metadata": {},
   "source": [
    "Задание 4\n",
    "Продавец утверждает, что средний вес пачки печенья составляет 200 г.\n",
    "Из партии извлечена выборка из 10 пачек. Вес каждой пачки составляет:\n",
    "202, 203, 199, 197, 195, 201, 200, 204, 194, 190.\n",
    "Известно, что их веса распределены нормально.\n",
    "Верно ли утверждение продавца, если учитывать, что доверительная вероятность равна 99%?"
   ]
  },
  {
   "cell_type": "code",
   "execution_count": 32,
   "metadata": {},
   "outputs": [
    {
     "name": "stdout",
     "output_type": "stream",
     "text": [
      "P-value = 0.796428365808854\n",
      "Уровень ошибки = 0.01\n",
      "Нулевая гипотеза не отвергается\n"
     ]
    }
   ],
   "source": [
    "mean_w = 200\n",
    "n = 10\n",
    "data = [202, 203, 199, 197, 195, 201, 200, 204, 194, 190]\n",
    "mean_w_new = sum(data) / len(data)\n",
    "var_w_new = sum([(i - mean_w_new)**2 for i in data]) / len(data)\n",
    "\n",
    "std_w_new = math.sqrt(var_w_new)\n",
    "alpha = 0.01\n",
    "\n",
    "t_stat = (mean_w_new - mean_w) / (var_w_new / math.sqrt(n))\n",
    "\n",
    "p_value = stats.t.sf(abs(t_stat), n - 1) * 2\n",
    "print(f'P-value = {p_value}\\n' f'Уровень ошибки = {alpha}\\n' f'Нулевая гипотеза не отвергается')"
   ]
  }
 ],
 "metadata": {
  "kernelspec": {
   "display_name": "Python 3",
   "language": "python",
   "name": "python3"
  },
  "language_info": {
   "codemirror_mode": {
    "name": "ipython",
    "version": 3
   },
   "file_extension": ".py",
   "mimetype": "text/x-python",
   "name": "python",
   "nbconvert_exporter": "python",
   "pygments_lexer": "ipython3",
   "version": "3.8.3"
  }
 },
 "nbformat": 4,
 "nbformat_minor": 4
}
