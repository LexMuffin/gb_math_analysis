{
 "cells": [
  {
   "cell_type": "markdown",
   "metadata": {},
   "source": [
    "# Тема 3 “Последовательность”"
   ]
  },
  {
   "cell_type": "markdown",
   "metadata": {},
   "source": [
    "1. **Даны 4 последовательности. Необходимо:**\n",
    "    - **исследовать их на монотонность;**\n",
    "    - **исследовать на ограниченность;**\n",
    "    - **найти пятый по счету член.**\n",
    "\n",
    "<center>\n",
    "    $$\n",
    "        1) \\left\\{ a_n \\right\\}_{n=1}^{\\infty} = 2^n - n \\\\\n",
    "        2) \\left\\{ b_n \\right\\}_{n=2}^{\\infty} = \\frac{1}{1-n} \\\\\n",
    "        3) \\left\\{ c_n \\right\\}_{n=1}^{\\infty} = -1^n + \\sqrt{2n} \\\\\n",
    "        4) \\left\\{ d_n \\right\\}_{n=1}^{\\infty} = (-1)^{2n} + \\frac{1}{n^2}\n",
    "    $$\n",
    "</center>"
   ]
  },
  {
   "cell_type": "markdown",
   "metadata": {},
   "source": [
    "1) $ \\left\\{ a_n \\right\\}_{n=1}^{\\infty} = 2^n - n $\n",
    "- Последовательность возрастает.\n",
    "- Последовательность ограничена снизу: $ 1 \\le \\left\\{ a_n \\right\\}_{n=1}^{\\infty} < \\infty $.\n",
    "- $ 2^n > n $ при любых n, поэтому наименьшее значение будет $ a_1 = 2^1 - 1 = 1$.\n",
    "- Предел последовательности стремится к $\\infty$, т.к. $2^n$ растет быстрее $n$ и уходит в бесконечность, наибольшее значение не определно.\n",
    "- 5-й член последовательности $a_5 = 27 $."
   ]
  },
  {
   "cell_type": "markdown",
   "metadata": {},
   "source": [
    "2) $ \\left\\{ b_n \\right\\}_{n=2}^{\\infty} = \\frac{1}{1-n} $\n",
    "- Последовательность убывает.\n",
    "- Последовательность ограничена снизу и сверху: $ -1 \\le \\left\\{ b_n \\right\\}_{n=2}^{\\infty} < 0 $.\n",
    "- Получается бесконечно убывающая дробь.\n",
    "- Предел последовательности = 0, т.к. знаменатель дроби стремится к - $ \\infty $.\n",
    "- 5-й член последовательности $b_6 = -0.2$."
   ]
  },
  {
   "cell_type": "markdown",
   "metadata": {},
   "source": [
    "3) $ \\left\\{ c_n \\right\\}_{n=1}^{\\infty} = -1^n + \\sqrt{2n} $\n",
    "- Последовательность возрастает.\n",
    "- Последовательность ограничена снизу: $ -1 + \\sqrt{2} \\le \\left\\{ c_n \\right\\}_{n=1}^{\\infty} < \\infty $.\n",
    "- Функция $\\sqrt{2n}$ растет до бесконечности, $-1^n$ не оказывает сильного влияния на нее, т.к. всегда равна -1.\n",
    "- $\\sqrt{2n}$ принимает минимальное значение при $n = 1$.\n",
    "- Вся функция $-1^n + \\sqrt{2n}$ принимает минимальное значение при $n = 1 \\Rightarrow -1 + \\sqrt{2}$.\n",
    "- 5-й член последовательности $c_5 = -1 + \\sqrt{10}$."
   ]
  },
  {
   "cell_type": "markdown",
   "metadata": {},
   "source": [
    "4) $ \\left\\{ d_n \\right\\}_{n=1}^{\\infty} = (-1)^{2n} + \\frac{1}{n^2} $\n",
    "- Последовательность убывает.\n",
    "- Последовательность ограничена снизу и сверху: $ 1 < \\left\\{ d_n \\right\\}_{n=1}^{\\infty} \\le 2 $.\n",
    "- $(-1)^{2n}$ всегда равно $1$, $1/n^2$ максимально при $n = 1$ со значением $1$ и минимально при стремлении $n$ к $\\infty$, т.к. значение стремится к 0.\n",
    "- 5-й член последовательности $d_5 = 1.04$."
   ]
  },
  {
   "cell_type": "markdown",
   "metadata": {},
   "source": [
    "2. **Найти 12-й член заданной неявно последовательности**\n",
    "\n",
    "<center>\n",
    "    $$ a_{1} = 128, a_{n+1} - a_{n} = 6 $$\n",
    "</center>"
   ]
  },
  {
   "cell_type": "code",
   "execution_count": 3,
   "metadata": {},
   "outputs": [
    {
     "data": {
      "text/plain": [
       "194"
      ]
     },
     "execution_count": 3,
     "metadata": {},
     "output_type": "execute_result"
    }
   ],
   "source": [
    "n = 12\n",
    "a = 128\n",
    "for i in range(n - 1):\n",
    "    a += 6\n",
    "a"
   ]
  },
  {
   "cell_type": "code",
   "execution_count": null,
   "metadata": {},
   "outputs": [],
   "source": []
  }
 ],
 "metadata": {
  "kernelspec": {
   "display_name": "Python 3",
   "language": "python",
   "name": "python3"
  },
  "language_info": {
   "codemirror_mode": {
    "name": "ipython",
    "version": 3
   },
   "file_extension": ".py",
   "mimetype": "text/x-python",
   "name": "python",
   "nbconvert_exporter": "python",
   "pygments_lexer": "ipython3",
   "version": "3.8.3"
  }
 },
 "nbformat": 4,
 "nbformat_minor": 4
}
