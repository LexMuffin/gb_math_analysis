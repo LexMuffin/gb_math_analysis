{
 "cells": [
  {
   "cell_type": "markdown",
   "metadata": {},
   "source": [
    "## Тема “Производные функций нескольких переменных”"
   ]
  },
  {
   "cell_type": "markdown",
   "metadata": {},
   "source": [
    "1. Найти область определения функции.\n",
    "$$\n",
    "z = \\sqrt{1 - x^3} + ln(y^2 - 1)\n",
    "$$"
   ]
  },
  {
   "cell_type": "markdown",
   "metadata": {},
   "source": [
    "$ f(x) = \\sqrt{1 - x^3} $, $ \\sqrt{1 - x^3} \\geq 0 $ \\ \n",
    "$ g(y) = ln(y^2 - 1)$, $ y^2 - 1 > 0 $\n",
    "\n",
    "$$ x \\in (-\\infty; 1] \\\\ y \\in (-\\infty; -1) \\cup (1; +\\infty) $$"
   ]
  },
  {
   "cell_type": "markdown",
   "metadata": {},
   "source": [
    "2. Найти производные 1-го порядка функции.\n",
    "$$\n",
    "z = \\bigg (1 + \\frac{ln(x)}{ln(y)} \\bigg )^3\n",
    "$$"
   ]
  },
  {
   "cell_type": "markdown",
   "metadata": {},
   "source": [
    "$$\n",
    "z'_x\n",
    "= \\bigg (1 + \\frac{ln(x)}{ln(y)} \\bigg )^2 * \\frac{3}{x * ln(y)} \\\\\n",
    "z'_y\n",
    "= \\bigg (1 + \\frac{ln(x)}{ln(y)} \\bigg )^2 * \\frac{-3ln(x)}{y * ln^2(y)}\n",
    "$$"
   ]
  },
  {
   "cell_type": "markdown",
   "metadata": {},
   "source": [
    "3. Найти полный дифференциал функции в точке (1; 1).\n",
    "$$\n",
    "z = \\sqrt{2xy + cos(\\frac{x}{y})}\n",
    "$$"
   ]
  },
  {
   "cell_type": "markdown",
   "metadata": {},
   "source": [
    "$$\n",
    "z'_x\n",
    "= \\frac{1}{2\\sqrt{2xy + cos(\\frac{x}{y})}} * (2y - sin(\\frac{x}{y})) * (\\frac{-x}{y^2})\n",
    "= \\frac{x*sin(\\frac{x}{y}) - 2xy}{2y^2 * \\sqrt{2xy + cos(\\frac{x}{y})}}, \\\\\n",
    "z'_x(1; 1)\n",
    "= \\frac{1*sin(\\frac{1}{1}) - 2*1*1}{2*1^2 * \\sqrt{2*1*1 + cos(\\frac{1}{1})}}\n",
    "= -\\frac{1}{2\\sqrt{2}}.\n",
    "$$\n",
    "\n",
    "$$\n",
    "z'_y\n",
    "= \\frac{1}{2\\sqrt{2xy + cos(\\frac{x}{y})}} * (2x - sin(\\frac{x}{y})) * (\\frac{1}{y})\n",
    "= \\frac{2x - sin(\\frac{x}{y})}{2y * \\sqrt{2xy + cos(\\frac{x}{y})}}, \\\\\n",
    "z'_y(1; 1)\n",
    "= \\frac{2*1 - sin(\\frac{1}{1})}{2*1 * \\sqrt{2*1*1 + cos(\\frac{1}{1})}}\n",
    "= \\frac{1}{2\\sqrt{2}}.\n",
    "$$\n",
    "\n",
    "$$\n",
    "dz = -\\frac{1}{2\\sqrt{2}}dx + \\frac{1}{2\\sqrt{2}}dy.\n",
    "$$"
   ]
  },
  {
   "cell_type": "markdown",
   "metadata": {},
   "source": [
    "4. Исследовать на экстремум функцию.\n",
    "$$\n",
    "z = x^2 + xy + y^2 - 6x - 9y\n",
    "$$"
   ]
  },
  {
   "cell_type": "markdown",
   "metadata": {},
   "source": [
    "$$\n",
    "\\left\\{\n",
    "    \\begin{array} \\\\\n",
    "        z'_x = 2x + y - 6 = 0 \\\\\n",
    "        z'_y = 2y + x - 9 = 0\n",
    "    \\end{array}\n",
    "\\right.\n",
    "\\iff\n",
    "\\left\\{\n",
    "    \\begin{array} \\\\\n",
    "        x = 9 - 2y \\\\\n",
    "        y = 6 - 2x\n",
    "    \\end{array}\n",
    "\\right.\n",
    "\\iff\n",
    "\\left\\{\n",
    "    \\begin{array} \\\\\n",
    "        x = 1 \\\\\n",
    "        y = 4\n",
    "    \\end{array}\n",
    "\\right.\n",
    "$$\n",
    "Cтационарная точка $(1; 4)$.\n",
    "\n",
    "$$\n",
    "z'_x = 2 \\\\\n",
    "z'_y = 2 \\\\\n",
    "z'_{xy} = z'_{yx} = 1 \\\\\n",
    "\\Delta = \\begin{vmatrix}\n",
    "    2 & 1 \\\\\n",
    "    1 & 2\n",
    "\\end{vmatrix}\n",
    "= 2 * 2 - 1 * 1 = 3 > 0. \\\\\n",
    "z'_{xx} = 2 > 0.\n",
    "$$"
   ]
  },
  {
   "cell_type": "markdown",
   "metadata": {},
   "source": [
    "точка $(1; 4)$ - минимум функции"
   ]
  },
  {
   "cell_type": "code",
   "execution_count": null,
   "metadata": {},
   "outputs": [],
   "source": []
  }
 ],
 "metadata": {
  "kernelspec": {
   "display_name": "Python 3",
   "language": "python",
   "name": "python3"
  },
  "language_info": {
   "codemirror_mode": {
    "name": "ipython",
    "version": 3
   },
   "file_extension": ".py",
   "mimetype": "text/x-python",
   "name": "python",
   "nbconvert_exporter": "python",
   "pygments_lexer": "ipython3",
   "version": "3.8.3"
  }
 },
 "nbformat": 4,
 "nbformat_minor": 4
}
