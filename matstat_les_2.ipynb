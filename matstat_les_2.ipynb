{
 "cells": [
  {
   "cell_type": "code",
   "execution_count": 4,
   "metadata": {},
   "outputs": [],
   "source": [
    "import math\n",
    "from math import factorial"
   ]
  },
  {
   "cell_type": "code",
   "execution_count": 5,
   "metadata": {},
   "outputs": [],
   "source": [
    "def permutations(k, n):\n",
    "    return factorial(n) / factorial(n - k)"
   ]
  },
  {
   "cell_type": "code",
   "execution_count": 6,
   "metadata": {},
   "outputs": [],
   "source": [
    "def combinations(k, n):\n",
    "    return permutations(k, n) / factorial(k)"
   ]
  },
  {
   "cell_type": "markdown",
   "metadata": {},
   "source": [
    "Задание 1\n",
    "Вероятность того, что стрелок попадет в мишень, выстрелив один раз, равна 0.8. Стрелок выстрелил 100 раз. Найдите вероятность того, что стрелок попадет в цель ровно 85 раз."
   ]
  },
  {
   "cell_type": "code",
   "execution_count": 8,
   "metadata": {},
   "outputs": [
    {
     "name": "stdout",
     "output_type": "stream",
     "text": [
      "0.04806179370074637\n"
     ]
    }
   ],
   "source": [
    "n = 100\n",
    "success = 85\n",
    "p = 0.8\n",
    "q = 1 - p\n",
    "\n",
    "valid_combinations = combinations(success, n)\n",
    "probability = valid_combinations * (p ** success) * (q ** (n - success))\n",
    "print(probability)"
   ]
  },
  {
   "cell_type": "markdown",
   "metadata": {},
   "source": [
    "Задание 2\n",
    "Вероятность того, что лампочка перегорит в течение первого дня эксплуатации, равна 0.0004. В жилом комплексе после ремонта в один день включили 5000 новых лампочек. Какова вероятность, что ни одна из них не перегорит в первый день? Какова вероятность, что перегорят ровно две?"
   ]
  },
  {
   "cell_type": "code",
   "execution_count": 14,
   "metadata": {},
   "outputs": [
    {
     "name": "stdout",
     "output_type": "stream",
     "text": [
      "0.13528114551440706\n",
      "0.2707247150266753\n"
     ]
    }
   ],
   "source": [
    "# биномиальное распределение \n",
    "n = 5000\n",
    "p = 0.0004\n",
    "q = 1 - p\n",
    "\n",
    "success_1 = 0\n",
    "\n",
    "valid_combinations_1 = combinations(success_1, n)\n",
    "probability_1 = valid_combinations * (p ** success_1) * (q ** (n - success_1))\n",
    "print(probability_1)\n",
    "\n",
    "success_2 = 2\n",
    "\n",
    "valid_combinations_2 = combinations(success_2, n)\n",
    "probability_2 = valid_combinations_2 * (p ** success_2) * (q ** (n - success_2))\n",
    "print(probability_2)"
   ]
  },
  {
   "cell_type": "code",
   "execution_count": 17,
   "metadata": {},
   "outputs": [
    {
     "name": "stdout",
     "output_type": "stream",
     "text": [
      "0.1353352832366127\n",
      "0.2706705664732254\n"
     ]
    }
   ],
   "source": [
    "# Распределение Пуассона\n",
    "\n",
    "lambda_val = n * p\n",
    "\n",
    "probability_1 = math.e ** (-2) * (lambda_val ** 0) / factorial(0)\n",
    "print(probability_1)\n",
    "\n",
    "probability_2 = math.e ** (-2) * (lambda_val ** 2) / factorial(2)\n",
    "print(probability_2)"
   ]
  },
  {
   "cell_type": "markdown",
   "metadata": {},
   "source": [
    "Задание 3\n",
    "Монету подбросили 144 раза. Какова вероятность, что орел выпадет ровно 70 раз?"
   ]
  },
  {
   "cell_type": "code",
   "execution_count": 18,
   "metadata": {},
   "outputs": [
    {
     "name": "stdout",
     "output_type": "stream",
     "text": [
      "0.06281178035144776\n"
     ]
    }
   ],
   "source": [
    "n = 144\n",
    "success = 70\n",
    "p = 0.5\n",
    "q = 1 - p\n",
    "\n",
    "valid_combinations = combinations(success, n)\n",
    "probability = valid_combinations * (p ** success) * (q ** (n - success))\n",
    "print(probability)"
   ]
  },
  {
   "cell_type": "markdown",
   "metadata": {},
   "source": [
    "Задание 4\n",
    "В первом ящике находится 10 мячей, из которых 7 - белые. Во втором ящике - 11 мячей, из которых 9 белых. Из каждого ящика вытаскивают случайным образом по два мяча. Какова вероятность того, что все мячи белые? Какова вероятность того, что ровно два мяча белые? Какова вероятность того, что хотя бы один мяч белый?"
   ]
  },
  {
   "cell_type": "code",
   "execution_count": 23,
   "metadata": {},
   "outputs": [
    {
     "name": "stdout",
     "output_type": "stream",
     "text": [
      "0.3054545454545455\n",
      "0.20484848484848484\n",
      "0.9987878787878788\n"
     ]
    }
   ],
   "source": [
    "box_1 = 10\n",
    "box_1_w = 7\n",
    "box_2 = 11\n",
    "box_2_w = 9\n",
    "\n",
    "a = 2\n",
    "b = 2\n",
    "\n",
    "# Какова вероятность того, что все мячи белые?\n",
    "all_combinations = combinations(a, box_1) * combinations(b, box_2)\n",
    "\n",
    "cases_1 = combinations(a, box_1_w) * combinations(b, box_2_w)\n",
    "probability_1 = cases_1 / all_combinations\n",
    "print(probability_1)\n",
    "\n",
    "# Какова вероятность того, что ровно два мяча белые?\n",
    "cases_2_1 = combinations(0, box_1_w) * combinations(2, box_1 - box_1_w) * combinations(2, box_2_w) * combinations(0, box_2 - box_2_w)\n",
    "cases_2_2 = combinations(1, box_1_w) * combinations(1, box_1 - box_1_w) * combinations(1, box_2_w) * combinations(1, box_2 - box_2_w)\n",
    "cases_2_3 = combinations(2, box_1_w) * combinations(0, box_1 - box_1_w) * combinations(0, box_2_w) * combinations(2, box_2 - box_2_w)\n",
    "\n",
    "cases_2 = cases_2_1 + cases_2_2 + cases_2_3\n",
    "probability_2 = cases_2 / all_combinations\n",
    "print(probability_2)\n",
    "\n",
    "# Какова вероятность того, что хотя бы один мяч белый?\n",
    "cases_3 = combinations(2, box_1 - box_1_w) * combinations(2, box_2 - box_2_w)\n",
    "probability_3 = 1 - (cases_3 / all_combinations)\n",
    "print(probability_3)"
   ]
  }
 ],
 "metadata": {
  "kernelspec": {
   "display_name": "Python 3",
   "language": "python",
   "name": "python3"
  },
  "language_info": {
   "codemirror_mode": {
    "name": "ipython",
    "version": 3
   },
   "file_extension": ".py",
   "mimetype": "text/x-python",
   "name": "python",
   "nbconvert_exporter": "python",
   "pygments_lexer": "ipython3",
   "version": "3.8.3"
  }
 },
 "nbformat": 4,
 "nbformat_minor": 4
}
