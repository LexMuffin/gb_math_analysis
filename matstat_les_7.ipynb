{
 "cells": [
  {
   "cell_type": "code",
   "execution_count": 1,
   "metadata": {},
   "outputs": [],
   "source": [
    "import math\n",
    "import pandas as pd\n",
    "import numpy as np"
   ]
  },
  {
   "cell_type": "markdown",
   "metadata": {},
   "source": [
    "# Задание 1\n",
    "Даны значения величины заработной платы заемщиков банка (zp) и значения их поведенческого кредитного скоринга (ks): zp = [35, 45, 190, 200, 40, 70, 54, 150, 120, 110], ks = [401, 574, 874, 919, 459, 739, 653, 902, 746, 832]. Используя математические операции, посчитать коэффициенты линейной регрессии, приняв за X заработную плату (то есть, zp - признак), а за y - значения скорингового балла (то есть, ks - целевая переменная). Произвести расчет как с использованием intercept, так и без."
   ]
  },
  {
   "cell_type": "code",
   "execution_count": 27,
   "metadata": {},
   "outputs": [
    {
     "name": "stdout",
     "output_type": "stream",
     "text": [
      "2.3584849941624877\n",
      "470.7496215919237\n",
      "[553.29659639 576.88144633 918.86177048 942.44662042 565.08902136\n",
      " 635.84357118 598.10781128 824.52237072 753.76782089 730.18297095]\n",
      "0.7987410828665242\n"
     ]
    }
   ],
   "source": [
    "zp = np.array([35, 45, 190, 200, 40, 70, 54, 150, 120, 110])\n",
    "ks = np.array([401, 574, 874, 919, 459, 739, 653, 902, 746, 832])\n",
    "\n",
    "mean_zp = zp.mean()\n",
    "mean_ks = ks.mean()\n",
    "mean_zp_ks = (zp * ks).mean()\n",
    "\n",
    "var_zp = sum((zp - mean_zp)**2) / (len(zp) - 1)\n",
    "var_ks = sum((ks - mean_ks)**2) / (len(ks) - 1)\n",
    "std_zp = math.sqrt(var_zp)\n",
    "std_ks = math.sqrt(var_ks)\n",
    "\n",
    "cov = mean_zp_ks - mean_zp * mean_ks\n",
    "b = cov / var_zp\n",
    "print(b)\n",
    "a = mean_ks - b * mean_zp\n",
    "print(a)\n",
    "\n",
    "pred = a + b * zp\n",
    "print(pred)\n",
    "\n",
    "r2 = cov / (std_zp * std_ks)\n",
    "print(r2)"
   ]
  },
  {
   "cell_type": "markdown",
   "metadata": {},
   "source": [
    "# Задание 2\n",
    "В каких случаях для вычисления доверительных интервалов и проверки статистических гипотез используется таблица значений функции Лапласа, а в каких - таблица критических точек распределения Стьюдента?"
   ]
  },
  {
   "cell_type": "markdown",
   "metadata": {},
   "source": [
    "Функция Лапласа используется при достаточно больших выборках(n > 30) и дисперсия ген. совокупности известна. А таблица критических точек распределения Стьюдента при малом количестве значений в выборки и дисперсия ген. совокупности не известна."
   ]
  }
 ],
 "metadata": {
  "kernelspec": {
   "display_name": "Python 3",
   "language": "python",
   "name": "python3"
  },
  "language_info": {
   "codemirror_mode": {
    "name": "ipython",
    "version": 3
   },
   "file_extension": ".py",
   "mimetype": "text/x-python",
   "name": "python",
   "nbconvert_exporter": "python",
   "pygments_lexer": "ipython3",
   "version": "3.8.3"
  }
 },
 "nbformat": 4,
 "nbformat_minor": 4
}
