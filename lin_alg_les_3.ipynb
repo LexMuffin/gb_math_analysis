{
 "cells": [
  {
   "cell_type": "code",
   "execution_count": 2,
   "metadata": {},
   "outputs": [],
   "source": [
    "import numpy as np"
   ]
  },
  {
   "cell_type": "markdown",
   "metadata": {},
   "source": [
    "# Задание 1\n",
    "1. Установить, какие произведения матриц  AB  и  BA  определены, и найти размерности полученных матриц:\n",
    "\n",
    "а)  A  — матрица  4×2 ,  B  — матрица  4×2 ;\n",
    "\n",
    "б)  A  — матрица  2×5 ,  B  — матрица  5×3 ;\n",
    "\n",
    "в)  A  — матрица  8×3 ,  B  — матрица  3×8 ;\n",
    "\n",
    "г)  A  — квадратная матрица  4×4 ,  B  — квадратная матрица  4×4 ."
   ]
  },
  {
   "cell_type": "code",
   "execution_count": 6,
   "metadata": {},
   "outputs": [
    {
     "ename": "ValueError",
     "evalue": "shapes (4,2) and (4,2) not aligned: 2 (dim 1) != 4 (dim 0)",
     "output_type": "error",
     "traceback": [
      "\u001b[1;31m---------------------------------------------------------------------------\u001b[0m",
      "\u001b[1;31mValueError\u001b[0m                                Traceback (most recent call last)",
      "\u001b[1;32m<ipython-input-6-7831789a1ee6>\u001b[0m in \u001b[0;36m<module>\u001b[1;34m\u001b[0m\n\u001b[0;32m      2\u001b[0m \u001b[0ma\u001b[0m \u001b[1;33m=\u001b[0m \u001b[0mnp\u001b[0m\u001b[1;33m.\u001b[0m\u001b[0mones\u001b[0m\u001b[1;33m(\u001b[0m\u001b[1;33m(\u001b[0m\u001b[1;36m4\u001b[0m\u001b[1;33m,\u001b[0m\u001b[1;36m2\u001b[0m\u001b[1;33m)\u001b[0m\u001b[1;33m)\u001b[0m\u001b[1;33m\u001b[0m\u001b[1;33m\u001b[0m\u001b[0m\n\u001b[0;32m      3\u001b[0m \u001b[0mb\u001b[0m \u001b[1;33m=\u001b[0m \u001b[0mnp\u001b[0m\u001b[1;33m.\u001b[0m\u001b[0mones\u001b[0m\u001b[1;33m(\u001b[0m\u001b[1;33m(\u001b[0m\u001b[1;36m4\u001b[0m\u001b[1;33m,\u001b[0m\u001b[1;36m2\u001b[0m\u001b[1;33m)\u001b[0m\u001b[1;33m)\u001b[0m\u001b[1;33m\u001b[0m\u001b[1;33m\u001b[0m\u001b[0m\n\u001b[1;32m----> 4\u001b[1;33m \u001b[0ma\u001b[0m\u001b[1;33m.\u001b[0m\u001b[0mdot\u001b[0m\u001b[1;33m(\u001b[0m\u001b[0mb\u001b[0m\u001b[1;33m)\u001b[0m\u001b[1;33m\u001b[0m\u001b[1;33m\u001b[0m\u001b[0m\n\u001b[0m\u001b[0;32m      5\u001b[0m \u001b[1;31m# число строк должно равняться числу столбцов, поэтому нельтзя перемножить\u001b[0m\u001b[1;33m\u001b[0m\u001b[1;33m\u001b[0m\u001b[1;33m\u001b[0m\u001b[0m\n",
      "\u001b[1;31mValueError\u001b[0m: shapes (4,2) and (4,2) not aligned: 2 (dim 1) != 4 (dim 0)"
     ]
    }
   ],
   "source": [
    "# a)\n",
    "a = np.ones((4,2))\n",
    "b = np.ones((4,2))\n",
    "a.dot(b)\n",
    "# число строк должно равняться числу столбцов, поэтому нельтзя перемножить"
   ]
  },
  {
   "cell_type": "code",
   "execution_count": 11,
   "metadata": {},
   "outputs": [
    {
     "data": {
      "text/plain": [
       "(2, 3)"
      ]
     },
     "execution_count": 11,
     "metadata": {},
     "output_type": "execute_result"
    }
   ],
   "source": [
    "# б)\n",
    "a = np.ones((2,5))\n",
    "b = np.ones((5,3))\n",
    "a.dot(b).shape\n",
    "# получается матрица 2x3"
   ]
  },
  {
   "cell_type": "code",
   "execution_count": 14,
   "metadata": {},
   "outputs": [
    {
     "data": {
      "text/plain": [
       "(8, 8)"
      ]
     },
     "execution_count": 14,
     "metadata": {},
     "output_type": "execute_result"
    }
   ],
   "source": [
    "# в)\n",
    "# Начинаем с матриц с единицами\n",
    "a = np.ones((8,3))\n",
    "b = np.ones((3,8))\n",
    "a.dot(b).shape\n",
    "# получается матрица 8х8"
   ]
  },
  {
   "cell_type": "code",
   "execution_count": 18,
   "metadata": {},
   "outputs": [
    {
     "data": {
      "text/plain": [
       "(4, 4)"
      ]
     },
     "execution_count": 18,
     "metadata": {},
     "output_type": "execute_result"
    }
   ],
   "source": [
    "# г)\n",
    "# Начинаем с матриц с единицами\n",
    "a = np.ones((4,4))\n",
    "b = np.ones((4,4))\n",
    "a.dot(b).shape\n",
    "# получается матрица 4х4"
   ]
  },
  {
   "cell_type": "markdown",
   "metadata": {},
   "source": [
    "# Задание 2.\n",
    " 2.Найти сумму и произведение матриц \n",
    "$ A =\n",
    "\\begin{pmatrix}\n",
    "    1 & -2\\\\ \n",
    "    3 & 0\n",
    "\\end{pmatrix}\n",
    "$ и $\n",
    "B = \n",
    "\\begin{pmatrix}\n",
    "    4 & -1\\\\ \n",
    "    0 & 5\n",
    "\\end{pmatrix} $."
   ]
  },
  {
   "cell_type": "code",
   "execution_count": 31,
   "metadata": {},
   "outputs": [
    {
     "name": "stdout",
     "output_type": "stream",
     "text": [
      "Сумма - \n",
      " [[ 5 -3]\n",
      " [ 3  5]]\n",
      "Произведение - \n",
      " [[  4 -11]\n",
      " [ 12  -3]]\n"
     ]
    }
   ],
   "source": [
    "a = np.array([[1, -2], [3, 0]])\n",
    "b = np.array([[4, -1], [0, 5]])\n",
    "print(f'Сумма - \\n {a + b}')\n",
    "print(f'Произведение - \\n {a.dot(b)}')"
   ]
  },
  {
   "cell_type": "markdown",
   "metadata": {},
   "source": [
    "# Задание 3.\n",
    "3. Из закономерностей сложения и умножения матриц на число можно сделать вывод, что матрицы одного размера образуют линейное пространство. Вычислить линейную комбинацию $ 3A - 2B + 4C $ для матриц \n",
    "$ A =\n",
    "\\begin{pmatrix}\n",
    "    1 & 7\\\\ \n",
    "    3 & -6\n",
    "\\end{pmatrix} $, $ B =\n",
    "\\begin{pmatrix}\n",
    "    0 & 5\\\\ \n",
    "    2 & -1\n",
    "\\end{pmatrix} $, $ C =\n",
    "\\begin{pmatrix}\n",
    "    2 & -4\\\\ \n",
    "    1 & 1\n",
    "\\end{pmatrix} $."
   ]
  },
  {
   "cell_type": "markdown",
   "metadata": {},
   "source": [
    "$\n",
    "3A - 2B + 4C\n",
    "=\n",
    "3\\begin{bmatrix}\n",
    "    1 & 7 \\\\\n",
    "    3 & -6\n",
    "\\end{bmatrix}\n",
    "-\n",
    "2\\begin{bmatrix}\n",
    "    0 & 5 \\\\\n",
    "    2 & -1\n",
    "\\end{bmatrix}\n",
    "+\n",
    "4\\begin{bmatrix}\n",
    "    2 & -4 \\\\\n",
    "    1 & 1\n",
    "\\end{bmatrix}\n",
    "=\n",
    "\\begin{bmatrix}\n",
    "    (3 - 0 + 8) & (21 - 10 - 16) \\\\\n",
    "    (9 - 4 + 4) & (-18 + 2 + 4)\n",
    "\\end{bmatrix}\n",
    "=\n",
    "\\begin{bmatrix}\n",
    "    11 & -5 \\\\\n",
    "    9 & -12\n",
    "\\end{bmatrix}\n",
    "$"
   ]
  },
  {
   "cell_type": "code",
   "execution_count": 34,
   "metadata": {},
   "outputs": [
    {
     "name": "stdout",
     "output_type": "stream",
     "text": [
      "[[ 11  -5]\n",
      " [  9 -12]]\n"
     ]
    }
   ],
   "source": [
    "a = np.array([[1, 7], [3, -6]])\n",
    "b = np.array([[0, 5], [2, -1]])\n",
    "c = np.array([[2, -4], [1, 1]])\n",
    "print(3 * a - 2 * b + 4 * c)"
   ]
  },
  {
   "cell_type": "markdown",
   "metadata": {},
   "source": [
    "# Задание 4.\n",
    "Дана матрица\n",
    "$ A =\n",
    "\\begin{pmatrix}\n",
    "    4 & 1\\\\ \n",
    "    5 & -2\\\\ \n",
    "    2 & 3\n",
    "\\end{pmatrix} $. Вычислить $ A A^{T} $ и $ A^{T} A $."
   ]
  },
  {
   "cell_type": "markdown",
   "metadata": {},
   "source": [
    "$\n",
    "A^T =\n",
    "\\begin{bmatrix}\n",
    "    4 & 5 & 2 \\\\ \n",
    "    1 & -2 & 3\n",
    "\\end{bmatrix}\n",
    "$ \\\n",
    "$\n",
    "A A^T\n",
    "=\n",
    "\\begin{bmatrix}\n",
    "    4 & 1\\\\ \n",
    "    5 & -2\\\\ \n",
    "    2 & 3\n",
    "\\end{bmatrix}\n",
    "\\cdot\n",
    "\\begin{bmatrix}\n",
    "    4 & 5 & 2 \\\\ \n",
    "    1 & -2 & 3\n",
    "\\end{bmatrix}\n",
    "=\n",
    "\\begin{bmatrix}\n",
    "    (16 + 1) & (20 - 2) & (8 + 3) \\\\ \n",
    "    (20 - 2) & (25 + 4) & (10 - 6) \\\\ \n",
    "    (8 + 3) & (10 - 6) & (4 + 9)\n",
    "\\end{bmatrix}\n",
    "=\n",
    "\\begin{bmatrix}\n",
    "    17 & 18 & 11 \\\\ \n",
    "    18 & 29 & 4 \\\\ \n",
    "    11 & 4 & 13\n",
    "\\end{bmatrix}\n",
    "$ \\\n",
    "$\n",
    "A^T A\n",
    "=\n",
    "\\begin{bmatrix}\n",
    "    4 & 5 & 2 \\\\ \n",
    "    1 & -2 & 3\n",
    "\\end{bmatrix}\n",
    "\\cdot\n",
    "\\begin{bmatrix}\n",
    "    4 & 1\\\\ \n",
    "    5 & -2\\\\ \n",
    "    2 & 3\n",
    "\\end{bmatrix}\n",
    "=\n",
    "\\begin{bmatrix}\n",
    "    (16 + 25 + 4) & (4 - 10 + 6)  \\\\ \n",
    "    (4 - 10 + 6) & (1 + 4 + 9)\n",
    "\\end{bmatrix}\n",
    "=\n",
    "\\begin{bmatrix}\n",
    "    45 & 0 \\\\ \n",
    "    0 & 14\n",
    "\\end{bmatrix}\n",
    "$\n",
    "\n"
   ]
  },
  {
   "cell_type": "code",
   "execution_count": 35,
   "metadata": {},
   "outputs": [],
   "source": [
    "a = np.array([[4, 1], [5, -2], [2, 3]])"
   ]
  },
  {
   "cell_type": "code",
   "execution_count": 42,
   "metadata": {},
   "outputs": [
    {
     "name": "stdout",
     "output_type": "stream",
     "text": [
      "[[ 4  5  2]\n",
      " [ 1 -2  3]]\n"
     ]
    }
   ],
   "source": [
    "print(a.T)"
   ]
  },
  {
   "cell_type": "code",
   "execution_count": 43,
   "metadata": {},
   "outputs": [
    {
     "name": "stdout",
     "output_type": "stream",
     "text": [
      "[[17 18 11]\n",
      " [18 29  4]\n",
      " [11  4 13]]\n"
     ]
    }
   ],
   "source": [
    "print(a.dot(a.T))"
   ]
  },
  {
   "cell_type": "code",
   "execution_count": 44,
   "metadata": {},
   "outputs": [
    {
     "name": "stdout",
     "output_type": "stream",
     "text": [
      "[[45  0]\n",
      " [ 0 14]]\n"
     ]
    }
   ],
   "source": [
    "print(a.T.dot(a))"
   ]
  }
 ],
 "metadata": {
  "kernelspec": {
   "display_name": "Python 3",
   "language": "python",
   "name": "python3"
  },
  "language_info": {
   "codemirror_mode": {
    "name": "ipython",
    "version": 3
   },
   "file_extension": ".py",
   "mimetype": "text/x-python",
   "name": "python",
   "nbconvert_exporter": "python",
   "pygments_lexer": "ipython3",
   "version": "3.8.3"
  }
 },
 "nbformat": 4,
 "nbformat_minor": 4
}
