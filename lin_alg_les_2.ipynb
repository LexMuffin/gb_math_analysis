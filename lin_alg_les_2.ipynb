{
 "cells": [
  {
   "cell_type": "code",
   "execution_count": 2,
   "metadata": {},
   "outputs": [],
   "source": [
    "import numpy as np"
   ]
  },
  {
   "cell_type": "markdown",
   "metadata": {},
   "source": [
    "# Задание 1\n",
    "Найти скалярное произведение векторов  x,y ∈ R : \\\n",
    "а)  x=(0,−3,6), y=(−4,7,9); \\\n",
    "б)  x=(7,−4,0,1), y=(−3,1,11,2)."
   ]
  },
  {
   "cell_type": "code",
   "execution_count": 6,
   "metadata": {},
   "outputs": [
    {
     "name": "stdout",
     "output_type": "stream",
     "text": [
      "33\n",
      "-23\n"
     ]
    }
   ],
   "source": [
    "x = np.array([0, -3, 6])\n",
    "y = np.array([-4, 7, 9])\n",
    "print(x.dot(y))\n",
    "\n",
    "x = np.array([7, -4, 0, 1])\n",
    "y = np.array([-3, 1, 11, 2])\n",
    "print(x.dot(y))"
   ]
  },
  {
   "cell_type": "markdown",
   "metadata": {},
   "source": [
    "# Задание 2\n",
    "Найти нормы векторов  (4,2,4)  и  (12,3,4)  и угол между ними."
   ]
  },
  {
   "cell_type": "markdown",
   "metadata": {},
   "source": [
    "$ \\vec{x} = \\begin{bmatrix} 4 \\\\ 2 \\\\ 4 \\end{bmatrix} \\Rightarrow ||\\vec{x}|| = \\sqrt{4^2 + 2^2 + 4^2} = \\sqrt{36} = 6 $,\n",
    "\n",
    "$ \\vec{y} = \\begin{bmatrix} 12 \\\\ 3 \\\\ 4 \\end{bmatrix} \\Rightarrow ||\\vec{y}|| = \\sqrt{12^2 + 3^2 + 4^2} = \\sqrt{169} = 13 $.\n",
    "\n",
    "$ \\vec{x} \\cdot \\vec{y} = 4 * 12 + 2 * 3 + 4 * 4 = 48 + 6 + 16 = 70 $.\n",
    "\n",
    "$ cos \\varphi = \\frac{\\vec{x} \\cdot \\vec{y}}{\\vec{x}\\vec{y}} $.\n",
    "\n",
    "$ cos \\varphi = \\frac{70}{6 * 13} = \\frac{70}{78} = \\frac{35}{39}$."
   ]
  },
  {
   "cell_type": "code",
   "execution_count": 10,
   "metadata": {},
   "outputs": [
    {
     "name": "stdout",
     "output_type": "stream",
     "text": [
      "0.8974358974358975\n"
     ]
    }
   ],
   "source": [
    "x = np.array([4, 2, 4])\n",
    "y = np.array([12, 3, 4])\n",
    "norm_x = np.linalg.norm(x)\n",
    "norm_y = np.linalg.norm(y)\n",
    "dot_xy = x.dot(y)\n",
    "cos_phi = dot_xy / (norm_x * norm_y)\n",
    "print(cos_phi)"
   ]
  },
  {
   "cell_type": "markdown",
   "metadata": {},
   "source": [
    "# Задание 3\n",
    "Будет ли линейное пространство евклидовым, если за скалярное произведение принять: \\\n",
    "а) произведение длин векторов; \\\n",
    "б) утроенное обычное скалярное произведение векторов?"
   ]
  },
  {
   "cell_type": "markdown",
   "metadata": {},
   "source": [
    "a) \\\n",
    "$ (x, y) = ||x|| * ||y|| = ||y|| * ||x|| = (y, x) $ \n",
    "\n",
    "$ (\\lambda x, y) = ||\\lambda x|| * ||y|| = |\\lambda|*||x|| * ||y|| = |\\lambda|(x, y) \\neq \\lambda(x, y) $ при $ \\lambda < 0 $ \n",
    "\n",
    "Данное линейное пространство не является евклидовым."
   ]
  },
  {
   "cell_type": "markdown",
   "metadata": {},
   "source": [
    "б) \\\n",
    "$ (x, y) = 3(x \\cdot y) $.\n",
    "\n",
    "$ (x, y) = 3(x \\cdot y) = 3(y \\cdot x) = (y, x) $ \n",
    "\n",
    "$ (\\lambda x, y) = 3((\\lambda x) \\cdot y) = 3\\lambda (x \\cdot y) = \\lambda (3(x \\cdot y)) = \\lambda (x, y) $ \n",
    "\n",
    "$ (x_1 + x_2, y) = 3((x_1 + x_2) \\cdot y) = 3((x_1 \\cdot y) + (x_2 \\cdot y)) = 3(x_1 \\cdot y) + 3(x_2 \\cdot y) = (x_1, y) + (x_2, y) $ \n",
    "\n",
    "$ (x, x) = 3(x \\cdot x). (x \\cdot x) \\geq 0 \\Rightarrow (x, x) = 3(x \\cdot x) \\geq 0 $ \n",
    "\n",
    "Данное линейное пространство является евклидовым."
   ]
  },
  {
   "cell_type": "markdown",
   "metadata": {},
   "source": [
    "# Задание 4\n",
    "Какие из нижеперечисленных векторов образуют ортонормированный базис в линейном пространстве $ \\mathbb{R}^{3} $ :\\\n",
    "а)  (1,0,0),(0,0,1);\\\n",
    "б)  (1/2–√,−1/2–√,0),(1/2–√,1/2–√,0),(0,0,1); \\\n",
    "в)  (1/2,−1/2,0),(0,1/2,1/2),(0,0,1); \\\n",
    "г)  (1,0,0),(0,1,0),(0,0,1)?"
   ]
  },
  {
   "cell_type": "markdown",
   "metadata": {},
   "source": [
    "Все кроме буквы в) \\\n",
    "$ (1/2, -1/2, 0), (0, 1/2, 1/2), (0, 0, 1) $.\n",
    "\n",
    "$ (\\vec{e_i}, \\vec{e_j}) = 1/2 * 0 - 1/2 * 1/2 + 0 * 1/2 = -1/4 \\neq 0 $"
   ]
  }
 ],
 "metadata": {
  "kernelspec": {
   "display_name": "Python 3",
   "language": "python",
   "name": "python3"
  },
  "language_info": {
   "codemirror_mode": {
    "name": "ipython",
    "version": 3
   },
   "file_extension": ".py",
   "mimetype": "text/x-python",
   "name": "python",
   "nbconvert_exporter": "python",
   "pygments_lexer": "ipython3",
   "version": "3.8.3"
  }
 },
 "nbformat": 4,
 "nbformat_minor": 4
}
