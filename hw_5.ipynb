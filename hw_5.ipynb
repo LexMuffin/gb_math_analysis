{
 "cells": [
  {
   "cell_type": "markdown",
   "metadata": {},
   "source": [
    "# Тема 6 “Понятие о производной” "
   ]
  },
  {
   "cell_type": "markdown",
   "metadata": {},
   "source": [
    "1) Найти производную выражения:"
   ]
  },
  {
   "cell_type": "markdown",
   "metadata": {},
   "source": [
    "d) $$ f(x) = \\frac{x^4}{ln(x)} $$"
   ]
  },
  {
   "cell_type": "markdown",
   "metadata": {},
   "source": [
    "$$ f'(x) = \\frac{4x^3ln(x) - \\frac{1}{x}x^4}{\\ln^2(x)} = \\frac{4x^3ln(x) - x^3}{\\ln^2(x)} $$"
   ]
  },
  {
   "cell_type": "markdown",
   "metadata": {},
   "source": [
    "2) Найти выражение производной функции и ее значение в точке:"
   ]
  },
  {
   "cell_type": "markdown",
   "metadata": {},
   "source": [
    "$$ f(x) = cos(x^2 + 3x), x_0 = \\sqrt{\\pi} $$"
   ]
  },
  {
   "cell_type": "markdown",
   "metadata": {},
   "source": [
    "$$\n",
    "f'(x)\n",
    "= (cos(x^2 + 3x))'\n",
    "= -sin(x^2 + 3x) * (x^2 + 3x)'\n",
    "= -sin(x^2 + 3x) * (2x + 3)\n",
    "$$\n",
    "\n",
    "$$\n",
    "f'(x_0)\n",
    "= f'(\\sqrt{\\pi}) \n",
    "= -sin((\\sqrt{\\pi})^2 + 3*\\sqrt{\\pi}) * (2*\\sqrt{\\pi} + 3) \n",
    "= sin(3\\sqrt{\\pi}) * (2\\sqrt{\\pi} + 3)\n",
    "$$"
   ]
  },
  {
   "cell_type": "markdown",
   "metadata": {},
   "source": [
    "3) Найти значение производной функции в точке:"
   ]
  },
  {
   "cell_type": "markdown",
   "metadata": {},
   "source": [
    "$$ f(x) = \\frac{x^3 - x^2 - x - 1}{1 + 2x + 3x^2 - 4x^3}, x_0 = 0 $$"
   ]
  },
  {
   "cell_type": "markdown",
   "metadata": {},
   "source": [
    "$$\n",
    "f'(x)\n",
    "= \\frac{(3x^2 - 2x - 1) * (-4x^3 + 3x^2 + 2x + 1) - (x^3 - x^2 - x - 1) * (-12x^2 + 6x + 2)}{(-4x^3 + 3x^2 + 2x + 1)^2}\n",
    "= \\frac{-12x^5 + 9x^4 + 6x^3 + 3x^2 + 8x^4 - 6x^3 - 4x^2 - 2x + 4x^3 - 3x^2 - 2x - 1}{(-4x^3 + 3x^2 + 2x + 1)^2} - \\frac{-12x^5 + 12x^4 + 12x^3 + 12x^2 + 6x^4 - 6x^3 - 6x^2 - 6x + 2x^3 - 2x^2 - 2x - 2}{(-4x^3 + 3x^2 + 2x + 1)^2}\n",
    "= -\\frac{x^4 + 4x^3 + 8x^2 - 4x - 1}{(-4x^3 + 3x^2 + 2x + 1)^2}\n",
    "$$\n",
    "\n",
    "$$\n",
    "f'(x_0)\n",
    "= f'(0) \n",
    "= -\\frac{0^4 + 4*0^3 + 8*0^2 - 4*0 - 1}{(-4*0^3 + 3*0^2 + 2*0 + 1)^2}\n",
    "= -\\frac{-1}{1^2}\n",
    "= 1\n",
    "$$"
   ]
  },
  {
   "cell_type": "markdown",
   "metadata": {},
   "source": [
    "4) Найти угол наклона касательной к графику функции в точке:"
   ]
  },
  {
   "cell_type": "markdown",
   "metadata": {},
   "source": [
    "$$ f(x) = \\sqrt{3x} * ln(x), x_0 = 1 $$"
   ]
  },
  {
   "cell_type": "markdown",
   "metadata": {},
   "source": [
    "$$\n",
    "f'(x)\n",
    "= (\\sqrt{3x})' * ln(x) + \\sqrt{3x} * (ln(x))'\n",
    "= \\frac{3ln(x)}{2\\sqrt{3x}} + \\frac{\\sqrt{3x}}{x}\n",
    "$$\n"
   ]
  },
  {
   "cell_type": "markdown",
   "metadata": {},
   "source": [
    "$$\n",
    "f'(1) \n",
    "= \\frac{3 * 0}{2\\sqrt{3}} + \\frac{\\sqrt{3}}{1}\n",
    "= 0 + \\sqrt{3}\n",
    "= \\sqrt{3}\n",
    "$$"
   ]
  },
  {
   "cell_type": "markdown",
   "metadata": {},
   "source": [
    "$ f'(x) = tg(\\alpha), $\n",
    "$ \\Rightarrow tg(\\alpha) = \\sqrt{3} \\Rightarrow \\alpha = arctg(\\sqrt{3}) = \\frac{\\pi}{3}$"
   ]
  },
  {
   "cell_type": "code",
   "execution_count": null,
   "metadata": {},
   "outputs": [],
   "source": []
  }
 ],
 "metadata": {
  "kernelspec": {
   "display_name": "Python 3",
   "language": "python",
   "name": "python3"
  },
  "language_info": {
   "codemirror_mode": {
    "name": "ipython",
    "version": 3
   },
   "file_extension": ".py",
   "mimetype": "text/x-python",
   "name": "python",
   "nbconvert_exporter": "python",
   "pygments_lexer": "ipython3",
   "version": "3.8.3"
  }
 },
 "nbformat": 4,
 "nbformat_minor": 4
}
