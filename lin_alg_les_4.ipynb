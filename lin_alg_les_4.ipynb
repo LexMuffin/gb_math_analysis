{
 "cells": [
  {
   "cell_type": "code",
   "execution_count": 1,
   "metadata": {},
   "outputs": [],
   "source": [
    "import numpy as np"
   ]
  },
  {
   "cell_type": "markdown",
   "metadata": {},
   "source": [
    "# Задание 1\n",
    "\n",
    "Вычислить определители \\\n",
    "a) $\n",
    "\\begin{vmatrix}\n",
    "    sin x & -cos x \\\\ \n",
    "    cos x & sin x\n",
    "\\end{vmatrix}\n",
    "$;\n",
    "\n",
    "б) $\n",
    "\\begin{vmatrix}\n",
    "    4 & 2 & 3 \\\\ \n",
    "    0 & 5 & 1 \\\\ \n",
    "    0 & 0 & 9\n",
    "\\end{vmatrix}\n",
    "$;\n",
    "    \n",
    "в) $\n",
    "\\begin{vmatrix}\n",
    "    1 & 2 & 3 \\\\ \n",
    "    4 & 5 & 6 \\\\ \n",
    "    7 & 8 & 9\n",
    "\\end{vmatrix}\n",
    "$."
   ]
  },
  {
   "cell_type": "markdown",
   "metadata": {},
   "source": [
    "а) $\n",
    "det ( \\begin{vmatrix}\n",
    "    sin x & -cos x \\\\ \n",
    "    cos x & sin x\n",
    "\\end{vmatrix} )\n",
    "=\n",
    "sin x * sin x - (- cos x) * cos x\n",
    "= \n",
    "1\n",
    "$"
   ]
  },
  {
   "cell_type": "markdown",
   "metadata": {},
   "source": [
    "б) $\n",
    "det ( \\begin{vmatrix}\n",
    "    4 & 2 & 3 \\\\ \n",
    "    0 & 5 & 1 \\\\ \n",
    "    0 & 0 & 9\n",
    "\\end{vmatrix} )\n",
    "=\n",
    "4 * det ( \\begin{vmatrix} 5 & 1 \\\\ 0 & 9 \\end{vmatrix} )\n",
    "- 2 * det ( \\begin{vmatrix} 0 & 1 \\\\ 0 & 9 \\end{vmatrix} )\n",
    "+ 3 * det ( \\begin{vmatrix} 0 & 5 \\\\ 0 & 0 \\end{vmatrix} )\n",
    "=\n",
    "4 * (5 * 9 - 1 * 0) - 2 * (0 * 9 - 1 * 0) + 3 * (0 * 0 - 5 * 0)\n",
    "=\n",
    "180\n",
    "$"
   ]
  },
  {
   "cell_type": "markdown",
   "metadata": {},
   "source": [
    "в) $\n",
    "det ( \\begin{vmatrix}\n",
    "    1 & 2 & 3 \\\\ \n",
    "    4 & 5 & 6 \\\\ \n",
    "    7 & 8 & 9\n",
    "\\end{vmatrix} )\n",
    "=\n",
    "1 * det ( \\begin{vmatrix} 5 & 6 \\\\ 8 & 9 \\end{vmatrix} )\n",
    "- 2 * det ( \\begin{vmatrix} 4 & 6 \\\\ 7 & 9 \\end{vmatrix} )\n",
    "+ 3 * det ( \\begin{vmatrix} 4 & 5 \\\\ 7 & 8 \\end{vmatrix} )\n",
    "=\n",
    "1 * (5 * 9 - 6 * 8) - 2 * (4 * 9 - 6 * 7) + 3 * (4 * 8 - 5 * 7)\n",
    "=\n",
    "-3 + 12 - 9\n",
    "=\n",
    "0\n",
    "$"
   ]
  },
  {
   "cell_type": "code",
   "execution_count": 7,
   "metadata": {},
   "outputs": [
    {
     "name": "stdout",
     "output_type": "stream",
     "text": [
      "180.0\n",
      "0.0\n"
     ]
    }
   ],
   "source": [
    "b = np.array([[4, 2, 3], [0, 5, 1], [0, 0, 9]])\n",
    "c = np.array([[1, 2, 3], [4, 5, 6], [7, 8, 9]])\n",
    "print(np.linalg.det(b))\n",
    "print(round(np.linalg.det(c)))"
   ]
  },
  {
   "cell_type": "markdown",
   "metadata": {},
   "source": [
    "# Задание 2.\n",
    "Определитель матрицы $ det(A) = 4 $. \\\n",
    "Найти: \\\n",
    "а) $ det(A^{2}) $;\n",
    "\n",
    "б) $ det(A^{T}) $;\n",
    "\n",
    "в) $ det(2A) $."
   ]
  },
  {
   "cell_type": "code",
   "execution_count": 8,
   "metadata": {},
   "outputs": [],
   "source": [
    "a = np.array([[4, 0, 0], [0, 1, 0], [0, 0, 1]])"
   ]
  },
  {
   "cell_type": "code",
   "execution_count": 9,
   "metadata": {},
   "outputs": [
    {
     "data": {
      "text/plain": [
       "4.0"
      ]
     },
     "execution_count": 9,
     "metadata": {},
     "output_type": "execute_result"
    }
   ],
   "source": [
    "np.linalg.det(a)"
   ]
  },
  {
   "cell_type": "code",
   "execution_count": 11,
   "metadata": {},
   "outputs": [
    {
     "data": {
      "text/plain": [
       "16.0"
      ]
     },
     "execution_count": 11,
     "metadata": {},
     "output_type": "execute_result"
    }
   ],
   "source": [
    "# а)\n",
    "round(np.linalg.det(a.dot(a)))"
   ]
  },
  {
   "cell_type": "code",
   "execution_count": 13,
   "metadata": {},
   "outputs": [
    {
     "data": {
      "text/plain": [
       "4.0"
      ]
     },
     "execution_count": 13,
     "metadata": {},
     "output_type": "execute_result"
    }
   ],
   "source": [
    "# б)\n",
    "np.linalg.det(a.T)"
   ]
  },
  {
   "cell_type": "code",
   "execution_count": 18,
   "metadata": {},
   "outputs": [
    {
     "data": {
      "text/plain": [
       "32.0"
      ]
     },
     "execution_count": 18,
     "metadata": {},
     "output_type": "execute_result"
    }
   ],
   "source": [
    "# в)\n",
    "round(np.linalg.det(2 * a))\n",
    "# увеличение определителя в 8 раз"
   ]
  },
  {
   "cell_type": "markdown",
   "metadata": {},
   "source": [
    "# Задание 3.\n",
    "Доказать, что матрица\n",
    "$ \\begin{pmatrix}\n",
    "    -2 & 7 & -3\\\\ \n",
    "    4 & -14 & 6\\\\ \n",
    "    -3 & 7 & 13\n",
    "\\end{pmatrix}\n",
    "$ вырожденная."
   ]
  },
  {
   "cell_type": "code",
   "execution_count": 22,
   "metadata": {},
   "outputs": [
    {
     "data": {
      "text/plain": [
       "0.0"
      ]
     },
     "execution_count": 22,
     "metadata": {},
     "output_type": "execute_result"
    }
   ],
   "source": [
    "a = np.array([[-2, 7, -3], [4, -14, 6], [-3, 7, 13]])\n",
    "np.linalg.det(a)\n",
    "# 2 строки матрицы - линейно зависимы поэтому определитель равен 0\n",
    "# 1 строка и вторая строка"
   ]
  },
  {
   "cell_type": "markdown",
   "metadata": {},
   "source": [
    "# Задание 4.\n",
    "Найти ранг матрицы:\n",
    "\n",
    "а) $\n",
    "\\begin{pmatrix}\n",
    "    1 & 2 & 3 \\\\ \n",
    "    1 & 1 & 1 \\\\ \n",
    "    2 & 3 & 4\n",
    "\\end{pmatrix}\n",
    "$;\n",
    "\n",
    "б) $\n",
    "\\begin{pmatrix}\n",
    "    0 & 0 & 2 & 1 \\\\ \n",
    "    0 & 0 & 2 & 2 \\\\ \n",
    "    0 & 0 & 4 & 3 \\\\ \n",
    "    2 & 3 & 5 & 6\n",
    "\\end{pmatrix}\n",
    "$."
   ]
  },
  {
   "cell_type": "code",
   "execution_count": 24,
   "metadata": {},
   "outputs": [
    {
     "data": {
      "text/plain": [
       "2"
      ]
     },
     "execution_count": 24,
     "metadata": {},
     "output_type": "execute_result"
    }
   ],
   "source": [
    "a = np.array([[1, 2, 3], [1, 1, 1], [2, 3, 4]])\n",
    "np.linalg.matrix_rank(a)"
   ]
  },
  {
   "cell_type": "code",
   "execution_count": 25,
   "metadata": {},
   "outputs": [
    {
     "data": {
      "text/plain": [
       "3"
      ]
     },
     "execution_count": 25,
     "metadata": {},
     "output_type": "execute_result"
    }
   ],
   "source": [
    "b = np.array([[0, 0, 2, 1], [0, 0, 2, 2], [0, 0, 4, 3], [2, 3, 5, 6]])\n",
    "np.linalg.matrix_rank(b)"
   ]
  }
 ],
 "metadata": {
  "kernelspec": {
   "display_name": "Python 3",
   "language": "python",
   "name": "python3"
  },
  "language_info": {
   "codemirror_mode": {
    "name": "ipython",
    "version": 3
   },
   "file_extension": ".py",
   "mimetype": "text/x-python",
   "name": "python",
   "nbconvert_exporter": "python",
   "pygments_lexer": "ipython3",
   "version": "3.8.3"
  }
 },
 "nbformat": 4,
 "nbformat_minor": 4
}
