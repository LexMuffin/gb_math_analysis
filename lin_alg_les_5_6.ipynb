{
 "cells": [
  {
   "cell_type": "markdown",
   "metadata": {},
   "source": [
    "## 1.1 Решить систему уравнений методом Гаусса\n"
   ]
  },
  {
   "cell_type": "markdown",
   "metadata": {},
   "source": [
    "$$\\begin{cases}\n",
    "x_{1}+x_{2}-x_{3}-2x_{4}=0, \\\\\n",
    "2x_{1}+x_{2}-x_{3}+x_{4}=-2, \\\\\n",
    "x_{1}+x_{2}-3x_{3}+x_{4}=4.\n",
    "\\end{cases}$$"
   ]
  },
  {
   "cell_type": "markdown",
   "metadata": {},
   "source": [
    "Решение"
   ]
  },
  {
   "cell_type": "markdown",
   "metadata": {},
   "source": [
    "Расширенная матрица системы\n",
    "$$\\begin{pmatrix}\n",
    "\\left.\\begin{matrix}\n",
    "1 & 1 & -1 & 2\\\\ \n",
    "2 & 1 & -1 & 1\\\\ \n",
    "1 & 1 & -3 & 1\\\\ \n",
    "\\end{matrix}\\right|\n",
    "\\begin{matrix}\n",
    "0\\\\ \n",
    "-2\\\\\n",
    "4\\\\\n",
    "\\end{matrix}\n",
    "\\end{pmatrix}$$"
   ]
  },
  {
   "cell_type": "markdown",
   "metadata": {},
   "source": [
    "Умножим первую стороку на 2:\n",
    "$$\\begin{pmatrix}\n",
    "\\left.\\begin{matrix}\n",
    "2 & 2 & -2 & -4\\\\ \n",
    "2 & 1 & -1 & 1\\\\ \n",
    "1 & 1 & -3 & 1\\\\ \n",
    "\\end{matrix}\\right|\n",
    "\\begin{matrix}\n",
    "0\\\\ \n",
    "-2\\\\\n",
    "4\\\\\n",
    "\\end{matrix}\n",
    "\\end{pmatrix}$$"
   ]
  },
  {
   "cell_type": "markdown",
   "metadata": {},
   "source": [
    "Вычтем из второй строки первую: \n",
    "$$\\begin{pmatrix}\n",
    "\\left.\\begin{matrix}\n",
    "1 & 1 & -1 & -2\\\\ \n",
    "0 & 1 & 3 & 5\\\\ \n",
    "1 & 1 & -3 & 1\\\\ \n",
    "\\end{matrix}\\right|\n",
    "\\begin{matrix}\n",
    "0\\\\ \n",
    "2\\\\\n",
    "4\\\\\n",
    "\\end{matrix}\n",
    "\\end{pmatrix}$$\n"
   ]
  },
  {
   "cell_type": "markdown",
   "metadata": {},
   "source": [
    "Вычтем из третьей строки первую:\n",
    "$$\\begin{pmatrix}\n",
    "\\left.\\begin{matrix}\n",
    "1 & 1 & -1 & -2\\\\ \n",
    "0 & 1 & 3 & 5\\\\ \n",
    "0 & 0 & -2 & 3\\\\ \n",
    "\\end{matrix}\\right|\n",
    "\\begin{matrix}\n",
    "0\\\\ \n",
    "2\\\\\n",
    "4\\\\\n",
    "\\end{matrix}\n",
    "\\end{pmatrix}$$"
   ]
  },
  {
   "cell_type": "markdown",
   "metadata": {},
   "source": [
    "$$\\begin{cases}\n",
    "    \\displaystyle  x_3 = \\frac{3x_4-4}{2} \\\\\n",
    "    \\displaystyle  x_2 = 2 - 5x_4 - \\frac{3}{2}(3x_4-4)\\\\\n",
    "    \\displaystyle  x_1 = 2x_4 + \\frac{3x_4-4}{2} - 2 + 5x_4 + \\frac{3}{2}(3x_4-4)\\\\\n",
    "    \\end{cases} $$ где $x_4$ - любое "
   ]
  },
  {
   "cell_type": "markdown",
   "metadata": {},
   "source": [
    "## 1.2. Проверить на совместность и выяснить, сколько решений будет иметь система линейных уравнений:"
   ]
  },
  {
   "cell_type": "markdown",
   "metadata": {},
   "source": [
    "а) $\\begin{cases}\n",
    "3x_{1}-x_{2}+x_{3}=4, \\\\\n",
    "2x_{1}-5x_{2}-3x_{3}=-17, \\\\\n",
    "x_{1}+x_{2}-x_{3}=0;\n",
    "\\end{cases}$\n",
    "    \n",
    "   б) $\\begin{cases}\n",
    "2x_{1}-4x_{2}+6x_{3}=1, \\\\\n",
    "x_{1}-2x_{2}+3x_{3}=-2, \\\\\n",
    "3x_{1}-6x_{2}+9x_{3}=5;\n",
    "\\end{cases}$\n",
    "    \n",
    "   в) $\\begin{cases}\n",
    "x_{1}+2x_{2}+5x_{3}=4, \\\\\n",
    "3x_{1}+x_{2}-8x_{3}=-2. \n",
    "\\end{cases}$"
   ]
  },
  {
   "cell_type": "code",
   "execution_count": 1,
   "metadata": {},
   "outputs": [],
   "source": [
    "import numpy as np\n",
    "from numpy import linalg"
   ]
  },
  {
   "cell_type": "code",
   "execution_count": 2,
   "metadata": {},
   "outputs": [],
   "source": [
    "def sovmest(A, A_w):\n",
    "    if linalg.matrix_rank(A) == linalg.matrix_rank(A_w):\n",
    "        if linalg.matrix_rank(A) == A.shape[1]:\n",
    "            print(f'Система совместна и имеет единственное решение')\n",
    "        elif linalg.matrix_rank(A) < A.shape[1]:\n",
    "            print(f'Система совместна и имеет бесконечное число решений') \n",
    "    elif linalg.matrix_rank(A) < linalg.matrix_rank(A_w):\n",
    "        print(f'Система несовместна, решений нет')"
   ]
  },
  {
   "cell_type": "code",
   "execution_count": 3,
   "metadata": {},
   "outputs": [
    {
     "name": "stdout",
     "output_type": "stream",
     "text": [
      "Система совместна и имеет единственное решение\n"
     ]
    }
   ],
   "source": [
    "A = np.array([[3, -1, 1],[2, -5, -3], [1, 1, -1]])\n",
    "A_w = np.append(A, np.array([[4],[-17], [0]]), axis=1)\n",
    "sovmest(A, A_w)"
   ]
  },
  {
   "cell_type": "code",
   "execution_count": 4,
   "metadata": {},
   "outputs": [
    {
     "name": "stdout",
     "output_type": "stream",
     "text": [
      "Система несовместна, решений нет\n"
     ]
    }
   ],
   "source": [
    "A = np.array([[2, -4, 6],[1, -2, 3], [3, -6, 9]])\n",
    "A_w = np.append(A, np.array([[1],[-2], [5]]), axis=1)\n",
    "sovmest(A, A_w)"
   ]
  },
  {
   "cell_type": "code",
   "execution_count": 5,
   "metadata": {},
   "outputs": [
    {
     "name": "stdout",
     "output_type": "stream",
     "text": [
      "Система совместна и имеет бесконечное число решений\n"
     ]
    }
   ],
   "source": [
    "A = np.array([[1, 2, 5],[3, 1, -8]])\n",
    "A_w = np.append(A, np.array([[4],[-2]]), axis=1)\n",
    "sovmest(A, A_w)"
   ]
  },
  {
   "cell_type": "markdown",
   "metadata": {},
   "source": [
    "## 1.3. Проверить на совместность и выяснить, сколько решений будет иметь система линейных уравнений, заданная расширенной матрицей"
   ]
  },
  {
   "cell_type": "markdown",
   "metadata": {},
   "source": [
    "$$\\tilde{A}=\\begin{pmatrix}\n",
    "\\left.\\begin{matrix}\n",
    "1 & 3 & -2 & 4\\\\ \n",
    "0 & 5 & 0 & 1\\\\ \n",
    "0 & 0 & 3 & 0\\\\ \n",
    "0 & 0 & 0 & 2\n",
    "\\end{matrix}\\right|\n",
    "\\begin{matrix}\n",
    "3\\\\ \n",
    "2\\\\\n",
    "4\\\\\n",
    "1\n",
    "\\end{matrix}\n",
    "\\end{pmatrix}.$$"
   ]
  },
  {
   "cell_type": "code",
   "execution_count": 6,
   "metadata": {},
   "outputs": [
    {
     "name": "stdout",
     "output_type": "stream",
     "text": [
      "Система совместна и имеет единственное решение\n"
     ]
    }
   ],
   "source": [
    "A = np.array([[1, 3, -2, 4],[0, 5, 0, 1], [0, 0, 3, 0], [0, 0, 0, 2]])\n",
    "A_w = np.append(A, np.array([[3],[2],[4],[1]]), axis=1)\n",
    "sovmest(A, A_w)"
   ]
  },
  {
   "cell_type": "markdown",
   "metadata": {},
   "source": [
    "## 2.1. Решить систему уравнений методом Крамера:"
   ]
  },
  {
   "cell_type": "markdown",
   "metadata": {},
   "source": [
    "   а) $\\begin{cases}\n",
    "x_{1}-2x_{2}=1 \\\\\n",
    "3x_{1}-4x_{2}=7\n",
    "\\end{cases}$\n",
    "    \n",
    "   б) $\\begin{cases}\n",
    "2x_{1}-x_{2}+5x_{3}=10 \\\\\n",
    "x_{1}+x_{2}-3x_{3}=-2 \\\\\n",
    "2x_{1}+4x_{2}+x_{3}=1\n",
    "\\end{cases}$"
   ]
  },
  {
   "cell_type": "code",
   "execution_count": 10,
   "metadata": {},
   "outputs": [
    {
     "name": "stdout",
     "output_type": "stream",
     "text": [
      "Решение системы: \n",
      "x1 = 5.0, \n",
      "x2 = 2.0\n"
     ]
    }
   ],
   "source": [
    "A = np.array([[1, -2,],[3, -4]])\n",
    "s = np.array([[1, 7]])\n",
    "\n",
    "A_1 = np.copy(A)\n",
    "A_1[::,0] = s\n",
    "\n",
    "A_2 = np.copy(A)\n",
    "A_2[::,1] = s\n",
    "\n",
    "x1 = round(linalg.det(A_1)/linalg.det(A), 4)\n",
    "x2 = round(linalg.det(A_2)/linalg.det(A), 4)\n",
    "print(f'Решение системы: \\nx1 = {x1}, \\nx2 = {x2}')"
   ]
  },
  {
   "cell_type": "code",
   "execution_count": 11,
   "metadata": {},
   "outputs": [
    {
     "name": "stdout",
     "output_type": "stream",
     "text": [
      "Решение системы: \n",
      "x1 = 2.0, \n",
      "x2 = -1.0, \n",
      "x3 = 1.0\n"
     ]
    }
   ],
   "source": [
    "A = np.array([[2, -1, 5],[1, 1, -3], [2, 4, 1]])\n",
    "s = np.array([[10, -2, 1]])\n",
    "\n",
    "A_1 = np.copy(A)\n",
    "A_1[::,0] = s\n",
    "\n",
    "A_2 = np.copy(A)\n",
    "A_2[::,1] = s\n",
    "\n",
    "A_3 = np.copy(A)\n",
    "A_3[::,2] = s\n",
    "\n",
    "x1 = round(linalg.det(A_1)/linalg.det(A), 4)\n",
    "x2 = round(linalg.det(A_2)/linalg.det(A), 4)\n",
    "x3 = round(linalg.det(A_3)/linalg.det(A), 4)\n",
    "print(f'Решение системы: \\nx1 = {x1}, \\nx2 = {x2}, \\nx3 = {x3}')"
   ]
  },
  {
   "cell_type": "markdown",
   "metadata": {},
   "source": [
    "## 2.2*. Найти $L$-матрицу $LU$-разложения для матрицы коэффициентов:"
   ]
  },
  {
   "cell_type": "markdown",
   "metadata": {},
   "source": [
    "__2*.__ Найти $L$-матрицу $LU$-разложения для матрицы коэффициентов:\n",
    "\n",
    "   а)$$\\begin{pmatrix}\n",
    "1 & 2 & 4 \\\\ \n",
    "2 & 9 & 12 \\\\ \n",
    "3 & 26 & 30\n",
    "\\end{pmatrix}$$\n",
    "    \n",
    "   б)$$\\begin{pmatrix}\n",
    "1 & 1 & 2 & 4\\\\ \n",
    "2 & 5 & 8 & 9\\\\ \n",
    "3 & 18 & 29 & 18\\\\\n",
    "4 & 22 & 53 & 33\n",
    "\\end{pmatrix}$$"
   ]
  },
  {
   "cell_type": "code",
   "execution_count": 12,
   "metadata": {},
   "outputs": [],
   "source": [
    "import scipy.linalg as la"
   ]
  },
  {
   "cell_type": "code",
   "execution_count": 13,
   "metadata": {},
   "outputs": [],
   "source": [
    "def printMatrix ( matrix ): \n",
    "    for i in range ( len(matrix) ): \n",
    "        print('[', end='')\n",
    "        for j in range ( len(matrix[i]) ): \n",
    "            print (\"\"\"{:7.2f}\"\"\".format(matrix[i][j]), end = \"\" ) \n",
    "        print(']\\n')\n",
    "    print ()"
   ]
  },
  {
   "cell_type": "code",
   "execution_count": 14,
   "metadata": {},
   "outputs": [
    {
     "name": "stdout",
     "output_type": "stream",
     "text": [
      "LU разложение:\n",
      "\n",
      "Матрица L:\n",
      "[   1.00   0.00   0.00]\n",
      "\n",
      "[   0.67   1.00   0.00]\n",
      "\n",
      "[   0.33   0.80   1.00]\n",
      "\n",
      "\n",
      "Матрица U:\n",
      "[   3.00  26.00  30.00]\n",
      "\n",
      "[   0.00  -8.33  -8.00]\n",
      "\n",
      "[   0.00   0.00   0.40]\n",
      "\n",
      "\n"
     ]
    }
   ],
   "source": [
    "a = np.array([[1, 2, 4], [2, 9, 12], [3, 26, 30]])\n",
    "(P, L, U) = la.lu(a)\n",
    "print('LU разложение:\\n')\n",
    "print('Матрица L:')\n",
    "printMatrix(L)\n",
    "print('Матрица U:')\n",
    "printMatrix(U)"
   ]
  },
  {
   "cell_type": "code",
   "execution_count": 15,
   "metadata": {},
   "outputs": [
    {
     "name": "stdout",
     "output_type": "stream",
     "text": [
      "LU разложение:\n",
      "\n",
      "Матрица L:\n",
      "[   1.00   0.00   0.00   0.00]\n",
      "\n",
      "[   0.50   1.00   0.00   0.00]\n",
      "\n",
      "[   0.75  -0.25   1.00   0.00]\n",
      "\n",
      "[   0.25   0.75  -0.17   1.00]\n",
      "\n",
      "\n",
      "Матрица U:\n",
      "[   4.00  22.00  53.00  33.00]\n",
      "\n",
      "[   0.00  -6.00 -18.50  -7.50]\n",
      "\n",
      "[   0.00   0.00 -15.38  -8.62]\n",
      "\n",
      "[   0.00   0.00   0.00  -0.10]\n",
      "\n",
      "\n"
     ]
    }
   ],
   "source": [
    "a = np.array([[1, 1, 2, 4], [2, 5, 8, 9], [3, 18, 29, 18], [4, 22, 53, 33]])\n",
    "(P, L, U) = la.lu(a)\n",
    "print('LU разложение:\\n')\n",
    "print('Матрица L:')\n",
    "printMatrix(L)\n",
    "print('Матрица U:')\n",
    "printMatrix(U)"
   ]
  }
 ],
 "metadata": {
  "kernelspec": {
   "display_name": "Python 3",
   "language": "python",
   "name": "python3"
  },
  "language_info": {
   "codemirror_mode": {
    "name": "ipython",
    "version": 3
   },
   "file_extension": ".py",
   "mimetype": "text/x-python",
   "name": "python",
   "nbconvert_exporter": "python",
   "pygments_lexer": "ipython3",
   "version": "3.8.3"
  }
 },
 "nbformat": 4,
 "nbformat_minor": 4
}
