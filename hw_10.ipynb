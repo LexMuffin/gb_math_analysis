{
 "cells": [
  {
   "cell_type": "markdown",
   "metadata": {},
   "source": [
    "# Тема 7 “Ряды”"
   ]
  },
  {
   "cell_type": "markdown",
   "metadata": {},
   "source": [
    "1. Исследовать ряд на сходимость, используя признак д’Аламбера: \\\n",
    "$$  \\sum_{n=1}^{\\infty} \\frac{n^n}{(n!)^2} $$"
   ]
  },
  {
   "cell_type": "markdown",
   "metadata": {},
   "source": [
    "$$\n",
    "q\n",
    "= \\lim_{n \\to \\infty} \\frac{(n+1)^{n+1}}{((n+1)!)^2} : \\frac{n^n}{(n!)^2}\n",
    "= \\lim_{n \\to \\infty} \\frac{(n+1)^{n+1} * (n!)^2}{((n+1)!)^2 * n^n}\n",
    "= \\lim_{n \\to \\infty} \\frac{(n+1)^{n+1}}{((n+1)^2 * n^n}\n",
    "= \\lim_{n \\to \\infty} \\frac{(n+1)^n}{((n+1) * n^n} \n",
    "= (\\frac{\\infty}{\\infty}) =\n",
    "$$\n",
    "\n",
    "Поделим на $ n^n $.\n",
    "\n",
    "$$\n",
    "q\n",
    "= \\lim_{n \\to \\infty} \\frac{1 + \\frac{1}{n} + ...}{n+1}\n",
    "= \\frac{1}{\\infty}\n",
    "= 0\n",
    "$$"
   ]
  },
  {
   "cell_type": "markdown",
   "metadata": {},
   "source": [
    "$ q = 0 < 1 $, по признаку д'Аламбера ряд $ \\sum_{n=1}^{\\infty} \\frac{n^n}{(n!)^2} $ сходится."
   ]
  },
  {
   "cell_type": "markdown",
   "metadata": {},
   "source": [
    "2. Исследовать ряд на сходимость, используя радикальный признак Коши: \\\n",
    "$$ \\sum_{n=1}^{\\infty} \\frac{n}{2^n} $$"
   ]
  },
  {
   "cell_type": "markdown",
   "metadata": {},
   "source": [
    "радикальный признак Коши:\n",
    "\n",
    "$$\n",
    "q\n",
    "= \\lim_{n \\to +\\infty} \\sqrt[n]{\\frac{n}{2^n}}\n",
    "= \\lim_{n \\to +\\infty} \\frac{\\sqrt[n]{n}}{\\sqrt[n]{2^n}}\n",
    "= \\frac{1}{2}\n",
    "$$\n",
    "\n",
    "$ q = \\frac{1}{2} < 1 $, по радикальному признаку Коши ряд $ \\sum_{n=1}^{\\infty} \\frac{n}{2^n} $ сходится."
   ]
  },
  {
   "cell_type": "markdown",
   "metadata": {},
   "source": [
    "3. Исследовать ряд на сходимость, используя признак Лейбница: \\\n",
    "$$ \\sum_{n=1}^{\\infty} \\frac{(-1)^n}{n + ln(n)} $$"
   ]
  },
  {
   "cell_type": "markdown",
   "metadata": {},
   "source": [
    "проверяем условие\n",
    "$ \\lim_{n \\to \\infty} a_n = 0 $:\n",
    "\n",
    "$$\n",
    "\\lim_{n \\to \\infty} \\frac{(-1)^n}{n + ln(n)} = 0\n",
    "$$\n",
    "\n",
    "условие выполняется \\\n",
    "проверяем еще одно условие\n",
    "$ \\lim_{n \\to \\infty} a_n = 0 $:\n",
    "\n",
    "$$\n",
    "|\\frac{(-1)^n}{n + ln(n)}| \\geq |\\frac{(-1)^{n+1}}{n + 1 + ln(n+1)}| \\Rightarrow\n",
    "\\frac{1}{|n + ln(n)|} \\geq \\frac{1}{|n + 1 + ln(n+1)|}\n",
    "$$\n",
    "\n",
    "условие также выполняется\n",
    "\n",
    "По признаку Лейбница ряд $ \\sum_{n=1}^{\\infty} \\frac{(-1)^n}{n + ln(n)} $ сходится."
   ]
  },
  {
   "cell_type": "markdown",
   "metadata": {},
   "source": [
    "4. Исследовать ряд на сходимость, используя признак Раабе: \\\n",
    "$$ \\sum_{n=1}^{\\infty} \\frac{3^n}{2^n} $$"
   ]
  },
  {
   "cell_type": "markdown",
   "metadata": {},
   "source": [
    "$$\n",
    "D\n",
    "= \\lim_{n \\to \\infty} n * (\\frac{\\frac{3^n}{2^n}}{\\frac{3^{n+1}}{2^{n+1}}} - 1)\n",
    "= \\lim_{n \\to \\infty} n * \\frac{3^n * 2^{n+1}}{2^n * 3^{n+1}}\n",
    "= \\lim_{n \\to \\infty} n * \\frac{2}{3}\n",
    "= \\lim_{n \\to \\infty} \\frac{2}{3}n\n",
    "= \\infty\n",
    "$$\n",
    "\n",
    "$ D = \\infty > 1 $,по признаку Раабе ряд $ \\sum_{n=1}^{\\infty} \\frac{3^n}{2^n} $ сходится."
   ]
  },
  {
   "cell_type": "markdown",
   "metadata": {},
   "source": [
    "5. Разложить функцию по Тейлору в единице: \\\n",
    "$$ f(x) = ln(16x^2) $$"
   ]
  },
  {
   "cell_type": "markdown",
   "metadata": {},
   "source": [
    "Разложение в ряд Тейлора: $ \\large \\sum_{n=1}^{\\infty} \\frac{f^{(n)}(a)}{n!} * (x - a)^n $.\n",
    "\n",
    "$$\n",
    "\\sum_{n=1}^{\\infty} \\frac{f^{(n)}(a)}{n!} * (x - a)^n\n",
    "= \\frac{\\frac{32x}{16x^2}}{1!} * (x - 1)^1\n",
    "+ \\frac{-2\\frac{1}{x^2}}{2!} * (x - 1)^2\n",
    "+ \\frac{4\\frac{1}{x^3}}{3!} * (x - 1)^3\n",
    "+ \\frac{-12\\frac{1}{x^4}}{4!} * (x - 1)^4\n",
    "+ \\frac{48\\frac{1}{x^5}}{5!} * (x - 1)^5\n",
    "+ \\ ... \\\\\n",
    "=\n",
    "\\frac{2}{x} * (x - 1)^1\n",
    "- \\frac{1}{x^2} * (x - 1)^2\n",
    "+ \\frac{2}{3x^3} * (x - 1)^3\n",
    "- \\frac{1}{2x^4} * (x - 1)^4\n",
    "+ \\frac{2}{5x^5} * (x - 1)^5\n",
    "+ \\ ...\n",
    "$$\n"
   ]
  },
  {
   "cell_type": "code",
   "execution_count": null,
   "metadata": {},
   "outputs": [],
   "source": []
  }
 ],
 "metadata": {
  "kernelspec": {
   "display_name": "Python 3",
   "language": "python",
   "name": "python3"
  },
  "language_info": {
   "codemirror_mode": {
    "name": "ipython",
    "version": 3
   },
   "file_extension": ".py",
   "mimetype": "text/x-python",
   "name": "python",
   "nbconvert_exporter": "python",
   "pygments_lexer": "ipython3",
   "version": "3.8.3"
  }
 },
 "nbformat": 4,
 "nbformat_minor": 4
}
