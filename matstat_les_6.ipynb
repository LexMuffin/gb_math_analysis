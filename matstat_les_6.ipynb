{
 "cells": [
  {
   "cell_type": "code",
   "execution_count": 8,
   "metadata": {},
   "outputs": [],
   "source": [
    "import math\n",
    "import numpy as np\n",
    "import pandas as pd\n",
    "import scipy.stats as stats"
   ]
  },
  {
   "cell_type": "markdown",
   "metadata": {},
   "source": [
    "# Задание 1\n",
    "Даны значения величины заработной платы заемщиков банка (zp) и значения их поведенческого кредитного скоринга (ks):\n",
    "zp = [35, 45, 190, 200, 40, 70, 54, 150, 120, 110],\n",
    "ks = [401, 574, 874, 919, 459, 739, 653, 902, 746, 832].\n",
    "Найдите ковариацию этих двух величин с помощью элементарных действий, а затем с помощью функции cov из numpy\n",
    "Полученные значения должны быть равны.\n",
    "Найдите коэффициент корреляции Пирсона с помощью ковариации и среднеквадратичных отклонений двух признаков,\n",
    "а затем с использованием функций из библиотек numpy и pandas."
   ]
  },
  {
   "cell_type": "code",
   "execution_count": 9,
   "metadata": {},
   "outputs": [
    {
     "name": "stdout",
     "output_type": "stream",
     "text": [
      "         Ковариация  Корреляиця\n",
      "Вручную     9157.84     0.88749\n",
      "Numpy       9157.84     0.88749\n"
     ]
    }
   ],
   "source": [
    "zp = np.array([35, 45, 190, 200, 40, 70, 54, 150, 120, 110])\n",
    "ks = np.array([401, 574, 874, 919, 459, 739, 653, 902, 746, 832])\n",
    "\n",
    "mean_zp_ks = sum(zp * ks) / len(zp)\n",
    "mean_zp = sum(zp) / len(zp)\n",
    "mean_ks = sum(ks) / len(ks)\n",
    "\n",
    "cov_hand = mean_zp_ks - mean_zp * mean_ks\n",
    "#print(f'Ковариация(вручную) zp и ks - {cov_hand}')\n",
    "\n",
    "cov_np = np.cov(zp, ks, ddof=0)[0][1]\n",
    "#print(f'Ковариация(numpy) zp и ks - {cov_np}')\n",
    "\n",
    "std_zp = math.sqrt(sum(np.power(zp - mean_zp, 2)) / len(zp))\n",
    "std_ks = math.sqrt(sum(np.power(ks - mean_ks, 2)) / len(ks))\n",
    "\n",
    "cor_hand = cov_hand / (std_zp * std_ks)\n",
    "#print(f'Кореляция(вручную) zp и ks - {cor_hand}')\n",
    "cor_np = np.corrcoef(zp, ks)[0][1]\n",
    "#print(f'Кореляция(numpy) zp и ks - {cor_np}')\n",
    "\n",
    "result = pd.DataFrame([[cov_hand, cor_np], [cov_hand, cor_np]], columns= ['Ковариация', 'Корреляиця'], index= ['Вручную', 'Numpy'])\n",
    "print(result)"
   ]
  },
  {
   "cell_type": "markdown",
   "metadata": {},
   "source": [
    "# Задание 2\n",
    "Измерены значения IQ выборки студентов,\n",
    "обучающихся в местных технических вузах:\n",
    "131, 125, 115, 122, 131, 115, 107, 99, 125, 111.\n",
    "Известно, что в генеральной совокупности IQ распределен нормально.\n",
    "Найдите доверительный интервал для математического ожидания с надежностью 0.95."
   ]
  },
  {
   "cell_type": "code",
   "execution_count": 33,
   "metadata": {},
   "outputs": [
    {
     "name": "stdout",
     "output_type": "stream",
     "text": [
      "Доверительный интервал - [111.05, 125.15]\n"
     ]
    }
   ],
   "source": [
    "data = np.array([131, 125, 115, 122, 131, 115, 107, 99, 125, 111])\n",
    "mean = sum(data) / len(data)\n",
    "std = math.sqrt(sum(np.power(data - mean, 2)) / len(data))\n",
    "conf = 0.95\n",
    "error = 1 - conf\n",
    "t_stat = stats.t.ppf(1 - error / 2, len(data))\n",
    "\n",
    "interval = [round(mean - std * t_stat / math.sqrt(len(data)), 2), round(mean + std * t_stat / math.sqrt(len(data)), 2)]\n",
    "\n",
    "print(f'Доверительный интервал - {interval}')"
   ]
  },
  {
   "cell_type": "markdown",
   "metadata": {},
   "source": [
    "# Задание 3\n",
    "Известно, что рост футболистов в сборной распределен нормально\n",
    "с дисперсией генеральной совокупности, равной 25 кв.см. Объем выборки равен 27,\n",
    "среднее выборочное составляет 174.2. Найдите доверительный интервал для математического\n",
    "ожидания с надежностью 0.95."
   ]
  },
  {
   "cell_type": "code",
   "execution_count": 38,
   "metadata": {},
   "outputs": [
    {
     "name": "stdout",
     "output_type": "stream",
     "text": [
      "Доверительный интервал - [172.23, 176.17]\n"
     ]
    }
   ],
   "source": [
    "var = 25\n",
    "n = 27\n",
    "mean = 174.2\n",
    "std = math.sqrt(var)\n",
    "conf = 0.95\n",
    "error = 1 - conf\n",
    "\n",
    "t_stat = stats.t.ppf(1 - error / 2, n)\n",
    "\n",
    "interval = [round(mean - std * t_stat / math.sqrt(n), 2), round(mean + std * t_stat / math.sqrt(n), 2)]\n",
    "\n",
    "print(f'Доверительный интервал - {interval}')"
   ]
  },
  {
   "cell_type": "markdown",
   "metadata": {},
   "source": []
  }
 ],
 "metadata": {
  "kernelspec": {
   "display_name": "Python 3",
   "language": "python",
   "name": "python3"
  },
  "language_info": {
   "codemirror_mode": {
    "name": "ipython",
    "version": 3
   },
   "file_extension": ".py",
   "mimetype": "text/x-python",
   "name": "python",
   "nbconvert_exporter": "python",
   "pygments_lexer": "ipython3",
   "version": "3.8.3"
  }
 },
 "nbformat": 4,
 "nbformat_minor": 4
}
