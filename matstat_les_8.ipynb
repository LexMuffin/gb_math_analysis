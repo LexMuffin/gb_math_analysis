{
 "cells": [
  {
   "cell_type": "markdown",
   "metadata": {},
   "source": [
    "# Задание 1\n",
    "Провести дисперсионный анализ для определения того, есть ли различия среднего роста среди взрослых футболистов, хоккеистов и штангистов. Даны значения роста в трех группах случайно выбранных спортсменов: Футболисты: 173, 175, 180, 178, 177, 185, 183, 182. Хоккеисты: 177, 179, 180, 188, 177, 172, 171, 184, 180. Штангисты: 172, 173, 169, 177, 166, 180, 178, 177, 172, 166, 170. alpha = 0.05."
   ]
  },
  {
   "cell_type": "code",
   "execution_count": 3,
   "metadata": {},
   "outputs": [],
   "source": [
    "import numpy as np"
   ]
  },
  {
   "cell_type": "code",
   "execution_count": 11,
   "metadata": {},
   "outputs": [
    {
     "name": "stdout",
     "output_type": "stream",
     "text": [
      "[179.125      178.66666667 172.72727273]\n",
      "[ 8  9 11]\n",
      "176.46428571428572\n",
      "830.9642857142854\n",
      "253.9074675324678\n",
      "577.0568181818182\n",
      "True\n",
      "30.776455026455015\n",
      "126.9537337662339\n",
      "23.08227272727273\n",
      "F_H = 5.500053450812598\n",
      "F_крит (alpha=0.95) = 3.38\n",
      "True\n",
      "0.30555761769498\n"
     ]
    }
   ],
   "source": [
    "football = np.array([173, 175, 180, 178, 177, 185, 183, 182])\n",
    "hockey = np.array([177, 179, 180, 188, 177, 172, 171, 184, 180])\n",
    "barbell = np.array([172, 173, 169, 177, 166, 180, 178, 177, 172, 166, 170])\n",
    "total_1d = np.concatenate([football, hockey, barbell], axis=0)\n",
    "total_2d = np.array([football, hockey, barbell], dtype=object)\n",
    "alpha = 0.05\n",
    "\n",
    "means = np.array([arr.mean() for arr in total_2d])\n",
    "print(means)\n",
    "lengths = np.array([len(arr) for arr in total_2d])\n",
    "print(lengths)\n",
    "\n",
    "total_mean = means.dot(lengths) / lengths.sum()\n",
    "print(total_mean)\n",
    "\n",
    "\n",
    "ss = sum((total_1d - total_mean)**2)\n",
    "print(ss)\n",
    "ss_groups = sum((means - total_mean)**2 * lengths)\n",
    "print(ss_groups)\n",
    "ss_res = sum([arr.sum() for arr in (total_2d - means)**2])\n",
    "print(ss_res)\n",
    "print(ss - (ss_groups + ss_res) <= 0.1)\n",
    "\n",
    "\n",
    "var_mean = ss / (len(total_1d) - 1)\n",
    "print(var_mean)\n",
    "var_factors = ss_groups / (len(total_2d) - 1)\n",
    "print(var_factors)\n",
    "var_res = ss_res / (len(total_1d) - len(total_2d))\n",
    "print(var_res)\n",
    "\n",
    "F_H = var_factors / var_res\n",
    "print(f'F_H = {F_H}')\n",
    "F_crit = 3.38\n",
    "print(f'F_крит (alpha=0.95) = {F_crit}')\n",
    "\n",
    "print(abs(F_H) > F_crit)\n",
    "\n",
    "n_2 = ss_groups / ss\n",
    "print(n_2)"
   ]
  }
 ],
 "metadata": {
  "kernelspec": {
   "display_name": "Python 3",
   "language": "python",
   "name": "python3"
  },
  "language_info": {
   "codemirror_mode": {
    "name": "ipython",
    "version": 3
   },
   "file_extension": ".py",
   "mimetype": "text/x-python",
   "name": "python",
   "nbconvert_exporter": "python",
   "pygments_lexer": "ipython3",
   "version": "3.8.3"
  }
 },
 "nbformat": 4,
 "nbformat_minor": 4
}
