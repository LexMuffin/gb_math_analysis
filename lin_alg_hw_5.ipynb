{
 "cells": [
  {
   "cell_type": "code",
   "execution_count": 4,
   "metadata": {},
   "outputs": [],
   "source": [
    "import numpy as np\n",
    "np.set_printoptions(precision=3)"
   ]
  },
  {
   "cell_type": "markdown",
   "metadata": {},
   "source": [
    "## Тема 5 - Сингулярное разложение матриц"
   ]
  },
  {
   "cell_type": "markdown",
   "metadata": {
    "id": "aoo5c_Q0Czsp"
   },
   "source": [
    "#### **1. Найти с помощью NumPy SVD для матрицы:**\n",
    "\n",
    "$\n",
    "\\begin{pmatrix}\n",
    "    1 & 2 & 0\\\\ \n",
    "    0 & 0 & 5\\\\ \n",
    "    3 & -4 & 2\\\\ \n",
    "    1 & 6 & 5\\\\ \n",
    "    0 & 1 & 0\n",
    "\\end{pmatrix}\n",
    "$"
   ]
  },
  {
   "cell_type": "code",
   "execution_count": 5,
   "metadata": {
    "colab": {
     "base_uri": "https://localhost:8080/"
    },
    "id": "rXnJC-oHCzpE",
    "outputId": "0df7d1cc-9e2f-4576-c41b-fbce2bef8652"
   },
   "outputs": [
    {
     "name": "stdout",
     "output_type": "stream",
     "text": [
      "Матрица A:\n",
      "[[ 1  2  0]\n",
      " [ 0  0  5]\n",
      " [ 3 -4  2]\n",
      " [ 1  6  5]\n",
      " [ 0  1  0]]\n"
     ]
    }
   ],
   "source": [
    "A = np.array([\n",
    "    [1, 2, 0],\n",
    "    [0, 0, 5],\n",
    "    [3, -4, 2],\n",
    "    [1, 6, 5],\n",
    "    [0, 1, 0],\n",
    "])\n",
    "print(f'Матрица A:\\n{A}')"
   ]
  },
  {
   "cell_type": "code",
   "execution_count": 6,
   "metadata": {
    "id": "jDJ4H2olCzpS"
   },
   "outputs": [],
   "source": [
    "U, s, W = np.linalg.svd(A)\n",
    "\n",
    "V = W.T\n",
    "\n",
    "D = np.zeros_like(A, dtype=float)\n",
    "D[np.diag_indices(min(A.shape))] = s"
   ]
  },
  {
   "cell_type": "code",
   "execution_count": 7,
   "metadata": {
    "colab": {
     "base_uri": "https://localhost:8080/"
    },
    "id": "bCVxXBkeCzpX",
    "outputId": "4e4feb8f-305b-4b4e-a59b-4e088aa7ef95"
   },
   "outputs": [
    {
     "name": "stdout",
     "output_type": "stream",
     "text": [
      "Матрица D:\n",
      "[[8.825 0.    0.   ]\n",
      " [0.    6.141 0.   ]\n",
      " [0.    0.    2.533]\n",
      " [0.    0.    0.   ]\n",
      " [0.    0.    0.   ]]\n"
     ]
    }
   ],
   "source": [
    "print(f'Матрица D:\\n{D}')"
   ]
  },
  {
   "cell_type": "code",
   "execution_count": 8,
   "metadata": {
    "id": "SFK1AXYSCzpe",
    "outputId": "3045ea24-3f51-4895-ad13-c8350a2720e8"
   },
   "outputs": [
    {
     "name": "stdout",
     "output_type": "stream",
     "text": [
      "Матрица U:\n",
      "[[ 0.171  0.157 -0.531 -0.799 -0.162]\n",
      " [ 0.393 -0.529  0.613 -0.434  0.031]\n",
      " [-0.144 -0.824 -0.524  0.14   0.074]\n",
      " [ 0.888  0.061 -0.247  0.378 -0.06 ]\n",
      " [ 0.081  0.108 -0.082 -0.105  0.982]]\n"
     ]
    }
   ],
   "source": [
    "print(f'Матрица U:\\n{U}')"
   ]
  },
  {
   "cell_type": "code",
   "execution_count": 9,
   "metadata": {
    "id": "Tvvs98MrCzqe",
    "outputId": "4290e069-8ed3-4c51-b517-bfc016cc76be"
   },
   "outputs": [
    {
     "name": "stdout",
     "output_type": "stream",
     "text": [
      "[[ 1.000e+00  6.317e-17 -1.753e-16 -1.179e-16 -8.578e-18]\n",
      " [ 6.317e-17  1.000e+00  8.260e-17 -5.173e-17  3.827e-18]\n",
      " [-1.753e-16  8.260e-17  1.000e+00 -2.718e-16 -9.895e-17]\n",
      " [-1.179e-16 -5.173e-17 -2.718e-16  1.000e+00 -2.613e-17]\n",
      " [-8.578e-18  3.827e-18 -9.895e-17 -2.613e-17  1.000e+00]]\n"
     ]
    }
   ],
   "source": [
    "print(np.dot(U.T, U))"
   ]
  },
  {
   "cell_type": "code",
   "execution_count": 10,
   "metadata": {
    "id": "mK16DBz-Czqm",
    "outputId": "0f99eb13-a66d-4f58-9a08-bbba10da105b"
   },
   "outputs": [
    {
     "name": "stdout",
     "output_type": "stream",
     "text": [
      "Матрица V:\n",
      "[[ 0.071 -0.367 -0.927]\n",
      " [ 0.717  0.665 -0.208]\n",
      " [ 0.693 -0.65   0.311]]\n"
     ]
    }
   ],
   "source": [
    "print(f'Матрица V:\\n{V}')"
   ]
  },
  {
   "cell_type": "code",
   "execution_count": 12,
   "metadata": {
    "id": "S82LygdpCzqt",
    "outputId": "e46ea501-dc08-424e-ecd2-e867d6757675"
   },
   "outputs": [
    {
     "name": "stdout",
     "output_type": "stream",
     "text": [
      "[[ 1.000e+00  1.233e-16  1.615e-17]\n",
      " [ 1.233e-16  1.000e+00 -2.212e-17]\n",
      " [ 1.615e-17 -2.212e-17  1.000e+00]]\n"
     ]
    }
   ],
   "source": [
    "print(np.dot(V.T, V))"
   ]
  },
  {
   "cell_type": "code",
   "execution_count": 13,
   "metadata": {
    "id": "y7vNuHHACzq0",
    "outputId": "3810d804-963a-41f3-f43a-02f0e816fa17"
   },
   "outputs": [
    {
     "name": "stdout",
     "output_type": "stream",
     "text": [
      "[[ 1.000e+00  2.000e+00  5.694e-16]\n",
      " [ 1.032e-15 -2.166e-15  5.000e+00]\n",
      " [ 3.000e+00 -4.000e+00  2.000e+00]\n",
      " [ 1.000e+00  6.000e+00  5.000e+00]\n",
      " [-1.059e-16  1.000e+00  5.529e-17]]\n"
     ]
    }
   ],
   "source": [
    "print(np.dot(np.dot(U, D), V.T))"
   ]
  },
  {
   "cell_type": "markdown",
   "metadata": {
    "id": "aoo5c_Q0Czsp"
   },
   "source": [
    "#### **2. Для матрицы из предыдущего задания найти:**\n",
    "а) евклидову норму; \\\n",
    "б) норму Фробениуса."
   ]
  },
  {
   "cell_type": "markdown",
   "metadata": {},
   "source": [
    "а) Евклидова норма (равна первому элементу матрицы D)"
   ]
  },
  {
   "cell_type": "code",
   "execution_count": 14,
   "metadata": {},
   "outputs": [
    {
     "name": "stdout",
     "output_type": "stream",
     "text": [
      "True\n"
     ]
    },
    {
     "data": {
      "text/plain": [
       "8.824868854820444"
      ]
     },
     "execution_count": 14,
     "metadata": {},
     "output_type": "execute_result"
    }
   ],
   "source": [
    "norm_euclid = np.linalg.norm(A, ord=2)\n",
    "print(round(norm_euclid, 6) == round(D[0, 0], 6))\n",
    "norm_euclid"
   ]
  },
  {
   "cell_type": "markdown",
   "metadata": {},
   "source": [
    "б) Норма Фробениуса (равна корню суммы квадратов элементов матрицы D)"
   ]
  },
  {
   "cell_type": "code",
   "execution_count": 32,
   "metadata": {},
   "outputs": [
    {
     "name": "stdout",
     "output_type": "stream",
     "text": [
      "True\n"
     ]
    },
    {
     "data": {
      "text/plain": [
       "11.045361017187261"
      ]
     },
     "execution_count": 32,
     "metadata": {},
     "output_type": "execute_result"
    }
   ],
   "source": [
    "norm_frob = np.linalg.norm(A, ord='fro')\n",
    "print(round(norm_frob, 6) == round(np.sqrt(np.sum(D**2)), 6))\n",
    "norm_frob"
   ]
  }
 ],
 "metadata": {
  "kernelspec": {
   "display_name": "Python 3",
   "language": "python",
   "name": "python3"
  },
  "language_info": {
   "codemirror_mode": {
    "name": "ipython",
    "version": 3
   },
   "file_extension": ".py",
   "mimetype": "text/x-python",
   "name": "python",
   "nbconvert_exporter": "python",
   "pygments_lexer": "ipython3",
   "version": "3.8.3"
  }
 },
 "nbformat": 4,
 "nbformat_minor": 4
}
