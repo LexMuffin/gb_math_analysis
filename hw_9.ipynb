{
 "cells": [
  {
   "cell_type": "markdown",
   "metadata": {},
   "source": [
    "# Тема 8 “Понятие об интеграле”"
   ]
  },
  {
   "cell_type": "markdown",
   "metadata": {},
   "source": [
    "1. Найти неопределенный интеграл: \\\n",
    "$$ \\large \\int (2x^2 - 2x - 1 + sin(x) - cos(x) + ln(x) + e^x)dx $$"
   ]
  },
  {
   "cell_type": "markdown",
   "metadata": {},
   "source": [
    "$\n",
    "\\int (2x^2 - 2x - 1 + sin(x) - cos(x) + ln(x) + e^x)dx \\\\\n",
    "= \\int 2x^2dx - \\int 2xdx - \\int 1dx + \\int sin(x)dx - \\int cos(x)dx + \\int ln(x)dx + \\int e^xdx \\\\\n",
    "= \\frac{2}{3}x^3 - x^2 - x - cos(x) - sin(x) + e^x + C + \\int ln(x)dx\n",
    "$\n",
    "\n",
    "Интегрируем $ \\int ln(x)dx $ по частям:\n",
    "\n",
    "$\n",
    "\\int ln(x)dx\n",
    "= x * ln(x) - \\int x * \\frac{1}{x}dx\n",
    "= x * ln(x) - x + C\n",
    "$\n",
    "\n",
    "Итого:\n",
    "\n",
    "$\n",
    "\\frac{2}{3}x^3 - x^2 - x - cos(x) - sin(x) + e^x + C + \\int ln(x)dx \\\\\n",
    "= \\frac{2}{3}x^3 - x^2 - x - cos(x) - sin(x) + x * ln(x) - x + e^x + C\n",
    "$"
   ]
  },
  {
   "cell_type": "markdown",
   "metadata": {},
   "source": [
    "2. Найти неопределенный интеграл: \\\n",
    "$$ \\large \\int (2x + 6xz^2 - 5x^2y - 3ln(z))dx $$"
   ]
  },
  {
   "cell_type": "markdown",
   "metadata": {},
   "source": [
    "$\n",
    "\\int (2x + 6xz^2 - 5x^2y - 3ln(z))dx \\\\\n",
    "= \\int 2xdx + \\int 6xz^2dx - \\int 5x^2ydx - \\int 3ln(z)dx \\\\\n",
    "= x^2 + 3x^2z^2 - \\frac{5}{3} x^3y - 3xln(z) + C\n",
    "$"
   ]
  },
  {
   "cell_type": "markdown",
   "metadata": {},
   "source": [
    "3. Вычислить определенный интеграл: \\\n",
    "$$ \\large \\int_{0}^{\\pi} 3x^2 * sin(2x) dx $$"
   ]
  },
  {
   "cell_type": "markdown",
   "metadata": {},
   "source": [
    "$\n",
    "\\int 3x^2 * sin(2x) dx = (U = 3x^2, dV = sin(2x)dx \\Rightarrow dU = 6xdx, V = -\\frac{1}{2}cos(2x)) = \\\\\n",
    "= -\\frac{3}{2}x^2 cos(2x) + \\frac{6}{2}\\int x cos(2x)dx = (U = x, dV = cos(2x)dx \\Rightarrow dU = dx, V = \\frac{1}{2}sin(2x)) = \\\\\n",
    "= -\\frac{3}{2}x^2 cos(2x) + 3(\\frac{1}{2}x sin(2x) - \\frac{1}{2} \\int sin(2x)dx) = (sin(2x)dx = \\frac{1}{2}sin(2x)d(2x)) = \\\\\n",
    "= -\\frac{3}{2}x^2 cos(2x) + \\frac{3}{2}(x sin(2x) - \\frac{1}{2} \\int sin(2x)d(2x)) = \\\\\n",
    "= -\\frac{3}{2}x^2 cos(2x) + \\frac{3}{2}(x sin(2x) + \\frac{1}{2} cos(2x) + C) = \\\\\n",
    "= -\\frac{3}{2}(x^2 cos(2x) + x sin(2x) + \\frac{1}{2}cos(2x)) + C\n",
    "$\n",
    "\n",
    "Определенный интеграл интеграл\n",
    "\n",
    "$\n",
    "(-\\frac{3}{2}(x^2 cos(2x) + x sin(2x) + \\frac{1}{2}cos(2x)) + C) \\ \\Big |_{0}^{\\pi} \\\\\n",
    "= -\\frac{3}{2}(\\pi^2 cos(2\\pi) + \\pi sin(2\\pi) + \\frac{1}{2}cos(2\\pi) + C) + \\frac{3}{2}(0^2 cos(0) + 0sin(0) + \\frac{1}{2}cos(0) + C) \\\\\n",
    "= -\\frac{3}{2}(\\pi^2 + 0 + \\frac{1}{2} + 0 + 0 + \\frac{1}{2}) \\\\\n",
    "= -\\frac{3}{2}\\pi^2\n",
    "$"
   ]
  },
  {
   "cell_type": "markdown",
   "metadata": {},
   "source": [
    "4. Найти неопределенный интеграл: \\\n",
    "$$ \\large \\int \\frac{1}{\\sqrt{x + 1}} dx $$"
   ]
  },
  {
   "cell_type": "markdown",
   "metadata": {},
   "source": [
    "$ \\large\n",
    "\\int \\frac{1}{\\sqrt{x + 1}} dx\n",
    "= \\int (x + 1)^{-\\frac{1}{2}} dx\n",
    "= \\int (x + 1)^{-\\frac{1}{2}} d(x + 1)\n",
    "= 2(x + 1)^{\\frac{1}{2}} + C\n",
    "= 2 \\sqrt{x + 1} + C\n",
    "$"
   ]
  },
  {
   "cell_type": "code",
   "execution_count": null,
   "metadata": {},
   "outputs": [],
   "source": []
  }
 ],
 "metadata": {
  "kernelspec": {
   "display_name": "Python 3",
   "language": "python",
   "name": "python3"
  },
  "language_info": {
   "codemirror_mode": {
    "name": "ipython",
    "version": 3
   },
   "file_extension": ".py",
   "mimetype": "text/x-python",
   "name": "python",
   "nbconvert_exporter": "python",
   "pygments_lexer": "ipython3",
   "version": "3.8.3"
  }
 },
 "nbformat": 4,
 "nbformat_minor": 4
}
