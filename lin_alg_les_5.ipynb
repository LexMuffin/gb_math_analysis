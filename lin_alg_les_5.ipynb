{
 "cells": [
  {
   "cell_type": "code",
   "execution_count": 2,
   "metadata": {},
   "outputs": [],
   "source": [
    "import numpy as np"
   ]
  },
  {
   "cell_type": "markdown",
   "metadata": {},
   "source": [
    "# Задание 1.\n",
    "Найти собственные векторы и собственные значения для линейного оператора, заданного матрицей:\n",
    "\n",
    "$\n",
    "A =\n",
    "\\begin{bmatrix}\n",
    "    -1 & -6 \\\\ \n",
    "    2 & 6\n",
    "\\end{bmatrix}\n",
    "$."
   ]
  },
  {
   "cell_type": "markdown",
   "metadata": {},
   "source": [
    "Решим характеристическое уравнение линейного оператора $ A $.\n",
    "\n",
    "$\n",
    "det(\\begin{bmatrix}\n",
    "    -1 - \\lambda & -6 \\\\ \n",
    "    2 & 6 - \\lambda\n",
    "\\end{bmatrix})\n",
    "= 0\n",
    "$\n",
    "\n",
    "$\n",
    "(\\lambda - 6)(\\lambda + 1) + 6 * 2 = \\lambda^2 - 5\\lambda - 6 + 12 = 0\n",
    "$\n",
    "\n",
    "$\n",
    "\\lambda^2 - 5\\lambda + 6 = 0\n",
    "$\n",
    "\n",
    "$\n",
    "\\lambda = 2; 3\n",
    "$"
   ]
  },
  {
   "cell_type": "markdown",
   "metadata": {},
   "source": [
    "Найдем собственные векторы для обоих значений $ \\lambda $, подставив их в уравнение для собственных векторов $ Ax = \\lambda x $."
   ]
  },
  {
   "cell_type": "markdown",
   "metadata": {},
   "source": [
    "$ \\lambda = 2 $:\n",
    "\n",
    "$\n",
    "\\begin{bmatrix}\n",
    "    -1 & -6 \\\\ \n",
    "    2 & 6\n",
    "\\end{bmatrix}\n",
    "x\n",
    "= 2x\n",
    "\\Rightarrow\n",
    "\\begin{bmatrix} -1x_1 \\\\ 2x_1 \\end{bmatrix} + \\begin{bmatrix} -6x_2 \\\\ 6x_2 \\end{bmatrix} = \\begin{bmatrix} 2x_1 \\\\ 2x_2 \\end{bmatrix}\n",
    "\\Rightarrow\n",
    "\\begin{cases}\n",
    "-x_1 - 6x_2 = 2x_1 \\\\\n",
    "2x_1 + 6x_2 = 2x_2\n",
    "\\end{cases}\n",
    "\\Rightarrow\n",
    "\\begin{cases}\n",
    "x_1 = -2x_2 \\\\\n",
    "x_1 = -2x_2\n",
    "\\end{cases}\n",
    "\\Rightarrow\n",
    "x_1 = -2x_2\n",
    "$\n",
    "\n",
    "Для $ \\lambda = 2 $ собственный вектор $ \\hat{v} = \\begin{bmatrix} -2 \\\\ 1 \\end{bmatrix} $. \\\n",
    "Если выразить это в формате единичного вектора, то $ \\hat{v} = \\begin{bmatrix} -\\frac{2}{\\sqrt{5}} \\\\ \\frac{1}{\\sqrt{5}} \\end{bmatrix} = \\begin{bmatrix} -0.8944 \\\\ 0.4472 \\end{bmatrix} $."
   ]
  },
  {
   "cell_type": "markdown",
   "metadata": {},
   "source": [
    "$ \\lambda = 3 $:\n",
    "\n",
    "$\n",
    "\\begin{bmatrix}\n",
    "    -1 & -6 \\\\ \n",
    "    2 & 6\n",
    "\\end{bmatrix}\n",
    "x\n",
    "= 3x\n",
    "\\Rightarrow\n",
    "\\begin{bmatrix} -1x_1 \\\\ 2x_1 \\end{bmatrix} + \\begin{bmatrix} -6x_2 \\\\ 6x_2 \\end{bmatrix} = \\begin{bmatrix} 3x_1 \\\\ 3x_2 \\end{bmatrix}\n",
    "\\Rightarrow\n",
    "\\begin{cases}\n",
    "-x_1 - 6x_2 = 3x_1 \\\\\n",
    "2x_1 + 6x_2 = 3x_2\n",
    "\\end{cases}\n",
    "\\Rightarrow\n",
    "\\begin{cases}\n",
    "2x_1 = -3x_2 \\\\\n",
    "2x_1 = -3x_2\n",
    "\\end{cases}\n",
    "\\Rightarrow\n",
    "x_1 = -\\frac{3}{2}x_2\n",
    "$\n",
    "\n",
    "Для $ \\lambda = 3 $ собственный вектор $ \\hat{v} = \\begin{bmatrix} \\frac{3}{2} \\\\ -1 \\end{bmatrix} $. \\\n",
    "Если выразить это в формате единичного вектора, то $ \\hat{v} = \\begin{bmatrix} \\frac{5}{6} \\\\ -\\frac{5}{9} \\end{bmatrix} = \\begin{bmatrix} 0.8333 \\\\ -0.5556 \\end{bmatrix} $."
   ]
  },
  {
   "cell_type": "code",
   "execution_count": 17,
   "metadata": {},
   "outputs": [
    {
     "data": {
      "text/plain": [
       "(array([2., 3.]),\n",
       " array([[-0.89442719,  0.83205029],\n",
       "        [ 0.4472136 , -0.5547002 ]]))"
      ]
     },
     "execution_count": 17,
     "metadata": {},
     "output_type": "execute_result"
    }
   ],
   "source": [
    "a = np.array([[-1, -6], [2, 6]])\n",
    "np.linalg.eig(a)"
   ]
  },
  {
   "cell_type": "markdown",
   "metadata": {},
   "source": [
    "# Задание 2.\n",
    "Дан оператор поворота на 180 градусов, задаваемый матрицей:\n",
    "\n",
    "$\n",
    "A =\n",
    "\\begin{bmatrix}\n",
    "    -1 & 0\\\\ \n",
    "    0 & -1\n",
    "\\end{bmatrix}\n",
    "$.\n",
    "\n",
    "Показать, что __любой__ вектор является для него собственным."
   ]
  },
  {
   "cell_type": "markdown",
   "metadata": {},
   "source": [
    "Решим характеристическое уравнение линейного оператора $ A $.\n",
    "\n",
    "$\n",
    "det(\\begin{bmatrix}\n",
    "    -1 - \\lambda & 0\\\\ \n",
    "    0 & -1 - \\lambda\n",
    "\\end{bmatrix})\n",
    "= 0\n",
    "$\n",
    "\n",
    "$\n",
    "(-1 - \\lambda)(-1 - \\lambda) + 0 * 0 = (1 + \\lambda)^2 = 0\n",
    "$\n",
    "\n",
    "$\n",
    "\\lambda = -1\n",
    "$"
   ]
  },
  {
   "cell_type": "markdown",
   "metadata": {},
   "source": [
    "Найдем собственные векторы для обоих значений $ \\lambda $, подставив их в уравнение для собственных векторов $ Ax = \\lambda x $."
   ]
  },
  {
   "cell_type": "markdown",
   "metadata": {},
   "source": [
    "$ \\lambda = -1 $:\n",
    "\n",
    "$\n",
    "\\begin{bmatrix}\n",
    "    -1 & 0 \\\\ \n",
    "    0 & -1\n",
    "\\end{bmatrix}\n",
    "x\n",
    "= -x\n",
    "\\Rightarrow\n",
    "\\begin{bmatrix} -1x_1 \\\\ 0x_1 \\end{bmatrix} + \\begin{bmatrix} 0x_2 \\\\ -1x_2 \\end{bmatrix} = \\begin{bmatrix} -1x_1 \\\\ -1x_2 \\end{bmatrix}\n",
    "\\Rightarrow\n",
    "\\begin{cases}\n",
    "-x_1 = -x_1 \\\\\n",
    "-x_2 = -x_2\n",
    "\\end{cases}\n",
    "\\Rightarrow\n",
    "\\begin{cases}\n",
    "0x_1 = 0 \\\\\n",
    "0x_2 = 0\n",
    "\\end{cases}\n",
    "$"
   ]
  },
  {
   "cell_type": "code",
   "execution_count": 14,
   "metadata": {},
   "outputs": [
    {
     "data": {
      "text/plain": [
       "(array([-1., -1.]),\n",
       " array([[1., 0.],\n",
       "        [0., 1.]]))"
      ]
     },
     "execution_count": 14,
     "metadata": {},
     "output_type": "execute_result"
    }
   ],
   "source": [
    "a = np.array([[-1, 0], [0, -1]])\n",
    "np.linalg.eig(a)"
   ]
  },
  {
   "cell_type": "markdown",
   "metadata": {},
   "source": [
    "# Задание 3.\n",
    "Пусть линейный оператор задан матрицей:\n",
    "\n",
    "$\n",
    "A =\n",
    "\\begin{bmatrix}\n",
    "    1 & 1 \\\\ \n",
    "    -1 & 3\n",
    "\\end{bmatrix}\n",
    "$.\n",
    "\n",
    "Установить, является ли вектор $x=(1,1)$ собственным вектором этого линейного оператора."
   ]
  },
  {
   "cell_type": "markdown",
   "metadata": {},
   "source": [
    "Проверим вектор $ x = (1, 1) $, подставив его в уравнение для собственных векторов $ Ax = \\lambda x $.\n",
    "\n",
    "$\n",
    "\\begin{bmatrix}\n",
    "    1 & 1 \\\\ \n",
    "    -1 & 3\n",
    "\\end{bmatrix}\n",
    "\\begin{bmatrix} 1 \\\\ 1 \\end{bmatrix}\n",
    "=\n",
    "\\lambda \\begin{bmatrix} 1 \\\\ 1 \\end{bmatrix}\n",
    "\\Rightarrow\n",
    "\\begin{bmatrix} 1 \\\\ -1 \\end{bmatrix}\n",
    "+\n",
    "\\begin{bmatrix} 1 \\\\ 3 \\end{bmatrix}\n",
    "=\n",
    "\\begin{bmatrix} \\lambda \\\\ \\lambda \\end{bmatrix}\n",
    "\\Rightarrow\n",
    "\\begin{cases}\n",
    "    2 = \\lambda \\\\\n",
    "    2 = \\lambda\n",
    "\\end{cases}\n",
    "\\Rightarrow\n",
    "\\lambda = 2\n",
    "$\n",
    "\n",
    "Получилось найти решение уравнения - $ \\lambda = 2 $. Следовательно, вектор $ x = (1, 1) $ является собственным вектором линейного оператора $ A $. \\\n",
    "В виде единичного вектора - $ x = (\\frac{1}{\\sqrt{2}}, \\frac{1}{\\sqrt{2}}) = (0.7071, 0.7071) $"
   ]
  },
  {
   "cell_type": "code",
   "execution_count": 15,
   "metadata": {},
   "outputs": [
    {
     "data": {
      "text/plain": [
       "(array([2.00000002, 1.99999998]),\n",
       " array([[ 0.70710677, -0.70710679],\n",
       "        [ 0.70710679, -0.70710677]]))"
      ]
     },
     "execution_count": 15,
     "metadata": {},
     "output_type": "execute_result"
    }
   ],
   "source": [
    "a = np.array([[1, 1], [-1, 3]])\n",
    "np.linalg.eig(a)"
   ]
  }
 ],
 "metadata": {
  "kernelspec": {
   "display_name": "Python 3",
   "language": "python",
   "name": "python3"
  },
  "language_info": {
   "codemirror_mode": {
    "name": "ipython",
    "version": 3
   },
   "file_extension": ".py",
   "mimetype": "text/x-python",
   "name": "python",
   "nbconvert_exporter": "python",
   "pygments_lexer": "ipython3",
   "version": "3.8.3"
  }
 },
 "nbformat": 4,
 "nbformat_minor": 4
}
