{
 "cells": [
  {
   "cell_type": "markdown",
   "metadata": {},
   "source": [
    "## Тема “Производные. Сплайны”"
   ]
  },
  {
   "cell_type": "markdown",
   "metadata": {},
   "source": [
    "1. Найти длину x и ширину y прямоугольника при заданном периметре P = 144 см, при которых данный прямоугольник имеет наибольшую площадь S."
   ]
  },
  {
   "cell_type": "markdown",
   "metadata": {},
   "source": [
    "Площадь прямоугольника $ S = x * y $ \\\n",
    "Периметр прямоугольника: $ P = 2x + 2y = 144 \\Rightarrow x + y = 72 $ \\\n",
    "Выращим площадь $ S_x = x * (72 - x) = -x^2 + 72x $ \\\n",
    "Дифференцируем функцию площади по x и найдем экстремумы: \\\n",
    "$$ S_x' = -2x + 72 = 0 $$\n",
    "$$ x = 36 \\Rightarrow y = 72 - x = 72 - 36 = 36 $$\n",
    "Точка $(36; 36)$ - максимум функции \\\n",
    "Площадь для этой точки: $ S = 36^2 = 1296 $"
   ]
  },
  {
   "cell_type": "markdown",
   "metadata": {},
   "source": []
  },
  {
   "cell_type": "markdown",
   "metadata": {},
   "source": [
    "2. Найти экстремумы функций (если они есть):\n",
    "    1. $ y = |2x| $\n",
    "    2. $ y = x^3 $\n",
    "    3. $ y = e^{3x} $\n",
    "    4. $ y = x^3 - 5x $"
   ]
  },
  {
   "cell_type": "markdown",
   "metadata": {},
   "source": [
    "$ y = |2x| $\n",
    "$$\n",
    "y'\n",
    "= (|2x|)'\n",
    "= \\frac{2 * |2x|}{2x}\n",
    "= 2 * \\frac{|x|}{x}\n",
    "$$\n",
    "$$ 2 * \\frac{|x|}{x} = 0 $$\n",
    "$$ x = 0 $$\n",
    "Это минимум функции"
   ]
  },
  {
   "cell_type": "markdown",
   "metadata": {},
   "source": [
    "$ y = x^3 $\n",
    "$$\n",
    "y'\n",
    "= (x^3)'\n",
    "= 3x^2\n",
    "$$\n",
    "$$ 3x^2 = 0 $$\n",
    "$$ x = 0 $$\n",
    "\n",
    "Это не экстремум, $ y'(-2) = 12 > 0, y'(10) = 300 > 0 $."
   ]
  },
  {
   "cell_type": "markdown",
   "metadata": {},
   "source": [
    "$ y = e^{3x} $\n",
    "$$\n",
    "y'\n",
    "= (e^{3x})'\n",
    "= 3 * e^{3x}\n",
    "$$\n",
    "$$ 3 * e^{3x} = 0 $$\n",
    "$$ x \\in \\emptyset $$\n",
    "Нет точек экстремума"
   ]
  },
  {
   "cell_type": "markdown",
   "metadata": {},
   "source": [
    "$ y = x^3 - 5x $\n",
    "$$\n",
    "y'\n",
    "= (x^3 - 5x)'\n",
    "= 3x^2 - 5\n",
    "$$\n",
    "$$ 3x^2 - 5 = 0 $$\n",
    "$$ x^2 = \\frac{5}{3} $$\n",
    "$$ x = \\pm \\sqrt{\\frac{5}{3}} $$\n",
    "Критические точки - $ x = -\\sqrt{\\frac{5}{3}} $ и $ x = \\sqrt{\\frac{5}{3}} $ \\\n",
    "Это экстремумы функции \\\n",
    "Точка $(-\\sqrt{\\frac{5}{3}}; \\sqrt{\\frac{500}{27}})$ - максимум функции, $(\\sqrt{\\frac{5}{3}}; -\\sqrt{\\frac{500}{27}})$ - минимум функции.\n",
    "\n",
    "**Ответ**: $\\large (-\\sqrt{\\frac{5}{3}}; \\sqrt{\\frac{500}{27}})$ - максимум, $\\large (\\sqrt{\\frac{5}{3}}; -\\sqrt{\\frac{500}{27}})$ - минимум."
   ]
  },
  {
   "cell_type": "code",
   "execution_count": null,
   "metadata": {},
   "outputs": [],
   "source": []
  }
 ],
 "metadata": {
  "kernelspec": {
   "display_name": "Python 3",
   "language": "python",
   "name": "python3"
  },
  "language_info": {
   "codemirror_mode": {
    "name": "ipython",
    "version": 3
   },
   "file_extension": ".py",
   "mimetype": "text/x-python",
   "name": "python",
   "nbconvert_exporter": "python",
   "pygments_lexer": "ipython3",
   "version": "3.8.3"
  }
 },
 "nbformat": 4,
 "nbformat_minor": 4
}
