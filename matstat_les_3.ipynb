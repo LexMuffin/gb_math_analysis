{
 "cells": [
  {
   "cell_type": "markdown",
   "metadata": {},
   "source": [
    "Задание 1\n",
    "Даны значения зарплат из выборки выпускников: 100, 80, 75, 77, 89, 33, 45, 25, 65, 17, 30, 24, 57, 55, 70, 75, 65, 84, 90, 150. Посчитать (желательно без использования статистических методов наподобие std, var, mean) среднее арифметическое, среднее квадратичное отклонение, смещенную и несмещенную оценки дисперсий для данной выборки."
   ]
  },
  {
   "cell_type": "code",
   "execution_count": 27,
   "metadata": {},
   "outputs": [],
   "source": [
    "import math\n",
    "from math import factorial"
   ]
  },
  {
   "cell_type": "code",
   "execution_count": 28,
   "metadata": {},
   "outputs": [],
   "source": [
    "def permutations(k, n):\n",
    "    return factorial(n) / factorial(n - k)"
   ]
  },
  {
   "cell_type": "code",
   "execution_count": 29,
   "metadata": {},
   "outputs": [],
   "source": [
    "def combinations(k, n):\n",
    "    return permutations(k, n) / factorial(k)"
   ]
  },
  {
   "cell_type": "code",
   "execution_count": 30,
   "metadata": {},
   "outputs": [
    {
     "name": "stdout",
     "output_type": "stream",
     "text": [
      "Среднее арифметическое - 65.3\n",
      "Среднее арифметическое 2 - 65.3\n",
      "Стандартное отклонение - 30.823854398825596\n",
      "Смещенная дисперсия - 950.11\n",
      "Несмещенная дисперсия - 1000.1157894736842\n"
     ]
    }
   ],
   "source": [
    "salaries = [100, 80, 75, 77, 89, 33, 45, 25, 65, 17, 30, 24, 57, 55, 70, 75, 65, 84, 90, 150]\n",
    "\n",
    "# Среднее арифметическое\n",
    "mean_salary = (100 + 80 + 75 + 77 + 89 + 33 + 45 + 25 + 65 + 17 + 30 + 24 + 57 + 55 + 70 + 75 + 65 + 84 + 90 + 150) / len(salaries)\n",
    "print(f'Среднее арифметическое - {mean_salary}')\n",
    "\n",
    "mean_salary = 0\n",
    "for i in range(len(salaries)):\n",
    "    mean_salary += salaries[i]\n",
    "    if i == len(salaries) - 1:\n",
    "        mean_salary = mean_salary / len(salaries)\n",
    "print(f'Среднее арифметическое 2 - {mean_salary}')\n",
    "\n",
    "# Средне квадратичное отклонение\n",
    "std = 0\n",
    "for i in range(len(salaries)):\n",
    "    std += (salaries[i] - mean_salary) ** 2\n",
    "    if i == len(salaries) - 1:\n",
    "        std = math.sqrt(std / len(salaries)) \n",
    "print(f'Стандартное отклонение - {std}')\n",
    "\n",
    "# Дисперсия смещенная\n",
    "variance = 0\n",
    "for i in range(len(salaries)):\n",
    "    variance += (salaries[i] - mean_salary) ** 2\n",
    "    if i == len(salaries) - 1:\n",
    "        variance = variance / len(salaries) \n",
    "print(f'Смещенная дисперсия - {variance}')\n",
    "\n",
    "# Дисперсия несмещенная\n",
    "variance2 = 0\n",
    "for i in range(len(salaries)):\n",
    "    variance2 += (salaries[i] - mean_salary) ** 2\n",
    "    if i == len(salaries) - 1:\n",
    "        variance2 = variance2 / (len(salaries) - 1) \n",
    "print(f'Несмещенная дисперсия - {variance2}')"
   ]
  },
  {
   "cell_type": "markdown",
   "metadata": {},
   "source": [
    "Задание 2\n",
    "В первом ящике находится 8 мячей, из которых 5 - белые. Во втором ящике - 12 мячей, из которых 5 белых. Из первого ящика вытаскивают случайным образом два мяча, из второго - 4. Какова вероятность того, что 3 мяча белые?"
   ]
  },
  {
   "cell_type": "code",
   "execution_count": 35,
   "metadata": {},
   "outputs": [
    {
     "name": "stdout",
     "output_type": "stream",
     "text": [
      "Три белых мяча = 0.3686868686868687\n"
     ]
    }
   ],
   "source": [
    "\n",
    "box1 = 8\n",
    "box1_w = 5\n",
    "\n",
    "box2 = 12\n",
    "box2_w = 5\n",
    "\n",
    "picked_1 = 2\n",
    "picked_2 = 4\n",
    "\n",
    "all_combinations = combinations(picked_1, box1) * combinations(picked_2, box2)\n",
    "# (0, 3), (1, 2), (2, 1)\n",
    "case_0_3 = (combinations(0, box1_w) * combinations(2, box1 - box1_w) \n",
    "                   * combinations(3, box2_w) * combinations(1, box2 - box2_w))\n",
    "case_1_2 = (combinations(1, box1_w) * combinations(1, box1 - box1_w)\n",
    "                   * combinations(2, box2_w) * combinations(2, box2 - box2_w))\n",
    "case_2_1 = (combinations(2, box1_w) * combinations(0, box1 - box1_w)\n",
    "                   * combinations(1, box2_w) * combinations(3, box2 - box2_w))\n",
    "\n",
    "cases = case_0_3 + case_1_2 + case_2_1\n",
    "probability = cases / all_combinations\n",
    "print(f'Три белых мяча = {probability}')"
   ]
  },
  {
   "cell_type": "markdown",
   "metadata": {},
   "source": [
    "Задание 3\n",
    "На соревновании по биатлону один из трех спортсменов стреляет и попадает в мишень. Вероятность попадания для первого спортсмена равна 0.9, для второго — 0.8, для третьего — 0.6. Найти вероятность того, что выстрел произведен: a). первым спортсменом б). вторым спортсменом в). третьим спортсменом."
   ]
  },
  {
   "cell_type": "code",
   "execution_count": 37,
   "metadata": {},
   "outputs": [
    {
     "name": "stdout",
     "output_type": "stream",
     "text": [
      "0.3913043478260869\n",
      "0.34782608695652173\n",
      "0.26086956521739124\n"
     ]
    }
   ],
   "source": [
    "p1 = 0.9\n",
    "p2 = 0.8\n",
    "p3 = 0.6\n",
    "\n",
    "hit_probability = (p1 + p2 + p3) / 3\n",
    "\n",
    "# a). первым спортсменом\n",
    "probability1 = (p1 / 3) / hit_probability\n",
    "print(probability1)\n",
    "# б). вторым спортсменом\n",
    "probability2 = (p2 / 3) / hit_probability\n",
    "print(probability2)\n",
    "# в). третьим спортсменом\n",
    "probability3 = (p3 / 3) / hit_probability\n",
    "print(probability3)"
   ]
  },
  {
   "cell_type": "markdown",
   "metadata": {},
   "source": [
    "Задание 4\n",
    "В университет на факультеты A и B поступило равное количество студентов, а на факультет C студентов поступило столько же, сколько на A и B вместе. Вероятность того, что студент факультета A сдаст первую сессию, равна 0.8. Для студента факультета B эта вероятность равна 0.7, а для студента факультета C - 0.9. Студент сдал первую сессию. Какова вероятность, что он учится: a). на факультете A б). на факультете B в). на факультете C?"
   ]
  },
  {
   "cell_type": "code",
   "execution_count": null,
   "metadata": {},
   "outputs": [],
   "source": [
    "a = 0.25\n",
    "b = 0.25\n",
    "c = 0.5\n",
    "\n",
    "pass_a = 0.8\n",
    "pass_b = 0.7\n",
    "pass_c = 0.9\n",
    "\n",
    "probability_pass = pass_a * a + pass_b * b + pass_c * c\n",
    "\n",
    "# a). на факультете A\n",
    "probability1 = (pass_a * a) / probability_pass\n",
    "print(probability1)\n",
    "# б). на факультете B\n",
    "probability2 = (pass_b * fac_b) / probability_pass\n",
    "print(probability2)\n",
    "# в). на факультете C\n",
    "probability3 = (pass_c * c) / probability_pass\n",
    "print(probability3)"
   ]
  },
  {
   "cell_type": "markdown",
   "metadata": {},
   "source": [
    "Задание 5\n",
    "Устройство состоит из трех деталей. Для первой детали вероятность выйти из строя в первый месяц равна 0.1, для второй - 0.2, для третьей - 0.25. Какова вероятность того, что в первый месяц выйдут из строя: а). все детали б). только две детали в). хотя бы одна деталь г). от одной до двух деталей?"
   ]
  },
  {
   "cell_type": "code",
   "execution_count": 42,
   "metadata": {},
   "outputs": [
    {
     "name": "stdout",
     "output_type": "stream",
     "text": [
      "0.005000000000000001\n",
      "0.08\n",
      "0.45999999999999996\n",
      "0.455\n"
     ]
    }
   ],
   "source": [
    "det_1 = 0.1\n",
    "det_2 = 0.2\n",
    "det_3 = 0.25\n",
    "\n",
    "# а). все детали\n",
    "probability1 = det_1 * det_2 * det_3\n",
    "print(probability1)\n",
    "# б). только две детали\n",
    "probability2 = ( (1 - det_1) * det_2 * det_3 + det_1 * (1 - det_2) * det_3 + det_1 * det_2 * (1 - det_3) )\n",
    "print(probability2)\n",
    "# в). хотя бы одна деталь\n",
    "probability3 = 1 - (1 - det_1) * (1 - det_2) * (1 - det_3)\n",
    "print(probability3)\n",
    "# г). от одной до двух деталей\n",
    "probability4 = (det_1 * (1 - det_2) * (1 - det_3) + (1 - det_1) * det_2 * (1 - det_3) + (1 - det_1) *\n",
    "                (1 - det_2) * det_3) + ((1 - det_1) * det_2 * det_3 + det_1 * (1 - det_2) * det_3 + det_1 * det_2 * (1 - det_3))\n",
    "print(probability4)"
   ]
  },
  {
   "cell_type": "code",
   "execution_count": null,
   "metadata": {},
   "outputs": [],
   "source": []
  }
 ],
 "metadata": {
  "kernelspec": {
   "display_name": "Python 3",
   "language": "python",
   "name": "python3"
  },
  "language_info": {
   "codemirror_mode": {
    "name": "ipython",
    "version": 3
   },
   "file_extension": ".py",
   "mimetype": "text/x-python",
   "name": "python",
   "nbconvert_exporter": "python",
   "pygments_lexer": "ipython3",
   "version": "3.8.3"
  }
 },
 "nbformat": 4,
 "nbformat_minor": 4
}
