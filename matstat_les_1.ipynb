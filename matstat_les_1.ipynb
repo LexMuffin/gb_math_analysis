{
 "cells": [
  {
   "cell_type": "code",
   "execution_count": 1,
   "metadata": {},
   "outputs": [],
   "source": [
    "from math import factorial"
   ]
  },
  {
   "cell_type": "code",
   "execution_count": 2,
   "metadata": {},
   "outputs": [],
   "source": [
    "def combinations(n, k):\n",
    "    return int(factorial(n) / (factorial(k) * factorial(n - k)))"
   ]
  },
  {
   "cell_type": "markdown",
   "metadata": {},
   "source": [
    "1. Из колоды в 52 карты извлекаются случайным образом 4 карты. a) Найти вероятность того, что все карты – крести. б) Найти вероятность, что среди 4-х карт окажется хотя бы один туз."
   ]
  },
  {
   "cell_type": "code",
   "execution_count": 9,
   "metadata": {},
   "outputs": [
    {
     "name": "stdout",
     "output_type": "stream",
     "text": [
      "Вероятность, что все крести = 0.0026410564225690276\n",
      "Вероятность, что хотя бы одна карта туз = 0.2812632745405855\n"
     ]
    }
   ],
   "source": [
    "# a)\n",
    "all_comb = combinations(52, 4)\n",
    "needed_comb = combinations(13, 4)\n",
    "final_prob = needed_comb / all_comb\n",
    "print(f'Вероятность, что все крести = {final_prob}')\n",
    "# также вероятность можно посчитать с помощью произведения 13/52 * 12/51 * 11/50 * 10/49 (события зависимые)\n",
    "\n",
    "# b)\n",
    "needed_comb = all_comb - combinations(48, 4)\n",
    "final_prob_2 = needed_comb / all_comb\n",
    "# также вероятность можно посчтитать (1 - (48/52 * 47/51 * 46/50 * 45/49)\n",
    "print(f'Вероятность, что хотя бы одна карта туз = {final_prob_2}')"
   ]
  },
  {
   "cell_type": "markdown",
   "metadata": {},
   "source": [
    "2. На входной двери подъезда установлен кодовый замок, содержащий десять кнопок с цифрами от 0 до 9. Код содержит три цифры, которые нужно нажать одновременно. Какова вероятность того, что человек, не знающий код, откроет дверь с первой попытки?"
   ]
  },
  {
   "cell_type": "code",
   "execution_count": 11,
   "metadata": {},
   "outputs": [
    {
     "name": "stdout",
     "output_type": "stream",
     "text": [
      "Вероятность отгадать код с первого раза 0.008333333333333333\n"
     ]
    }
   ],
   "source": [
    "all_comb = combinations(10, 3)\n",
    "final_prob_3 = 1 / all_comb\n",
    "print(f'Вероятность отгадать код с первого раза = {final_prob_3}')"
   ]
  },
  {
   "cell_type": "markdown",
   "metadata": {},
   "source": [
    "3. В ящике имеется 15 деталей, из которых 9 окрашены. Рабочий случайным образом извлекает 3 детали. Какова вероятность того, что все извлеченные детали окрашены?"
   ]
  },
  {
   "cell_type": "code",
   "execution_count": 13,
   "metadata": {},
   "outputs": [
    {
     "name": "stdout",
     "output_type": "stream",
     "text": [
      "Вероятность извлечь окрашенные детали 0.1846153846153846\n"
     ]
    }
   ],
   "source": [
    "# Вероятность извлечь окрашенные детали (зависимые события)\n",
    "final_prob_4 = 9/15 * 8/14 * 7/13\n",
    "print(f'Вероятность извлечь окрашенные детали = {final_prob_4}')"
   ]
  },
  {
   "cell_type": "markdown",
   "metadata": {},
   "source": [
    "4. В лотерее 100 билетов. Из них 2 выигрышных. Какова вероятность того, что 2 приобретенных билета окажутся выигрышными?"
   ]
  },
  {
   "cell_type": "code",
   "execution_count": 14,
   "metadata": {},
   "outputs": [
    {
     "name": "stdout",
     "output_type": "stream",
     "text": [
      "Вероятность извлечь 2 выигрышных билета = 0.00020202020202020202\n"
     ]
    }
   ],
   "source": [
    "# Вероятность извлечь 2 выигрышных билета\n",
    "final_prob_5 = 2/100 * 1/99\n",
    "print(f'Вероятность извлечь 2 выигрышных билета = {final_prob_5}')"
   ]
  }
 ],
 "metadata": {
  "kernelspec": {
   "display_name": "Python 3",
   "language": "python",
   "name": "python3"
  },
  "language_info": {
   "codemirror_mode": {
    "name": "ipython",
    "version": 3
   },
   "file_extension": ".py",
   "mimetype": "text/x-python",
   "name": "python",
   "nbconvert_exporter": "python",
   "pygments_lexer": "ipython3",
   "version": "3.8.3"
  }
 },
 "nbformat": 4,
 "nbformat_minor": 4
}
